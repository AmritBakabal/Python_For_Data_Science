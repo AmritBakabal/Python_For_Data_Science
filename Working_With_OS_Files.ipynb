{
 "cells": [
  {
   "cell_type": "markdown",
   "id": "ef49a80c",
   "metadata": {},
   "source": [
    "#### Working with OS\n",
    "\n",
    "<li>Python OS module is a collection of functions that allows a developer to interact with the Operating System using Python Language.</li>\n",
    "<li>This module works with every Operating System and has a list of functions and operations that can be executed.</li>\n",
    "<li>We can interact with the operating system by importing a os module(package).</li>\n",
    "\n",
    "\n"
   ]
  },
  {
   "cell_type": "markdown",
   "id": "f294f909",
   "metadata": {},
   "source": [
    "#### Important OS Commands\n",
    "\n",
    "<ol>\n",
    "    <li><b>os.getcwd()</b>:</li>\n",
    "        <ol>\n",
    "            <li>This function returns the name of the current working directory.</li>\n",
    "            <li>Upon execution, this function will return a proper path of the current directory.</li>\n",
    "        </ol>\n",
    "    <li><b>os.listdir()</b>:</li>\n",
    "        <ol>\n",
    "            <li>This function is a simple command to check every file and directory present in the current directory.</li>\n",
    "            <li>The command will return a list of all the directories and files that are present under our currently logged in a             directory.</li>\n",
    "            <li>We can pass a simple path under which we intend to check the list.</li>\n",
    "        </ol>\n",
    "    <li><b>os.rename()</b>:</li> \n",
    "    <ol>\n",
    "        <li>This function is a simple tool to rename a directory name through the python shell.</li>\n",
    "        <li>We have to pass two string values as an argument, the first has to be a source name, and the second will be the new          name with which we intend to rename the directory.</li>\n",
    "    </ol>\n",
    "    <li><b>os.mkdir()</b>:</li>\n",
    "    <ol>\n",
    "        <li>This function creates a new directory when we execute the command.</li>\n",
    "        <li>We can provide the absolute path or a relative path as a string argument, which is supposed to be the name of the           new directory.</li>\n",
    "    </ol>\n",
    "    <li><b>os.rmdir()</b>:</li>\n",
    "    <ol>\n",
    "        <li>The rmdir() function is used to delete or remove a directory.</li>\n",
    "        <li>We have to pass a string value as an argument, which is to be the name of a directory to be deleted.</li>\n",
    "        <li>Upon successful execution, the function will return nothing, but it will return the error if it fails.</li>\n",
    "        <li>It will only delete the directory if and only if the directory is empty.</li>\n",
    "        <li>If the directory is not empty then it will return the error mentioning the folder is not empty.</li>\n",
    "    </ol>\n",
    "    <li><b>os.remove()</b>:</li>\n",
    "    <ol>\n",
    "        <li>This method in Python is used to remove or delete a file path.</li>\n",
    "        <li>This method can not remove or delete a directory. </li>\n",
    "        <li>If the specified path is a directory then OSError will be raised by the method. os.rmdir() can be used to remove             directory.</li>\n",
    "    </ol>\n",
    "    <li><b>os.path.exists()</b>:</li>\n",
    "    <ol>\n",
    "        <li>This method in Python is used to check whether the specified path exists or not.</li>\n",
    "        <li>This method returns a booolean value whether the path exists or not.</li>\n",
    "    </ol>\n",
    "    <li><b>os.path.relpath(path, start = os.curdir)</b>:</li>\n",
    "    <ol>\n",
    "        <li>This method in Python is used to get a relative filepath to the given path either from the current working directory         or from the given directory.</li>\n",
    "    </ol>\n",
    "    <li><b>os.path.abspath(path)</b>:</li>\n",
    "    <ol>\n",
    "        <li>This takes the relative path to a file and returns the absolute path in the string format.</li>\n",
    "    </ol>\n",
    "    <li><b>os.path.join()</b>:</li>\n",
    "    <ol>\n",
    "        <li>This method in Python join one or more path components intelligently.</li>\n",
    "        <li>This method concatenates various path components with exactly one directory separator (‘/’).</li>\n",
    "    </ol>\n",
    "</ol>"
   ]
  },
  {
   "cell_type": "code",
   "execution_count": null,
   "id": "9a06c80a",
   "metadata": {},
   "outputs": [],
   "source": [
    "import os"
   ]
  },
  {
   "cell_type": "code",
   "execution_count": null,
   "id": "7af927f4",
   "metadata": {},
   "outputs": [],
   "source": [
    "os.getcwd()"
   ]
  },
  {
   "cell_type": "code",
   "execution_count": null,
   "id": "3ab2d987",
   "metadata": {},
   "outputs": [],
   "source": [
    "os.listdir()"
   ]
  },
  {
   "cell_type": "code",
   "execution_count": null,
   "id": "564abbe1",
   "metadata": {},
   "outputs": [],
   "source": [
    "os.listdir('functions')"
   ]
  },
  {
   "cell_type": "code",
   "execution_count": null,
   "id": "4f228d18",
   "metadata": {},
   "outputs": [],
   "source": [
    "os.rename('requirements.txt', 'requirement.txt')"
   ]
  },
  {
   "cell_type": "code",
   "execution_count": null,
   "id": "c0520aa5",
   "metadata": {},
   "outputs": [],
   "source": [
    "os.mkdir('prabhat')"
   ]
  },
  {
   "cell_type": "code",
   "execution_count": null,
   "id": "ef56be5e",
   "metadata": {},
   "outputs": [],
   "source": [
    "os.listdir('new_folder')"
   ]
  },
  {
   "cell_type": "code",
   "execution_count": null,
   "id": "f036b9af",
   "metadata": {},
   "outputs": [],
   "source": [
    "os.remove('new_folder/requirement.txt')"
   ]
  },
  {
   "cell_type": "code",
   "execution_count": null,
   "id": "a94ea0c2",
   "metadata": {},
   "outputs": [],
   "source": [
    "os.rmdir('new_folder')"
   ]
  },
  {
   "cell_type": "code",
   "execution_count": null,
   "id": "3cf7126b",
   "metadata": {},
   "outputs": [],
   "source": [
    "os.path.exists('functions')"
   ]
  },
  {
   "cell_type": "code",
   "execution_count": null,
   "id": "09cb9323",
   "metadata": {},
   "outputs": [],
   "source": [
    "os.path.exists('new_folder')"
   ]
  },
  {
   "cell_type": "code",
   "execution_count": null,
   "id": "ef621cf4",
   "metadata": {},
   "outputs": [],
   "source": [
    "if os.path.exists('new_folder'):\n",
    "    pass\n",
    "else:\n",
    "    os.mkdir('new_folder')"
   ]
  },
  {
   "cell_type": "code",
   "execution_count": null,
   "id": "31cb8e24",
   "metadata": {},
   "outputs": [],
   "source": [
    "os.listdir()"
   ]
  },
  {
   "cell_type": "code",
   "execution_count": null,
   "id": "ac679290",
   "metadata": {},
   "outputs": [],
   "source": [
    "path1 = \"abc/prabhat/NC/python_basics\"\n",
    "start_path = \"abc/prabhat\"\n",
    "os.path.relpath(path1, start_path)"
   ]
  },
  {
   "cell_type": "code",
   "execution_count": null,
   "id": "7d4e53dd",
   "metadata": {},
   "outputs": [],
   "source": [
    "os.path.abspath('python_basics')"
   ]
  },
  {
   "cell_type": "code",
   "execution_count": null,
   "id": "6df87aa0",
   "metadata": {},
   "outputs": [],
   "source": [
    "path1 = \"abc\\\\prabhat\"\n",
    "path2 = \"NC\\\\python_basics\""
   ]
  },
  {
   "cell_type": "code",
   "execution_count": null,
   "id": "467b393f",
   "metadata": {},
   "outputs": [],
   "source": [
    "os.path.join(path1, path2)"
   ]
  },
  {
   "cell_type": "code",
   "execution_count": null,
   "id": "43f6e38a",
   "metadata": {},
   "outputs": [],
   "source": [
    "requirement_path = os.path.join(os.getcwd(), 'new_folder', 'requirement.txt')\n",
    "print(requirement_path)"
   ]
  },
  {
   "cell_type": "code",
   "execution_count": null,
   "id": "8861d0b0",
   "metadata": {},
   "outputs": [],
   "source": [
    "file = open(requirement_path, 'r')\n",
    "print(file.read())"
   ]
  },
  {
   "cell_type": "code",
   "execution_count": null,
   "id": "0459ed00",
   "metadata": {},
   "outputs": [],
   "source": []
  },
  {
   "cell_type": "markdown",
   "id": "4127f6a6",
   "metadata": {},
   "source": [
    "#### Copying Files Using Shutil\n",
    "\n",
    "<li>shutil.copy() method in Python is used to copy the content of source file to destination file or directory.</li>\n",
    "<li>shutil.copytree() method recursively copies an entire directory tree rooted at source (src) to the destination directory.</li>\n",
    "<li>The destination directory, named by (dst) must not already exist. It will be created during copying.</li>"
   ]
  },
  {
   "cell_type": "code",
   "execution_count": null,
   "id": "7b2688d1",
   "metadata": {},
   "outputs": [],
   "source": [
    "import shutil\n",
    "import os"
   ]
  },
  {
   "cell_type": "code",
   "execution_count": null,
   "id": "d7a74d3e",
   "metadata": {},
   "outputs": [],
   "source": [
    "os.listdir()"
   ]
  },
  {
   "cell_type": "code",
   "execution_count": null,
   "id": "faade591",
   "metadata": {},
   "outputs": [],
   "source": [
    "shutil.copy('requirement.txt', 'new_folder')"
   ]
  },
  {
   "cell_type": "code",
   "execution_count": null,
   "id": "bcc65454",
   "metadata": {},
   "outputs": [],
   "source": [
    "shutil.copy('file.txt','new_folder')"
   ]
  },
  {
   "cell_type": "code",
   "execution_count": null,
   "id": "687ee150",
   "metadata": {},
   "outputs": [],
   "source": [
    "shutil.copytree('new_folder', 'mynewfolder')"
   ]
  },
  {
   "cell_type": "code",
   "execution_count": null,
   "id": "2cf91487",
   "metadata": {},
   "outputs": [],
   "source": []
  },
  {
   "cell_type": "markdown",
   "id": "edc81bd5",
   "metadata": {},
   "source": [
    "#### File Handling In Python\n",
    "\n",
    "<li>Python too supports file handling and allows users to handle files i.e., to read and write files, along with many other file handling options, to operate on files.</li>\n",
    "\n",
    "<li>Before performing any operation on the file like reading or writing, first, we have to open that file.</li>\n",
    "<li>For this, we can use builtin function open() but at the time of opening, we have to specify the mode, which represents the purpose of the opening file.</li>"
   ]
  },
  {
   "cell_type": "markdown",
   "id": "155eb3ab",
   "metadata": {},
   "source": [
    "#### Syntax For Opening A File\n",
    "\n",
    "<code>\n",
    "    f = open(filename, mode)\n",
    "</code>"
   ]
  },
  {
   "cell_type": "markdown",
   "id": "c0247d33",
   "metadata": {},
   "source": [
    "#### File Handling Modes In Python\n",
    "\n",
    "**Python support the following mode while handling files.**\n",
    "<ol>\n",
    "<li>r: open an existing file for a read operation.</li>\n",
    "<li>w: open an existing file for a write operation. If the file already contains some data then it will be overridden but if the file is not present then it creates the file as well.</li>\n",
    "<li>a:  open an existing file for append operation. It won’t override existing data.</li>\n",
    "<li>r+:  To read and write data into the file. The previous data in the file will be overridden.</li>\n",
    "<li>w+: To write and read data. It will override existing data.</li>\n",
    "<li>a+: To append and read data from the file. It won’t override existing data.</li>\n",
    "</ol>"
   ]
  },
  {
   "cell_type": "code",
   "execution_count": null,
   "id": "d3e63e31",
   "metadata": {},
   "outputs": [],
   "source": [
    "os.path.exists('hello.txt')"
   ]
  },
  {
   "cell_type": "code",
   "execution_count": 2,
   "id": "4a6ef03d",
   "metadata": {},
   "outputs": [
    {
     "name": "stdout",
     "output_type": "stream",
     "text": [
      "ipykernel\n",
      "jupyterlab\n",
      "notebook\n"
     ]
    }
   ],
   "source": [
    "f1 = open('requirement.txt', 'r')\n",
    "data = f1.read()\n",
    "print(data)\n",
    "f1.close()"
   ]
  },
  {
   "cell_type": "code",
   "execution_count": 4,
   "id": "31b7c527",
   "metadata": {},
   "outputs": [],
   "source": [
    "f2 = open('hello.txt', 'w')\n",
    "f2.write(\"Hello, It's me Saurav.\")\n",
    "f2.write(\"\\n\")\n",
    "f2.write(\"You can also call me Prabhat\")\n",
    "f2.write('\\n')\n",
    "f2.write(\"I am learning file handling methods.\")\n",
    "f2.close()"
   ]
  },
  {
   "cell_type": "code",
   "execution_count": 3,
   "id": "f3f1138e",
   "metadata": {},
   "outputs": [
    {
     "name": "stdout",
     "output_type": "stream",
     "text": [
      "\n"
     ]
    }
   ],
   "source": [
    "f4 = open('hello.txt', 'r')\n",
    "data4 = f4.read()\n",
    "print(data4)\n",
    "f4.close()"
   ]
  },
  {
   "cell_type": "code",
   "execution_count": 7,
   "id": "1692e31e",
   "metadata": {},
   "outputs": [],
   "source": [
    "f3 = open('hello.txt', 'a')\n",
    "f3.write('\\n')\n",
    "f3.write(\"Today is 10th day of Python class\")\n",
    "f3.close()"
   ]
  },
  {
   "cell_type": "code",
   "execution_count": 15,
   "id": "0d597831",
   "metadata": {},
   "outputs": [],
   "source": [
    "f5 = open('hello.txt', 'r+')\n",
    "f5.write('Hello Suman, How are you?')\n",
    "f5.write('\\n')\n",
    "f5.write('I hope you are fine there')\n",
    "f5.write('\\n')\n",
    "f5.write('Oh really....')\n",
    "f5.close()"
   ]
  },
  {
   "cell_type": "code",
   "execution_count": 16,
   "id": "5228ee29",
   "metadata": {},
   "outputs": [
    {
     "name": "stdout",
     "output_type": "stream",
     "text": [
      "Hello Suman, How are you?\n",
      "I hope you are fine there\n",
      "Oh really....\n"
     ]
    }
   ],
   "source": [
    "f6=open('hello.txt')\n",
    "data6=f6.read()\n",
    "print(data6)\n",
    "f6.close()"
   ]
  },
  {
   "cell_type": "code",
   "execution_count": 19,
   "id": "0d83de4d",
   "metadata": {},
   "outputs": [],
   "source": [
    "f6=open('hello.txt','a+')\n",
    "f6.write('\\n')\n",
    "f6.write(\"suman don't make noise.\")\n",
    "f6.close()"
   ]
  },
  {
   "cell_type": "code",
   "execution_count": 20,
   "id": "8b91e427",
   "metadata": {},
   "outputs": [
    {
     "name": "stdout",
     "output_type": "stream",
     "text": [
      "Hello Suman, How are you?\n",
      "I hope you are fine there\n",
      "Oh really....suman don't make noise.\n",
      "suman don't make noise.\n"
     ]
    }
   ],
   "source": [
    "f6=open('hello.txt')\n",
    "data6=f6.read()\n",
    "print(data6)\n",
    "f6.close()"
   ]
  },
  {
   "cell_type": "code",
   "execution_count": null,
   "id": "612cddb4",
   "metadata": {},
   "outputs": [],
   "source": []
  },
  {
   "cell_type": "code",
   "execution_count": null,
   "id": "dc893c7e",
   "metadata": {},
   "outputs": [],
   "source": []
  },
  {
   "cell_type": "markdown",
   "id": "f8aecca5",
   "metadata": {},
   "source": [
    "#### Question: Write a function that reads 'file.txt' and another function that calculates the number of true count and false count from the given data."
   ]
  },
  {
   "cell_type": "code",
   "execution_count": null,
   "id": "b8ed75d9",
   "metadata": {},
   "outputs": [],
   "source": []
  },
  {
   "cell_type": "code",
   "execution_count": null,
   "id": "53184297",
   "metadata": {},
   "outputs": [],
   "source": []
  },
  {
   "cell_type": "markdown",
   "id": "4cb1c242",
   "metadata": {},
   "source": [
    "#### Question: Write a function that reads 'file.txt' that will create a dictionary of dictionary to calculate renamed field and non renamed fileds."
   ]
  },
  {
   "cell_type": "code",
   "execution_count": null,
   "id": "16c93d02",
   "metadata": {},
   "outputs": [],
   "source": []
  },
  {
   "cell_type": "code",
   "execution_count": null,
   "id": "2e36c65b",
   "metadata": {},
   "outputs": [],
   "source": []
  },
  {
   "cell_type": "code",
   "execution_count": null,
   "id": "398e473b",
   "metadata": {},
   "outputs": [],
   "source": []
  },
  {
   "cell_type": "markdown",
   "id": "b312a9b4",
   "metadata": {},
   "source": [
    "#### Opening A CSV File\n",
    "\n",
    "<li>Now let's learn how to read in a large dataset as a list of lists.</li>\n",
    "<li>We have already worked with some of the custom made datasets. But real world datasets is large and they often need to read from files.</li>\n",
    "<li>CSV (Comma Separated Values) are one of the file formats where datasets can be stored. They have '.csv' file extension.</li>\n",
    "<li>We can read any files using open() function.</li>"
   ]
  },
  {
   "cell_type": "code",
   "execution_count": null,
   "id": "584e149b",
   "metadata": {},
   "outputs": [],
   "source": []
  },
  {
   "cell_type": "markdown",
   "id": "37313716",
   "metadata": {},
   "source": [
    "#### & Reading A CSV File"
   ]
  },
  {
   "cell_type": "markdown",
   "id": "92b0d814",
   "metadata": {},
   "source": [
    "<li>Once we've opened the file, we read it in using a function called reader().</li>\n",
    "<li>We import the reader() function from the csv module using the code <b>from csv import reader</b> (a module is a collection of functions and variables).</li>"
   ]
  },
  {
   "cell_type": "code",
   "execution_count": null,
   "id": "e3a23cb3",
   "metadata": {},
   "outputs": [],
   "source": []
  },
  {
   "cell_type": "markdown",
   "id": "03916a75",
   "metadata": {},
   "source": [
    "#### Converting the dataset into a list of list"
   ]
  },
  {
   "cell_type": "markdown",
   "id": "9c7d829f",
   "metadata": {},
   "source": [
    "<li>Now that we've read the file, we can transform it into a list of lists using the list() function.</li>"
   ]
  },
  {
   "cell_type": "code",
   "execution_count": null,
   "id": "7a2ea197",
   "metadata": {},
   "outputs": [],
   "source": []
  },
  {
   "cell_type": "code",
   "execution_count": null,
   "id": "47afdd02",
   "metadata": {},
   "outputs": [],
   "source": []
  },
  {
   "cell_type": "code",
   "execution_count": null,
   "id": "8a503c84",
   "metadata": {},
   "outputs": [],
   "source": []
  },
  {
   "cell_type": "code",
   "execution_count": null,
   "id": "ce16ad4e",
   "metadata": {},
   "outputs": [],
   "source": []
  },
  {
   "cell_type": "code",
   "execution_count": null,
   "id": "f41a41db",
   "metadata": {},
   "outputs": [],
   "source": []
  },
  {
   "cell_type": "markdown",
   "id": "b09b2cf7",
   "metadata": {},
   "source": [
    "#### Argument Parsing In Python\n",
    "\n",
    "<li>Command line arguments are those values that are passed during the calling of the program along with the calling statement.</li>\n",
    "<li>Argument parsing in Python:</li>\n",
    "<ol>\n",
    "    <li>Using sys.argv</li>\n",
    "    <li>Using getopt</li>\n",
    "    <li>Using argparse</li>\n",
    "</ol>\n",
    "<li>Usually, python uses sys.argv array to deal with such arguments but here we describe how it can be made more resourceful and user-friendly by employing argparse module.</li>\n",
    "<li>Here in this class, our main focus is on learning how to use argparse.</li>"
   ]
  },
  {
   "cell_type": "markdown",
   "id": "957f3979",
   "metadata": {},
   "source": [
    "#### Argument Parsing Using ArgParse\n",
    "\n",
    "\n",
    "Steps For Using ArgParse:\n",
    "<ol>\n",
    "    <li>Importing argparse</li>\n",
    "    <li>Creating an parser object from <b>argparse.ArgumentParser()</b></li>\n",
    "    <li>Adding the arguments to the parser. For adding the arguments to a parser we can use <li>add_argument()</li> method to the parser object</li>\n",
    "    <li>Finally parsing the arguments from the parser using parse_args() method to the parser object.</li>"
   ]
  },
  {
   "cell_type": "code",
   "execution_count": null,
   "id": "52426533",
   "metadata": {},
   "outputs": [],
   "source": []
  },
  {
   "cell_type": "code",
   "execution_count": null,
   "id": "137887ef",
   "metadata": {},
   "outputs": [],
   "source": []
  },
  {
   "cell_type": "code",
   "execution_count": null,
   "id": "d505706a",
   "metadata": {},
   "outputs": [],
   "source": []
  },
  {
   "cell_type": "markdown",
   "id": "06273022",
   "metadata": {},
   "source": [
    "#### We will read about Datetimes after understanding Object Oriented Programming."
   ]
  },
  {
   "cell_type": "markdown",
   "id": "fbe198e6",
   "metadata": {},
   "source": [
    "#### Working With Datetimes\n",
    "\n",
    "\n",
    "<li>Working with dates and times is a vital skill because data often includes date/time information like the following:</li>\n",
    "<ol>\n",
    "    <li>Weather data with dates and/or times</li>\n",
    "    <li>Computer logs with the timestamp for each event</li>\n",
    "    <li>Sales data with date/time range</li>\n",
    "</li>"
   ]
  },
  {
   "cell_type": "markdown",
   "id": "9e7d6c7d",
   "metadata": {},
   "source": [
    "<li>Python has three standard modules for working with dates and times:</li>\n",
    "<ol>\n",
    "    <li>The <b>calendar</b> module</li>\n",
    "    <li>The <b>time</b> module</li>\n",
    "    <li>The <b>datetime</b> module</li>\n",
    "</ol>"
   ]
  },
  {
   "cell_type": "markdown",
   "id": "d627b0a5",
   "metadata": {},
   "source": [
    "<li>The datetime module contains a number of classes, including the following:</li>\n",
    "<ol>\n",
    "    <li><b>datetime.datetime:</b> for working with date and time data</li>\n",
    "    <li><b>datetime.time:</b> for working with time data only</li>\n",
    "    <li><b>datetime.timedelta:</b> for representing time periods</li>\n",
    "</li>"
   ]
  },
  {
   "cell_type": "code",
   "execution_count": null,
   "id": "a176d92c",
   "metadata": {},
   "outputs": [],
   "source": []
  }
 ],
 "metadata": {
  "kernelspec": {
   "display_name": "Python 3 (ipykernel)",
   "language": "python",
   "name": "python3"
  },
  "language_info": {
   "codemirror_mode": {
    "name": "ipython",
    "version": 3
   },
   "file_extension": ".py",
   "mimetype": "text/x-python",
   "name": "python",
   "nbconvert_exporter": "python",
   "pygments_lexer": "ipython3",
   "version": "3.8.0"
  }
 },
 "nbformat": 4,
 "nbformat_minor": 5
}
