{
 "cells": [
  {
   "cell_type": "markdown",
   "id": "b15f463e",
   "metadata": {},
   "source": [
    "# Data Visualization\n",
    "\n",
    "<li>At the heart of any data science workflow is data exploration. Most commonly, we explore data by using the following:</li>\n",
    "<ol>\n",
    "    <li>Statistical methods (measuring averages, measuring variability, etc.)</li>\n",
    "    <li>Data visualization (transforming data into a visual form)</li>\n",
    "</ol>\n",
    "\n",
    "<li>This indicates that one of the central tasks of data visualization is to help us explore data.</li>\n",
    "<li>The other central task is to help us communicate and explain the results we've found through exploring data.</li>\n",
    "<li>That being said, we have two kinds of data visualization:</li>\n",
    "<ol>\n",
    "    <li><b>Exploratory data visualization:</b> we build graphs for ourselves to explore data and find patterns.</li>               <li><b>Explanatory data visualization:</b> we build graphs for others to communicate and explain the patterns we've found through exploring data.</li>\n",
    "</ol>"
   ]
  },
  {
   "cell_type": "markdown",
   "id": "81f40dcd",
   "metadata": {},
   "source": [
    "## Exploratory Data Visualization Vs Explanatory Data Visualization\n"
   ]
  },
  {
   "cell_type": "markdown",
   "id": "4b3d69ac",
   "metadata": {},
   "source": [
    "## Coordinate Systems In A Graph\n",
    "\n",
    "<li>We can create a graph by drawing two lines at right angles to each other.</li>\n",
    "<li>Each line is called an axis — the horizontal line at the bottom is the x-axis, and the vertical line on the left is the y-axis.</li>\n",
    "<li>The point where the two lines intersect is called the origin.</li>\n",
    "\n",
    "![](images/axis_and_origin.png)"
   ]
  },
  {
   "cell_type": "markdown",
   "id": "0b88a5f3",
   "metadata": {},
   "source": [
    "<li>Each axis has length — below, we see both axes marked with numbers, which represent unit lengths.</li>\n",
    "\n",
    "![](images/unit_distance_from_axis.png)"
   ]
  },
  {
   "cell_type": "markdown",
   "id": "28886306",
   "metadata": {},
   "source": [
    "<li>The length of the axes helps us precisely locate any point drawn on the graph.</li>\n",
    "<li>Point A on the graph below, for instance, is seven length units away from the y-axis and two units away from the x-axis.</li>\n",
    "<li>The x-coordinate shows the distance in unit lengths relative to the y-axis.</li>\n",
    "<li>The y-coordinate shows the distance in unit lengths relative to the x-axis.</li>\n",
    "\n",
    "![](images/coordinate_system.png)"
   ]
  },
  {
   "cell_type": "markdown",
   "id": "3b550c2d",
   "metadata": {},
   "source": [
    "## Interpret the following graph\n",
    "\n",
    "![](images/coordinate_system_question.png)\n",
    "<ol>\n",
    "    <li>What is the unit length of the x-axis? Assign your answer to x_unit_length.</li>\n",
    "    <li>What is the unit length of the y-axis? Assign your answer to y_unit_length.</li>\n",
    "    <li>What is x-coordinate of point A? Assign your answer to x_coordinate_A.</li>\n",
    "    <li>What is the y-coordinate of point B? Assign your answer to y_coordinate_B.</li>\n",
    "<li>What are the x- and y-coordinates of point C? Assign your answer as a Python list to C_coordinates — the x-coordinate must come first in your list.</li>\n",
    "</b>"
   ]
  },
  {
   "cell_type": "markdown",
   "id": "ec1a8fb7",
   "metadata": {},
   "source": [
    "## Matplotlib\n",
    "<li>Matplotlib is a Python library specifically designed for creating visualizations.</li>\n",
    "<li>Matplotlib is open source and we can use it freely.</li>\n"
   ]
  }
 ],
 "metadata": {
  "kernelspec": {
   "display_name": "Python 3 (ipykernel)",
   "language": "python",
   "name": "python3"
  },
  "language_info": {
   "codemirror_mode": {
    "name": "ipython",
    "version": 3
   },
   "file_extension": ".py",
   "mimetype": "text/x-python",
   "name": "python",
   "nbconvert_exporter": "python",
   "pygments_lexer": "ipython3",
   "version": "3.8.0"
  }
 },
 "nbformat": 4,
 "nbformat_minor": 5
}
