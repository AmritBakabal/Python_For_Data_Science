{
 "cells": [
  {
   "cell_type": "markdown",
   "id": "b15f463e",
   "metadata": {},
   "source": [
    "# Data Visualization\n",
    "<li>Data Visualization is the process of presenting data in the form of graphs or charts.</li>\n",
    "<li>It helps to understand large and complex amounts of data very easily.</li>\n",
    "<li>It allows the decision-makers to make decisions very efficiently and also allows them in identifying new trends and patterns very easily.</li>\n",
    "<li>It is also used in high-level data analysis for Machine Learning and Exploratory Data Analysis (EDA).</li>\n",
    "<li>At the heart of any data science workflow is data exploration. Most commonly, we explore data by using the following:</li>\n",
    "<ol>\n",
    "    <li>Statistical methods (measuring averages, measuring variability, etc.)</li>\n",
    "    <li>Data visualization (transforming data into a visual form)</li>\n",
    "</ol>\n",
    "\n",
    "<li>This indicates that one of the central tasks of data visualization is to help us explore data.</li>\n",
    "<li>The other central task is to help us communicate and explain the results we've found through exploring data.</li>\n",
    "<li>That being said, we have two kinds of data visualization:</li>\n",
    "<ol>\n",
    "    <li><b>Exploratory data visualization:</b> we build graphs for ourselves to explore data and find patterns.</li>               <li><b>Explanatory data visualization:</b> we build graphs for others to communicate and explain the patterns we've found through exploring data.</li>\n",
    "</ol>\n",
    "<li>Data visualization can be done with various tools like Tableau, Power BI, Matplotlib, Plotly, Seaborn.</li>\n",
    "<li>Here, we are going to learn about matplotlib and seaborn.</li>\n"
   ]
  },
  {
   "cell_type": "markdown",
   "id": "f5cf8c17",
   "metadata": {},
   "source": [
    "## Matplotlib\n",
    "<li>Matplotlib is a Python library specifically designed for creating visualizations.</li>\n",
    "<li>Matplotlib is open source and we can use it freely.</li>\n",
    "<li>It is a cross-platform library for making 2D plots from data in arrays.</li>\n",
    "<li>It provides an object-oriented API that helps in embedding plots in applications using Python GUI toolkits such as PyQt, Tkinter.</li>\n",
    "<li>It can be used in Python and IPython shells, Jupyter notebook and web application servers also.</li>\n",
    "<li>The various plots we can utilize using matplotlib are: </li>\n",
    "<ol>\n",
    "    <b><li>Line Plot</li></b>\n",
    "    <b><li>Histogram</li></b>\n",
    "    <b><li>Bargraph</li></b> \n",
    "    <b><li>Pie Chart.</li></b>\n",
    "    <b><li>Scatter Plot</li></b>\n",
    "    <b><li>Box Plot</li></b>\n",
    "    <b><li>Distribution plot</li></b>\n",
    "    <b><li>3D Plot</li></b>\n",
    "    <b><li>Image</li></b>\n",
    "</ol>"
   ]
  },
  {
   "cell_type": "markdown",
   "id": "c3b47681",
   "metadata": {},
   "source": [
    "## Installation Of Matplotlib\n",
    "<li>Go to your terminal, open and activate your virtual environment and then use the following commands for installing matplotlib.</li>\n",
    "<code>\n",
    "    pip install matplotlib\n",
    "</code>\n",
    "\n",
    "\n",
    "## Importing Matplotlib\n",
    "<li>We need to import matplotlib if we want to create any visualization graphs.</li>\n",
    "<li>We can import matplotlib package using the following command:</li>\n",
    "<code>\n",
    "import matplotlib.pyplot as plt\n",
    "</code>"
   ]
  },
  {
   "cell_type": "markdown",
   "id": "32f0d925",
   "metadata": {},
   "source": []
  },
  {
   "cell_type": "markdown",
   "id": "4b3d69ac",
   "metadata": {},
   "source": [
    "## Coordinate Systems In A Graph\n",
    "\n",
    "<li>We can create a graph by drawing two lines at right angles to each other.</li>\n",
    "<li>Each line is called an axis — the horizontal line at the bottom is the x-axis, and the vertical line on the left is the y-axis.</li>\n",
    "<li>The point where the two lines intersect is called the origin.</li>\n",
    "\n",
    "![](images/axis_and_origin.png)"
   ]
  },
  {
   "cell_type": "markdown",
   "id": "0b88a5f3",
   "metadata": {},
   "source": [
    "<li>Each axis has length — below, we see both axes marked with numbers, which represent unit lengths.</li>\n",
    "\n",
    "![](images/unit_distance_from_axis.png)"
   ]
  },
  {
   "cell_type": "markdown",
   "id": "28886306",
   "metadata": {},
   "source": [
    "<li>The length of the axes helps us precisely locate any point drawn on the graph.</li>\n",
    "<li>Point A on the graph below, for instance, is seven length units away from the y-axis and two units away from the x-axis.</li>\n",
    "<li>The x-coordinate shows the distance in unit lengths relative to the y-axis.</li>\n",
    "<li>The y-coordinate shows the distance in unit lengths relative to the x-axis.</li>\n",
    "\n",
    "![](images/coordinate_system.png)"
   ]
  },
  {
   "cell_type": "markdown",
   "id": "3b550c2d",
   "metadata": {},
   "source": [
    "## Interpret the following graph\n",
    "\n",
    "![](images/coordinate_system_question.png)\n",
    "<ol>\n",
    "    <li>What is the unit length of the x-axis? Assign your answer to x_unit_length.</li>\n",
    "    <li>What is the unit length of the y-axis? Assign your answer to y_unit_length.</li>\n",
    "    <li>What is x-coordinate of point A? Assign your answer to x_coordinate_A.</li>\n",
    "    <li>What is the y-coordinate of point B? Assign your answer to y_coordinate_B.</li>\n",
    "<li>What are the x- and y-coordinates of point C? Assign your answer as a Python list to C_coordinates — the x-coordinate must come first in your list.</li>\n",
    "</b>"
   ]
  },
  {
   "cell_type": "markdown",
   "id": "255b4c1c",
   "metadata": {},
   "source": [
    "## 1. Lineplot\n",
    "<li>To create our line plot graph above, we need to:</li>\n",
    "<ol>\n",
    "    <li>Add the data to the plt.plot() function.</li>\n",
    "    <li>The data should represent the coordinate systems data.</li>\n",
    "    <li>x-coordinates and y-coordinates values should be passed separately in two different lists.</li>\n",
    "    <li>Display the plot using the plt.show() function.</li>\n",
    "    \n",
    "</ol>"
   ]
  },
  {
   "cell_type": "markdown",
   "id": "ac3269fd",
   "metadata": {},
   "source": [
    "## Covid19 deaths according to months\n",
    "month_number = [1, 2, 3, 4, 5, 6, 7]\n",
    "\n",
    "new_deaths = [213, 2729, 37718, 184064, 143119, 136073, 165003]"
   ]
  },
  {
   "cell_type": "code",
   "execution_count": null,
   "id": "ece28493",
   "metadata": {},
   "outputs": [],
   "source": []
  },
  {
   "cell_type": "code",
   "execution_count": null,
   "id": "da10576e",
   "metadata": {},
   "outputs": [],
   "source": []
  },
  {
   "cell_type": "markdown",
   "id": "816351d3",
   "metadata": {},
   "source": [
    "## Question:\n",
    "\n",
    "<li>Read cricket_scores.csv and load it into a pandas dataframe.</li>\n",
    "<li>Extract the scores and overs details when Newzeland was batting.</li>\n",
    "<li>Create a lineplot to show the scores scored by Newzeland in each over.</li>\n",
    "<li>In the x-axis, we have to include the overs while in y-axis, you have to include the scores.</li> "
   ]
  },
  {
   "cell_type": "code",
   "execution_count": null,
   "id": "dcd9564e",
   "metadata": {},
   "outputs": [],
   "source": []
  },
  {
   "cell_type": "code",
   "execution_count": null,
   "id": "0c4721ff",
   "metadata": {},
   "outputs": [],
   "source": []
  },
  {
   "cell_type": "markdown",
   "id": "0e9fe0cd",
   "metadata": {},
   "source": [
    "## Customizing a graph\n",
    "\n",
    "<li>To give the title to the plot we can use <b>plt.title()</b> and add title details inside.</li>\n",
    "<li>Similarly, we can also give names to the coordinate axes using <b>plt.xlabel()</b> and <b>plt.ylabel().</b></li>\n",
    "<li>You can also use <b>marker</b> and <b>markersize</b> parameters if you also want to highlight the coordinate points while creating line graph plot.</li>"
   ]
  },
  {
   "cell_type": "code",
   "execution_count": null,
   "id": "fecb767b",
   "metadata": {},
   "outputs": [],
   "source": []
  },
  {
   "cell_type": "code",
   "execution_count": null,
   "id": "3865a309",
   "metadata": {},
   "outputs": [],
   "source": []
  },
  {
   "cell_type": "markdown",
   "id": "b9a5c852",
   "metadata": {},
   "source": [
    "## Instructions\n",
    "<li>Add title to the newzeland score per over line plot.</li>\n",
    "<li>Also provide the xlabel and ylabel accordingly.</li>\n",
    "<li>Experiment with marker and markersize parameter to highlight scores in each over.</li>"
   ]
  },
  {
   "cell_type": "code",
   "execution_count": null,
   "id": "a0c2f44f",
   "metadata": {},
   "outputs": [],
   "source": []
  },
  {
   "cell_type": "code",
   "execution_count": null,
   "id": "96d20dff",
   "metadata": {},
   "outputs": [],
   "source": []
  },
  {
   "cell_type": "markdown",
   "id": "93915a7a",
   "metadata": {},
   "source": [
    "## Visualizing time series data using line graph\n",
    "<li>Time-series data is a sequence of data points collected over time intervals, allowing us to track changes over time.</li> <li>Time-series data can track changes over milliseconds, days, or even years.</li>\n",
    "<li>Typically we visualize time series with line graphs. The time values are always plotted, by convention, on the x-axis.</li>\n",
    "\n",
    "<b>Use 'AirPassengers.csv' data</b>"
   ]
  },
  {
   "cell_type": "markdown",
   "id": "4f8863e2",
   "metadata": {},
   "source": []
  },
  {
   "cell_type": "code",
   "execution_count": null,
   "id": "5843d468",
   "metadata": {},
   "outputs": [],
   "source": []
  },
  {
   "cell_type": "markdown",
   "id": "4f315566",
   "metadata": {},
   "source": [
    "### Growth over time and thier graphs\n",
    "<li>Generally, a quantity that increases very quickly in the beginning — and then it slows down more and more over time — has a logarithmic growth.</li>\n",
    "<li>Generally, a quantity that increases slowly in the beginning — but then starts growing faster and faster over time — has exponential growth.</li>\n",
    "<li>Generally, a quantity that increases constantly over time has linear growth.</li>\n",
    "<li>To sum up, these are the three types of growth we've learned in this session:</li>\n",
    "\n",
    "![](images/types_of_graph.png)"
   ]
  },
  {
   "cell_type": "code",
   "execution_count": null,
   "id": "97d62847",
   "metadata": {},
   "outputs": [],
   "source": []
  },
  {
   "cell_type": "code",
   "execution_count": null,
   "id": "762be70e",
   "metadata": {},
   "outputs": [],
   "source": []
  },
  {
   "cell_type": "code",
   "execution_count": null,
   "id": "959284d7",
   "metadata": {},
   "outputs": [],
   "source": []
  },
  {
   "cell_type": "markdown",
   "id": "0dbd32e8",
   "metadata": {},
   "source": [
    "<li>Change is not only about growth.</li>\n",
    "<li>A quantity can also decrease following a linear, exponential, or logarithmic pattern.</li>\n",
    "\n",
    "![](images/negative_growth_graph.png)\n",
    "\n"
   ]
  },
  {
   "cell_type": "code",
   "execution_count": null,
   "id": "8a740526",
   "metadata": {},
   "outputs": [],
   "source": []
  },
  {
   "cell_type": "code",
   "execution_count": null,
   "id": "2cdc26c3",
   "metadata": {},
   "outputs": [],
   "source": []
  },
  {
   "cell_type": "code",
   "execution_count": null,
   "id": "41cd888f",
   "metadata": {},
   "outputs": [],
   "source": []
  },
  {
   "cell_type": "markdown",
   "id": "bc4f4e32",
   "metadata": {},
   "source": [
    "<li>In practice, most of the line graphs we plot don't show any clear pattern.</li>\n",
    "<li>We need to pay close attention to what we see and try to extract meaning without forcing the data into some patterns we already know.</li>\n",
    "<li>When we see irregularities on a line graph, this doesn't mean we can't extract any meaning.</li>\n",
    "<li>By analyzing the irregularities, we can sometimes uncover interesting details.</li>\n",
    "\n",
    "![](images/irregular_graph.png)\n",
    "\n"
   ]
  },
  {
   "cell_type": "code",
   "execution_count": null,
   "id": "11b09bd7",
   "metadata": {},
   "outputs": [],
   "source": []
  },
  {
   "cell_type": "code",
   "execution_count": null,
   "id": "b046e399",
   "metadata": {},
   "outputs": [],
   "source": []
  },
  {
   "cell_type": "markdown",
   "id": "74edcb7f",
   "metadata": {},
   "source": [
    "## Comparing graphs\n",
    "<li>If we want to compare the rate of quantity change with respect to another variable then we can create two line plots and visualize it.</li>\n",
    "<li>Don't forget to use label parameter inside plt.plot() if you are creating two line plots in a same graph.</li>\n",
    "<li>Incase you are plotting two line plots in same graph, you can give colors to each line plot using color parameter inside plt.plot() function.</li>\n",
    "<li>You can also add legend in a graph using plt.legend() but make sure you have supplied label.</li>\n"
   ]
  },
  {
   "cell_type": "code",
   "execution_count": null,
   "id": "88f3882f",
   "metadata": {},
   "outputs": [],
   "source": []
  }
 ],
 "metadata": {
  "kernelspec": {
   "display_name": "Python 3 (ipykernel)",
   "language": "python",
   "name": "python3"
  },
  "language_info": {
   "codemirror_mode": {
    "name": "ipython",
    "version": 3
   },
   "file_extension": ".py",
   "mimetype": "text/x-python",
   "name": "python",
   "nbconvert_exporter": "python",
   "pygments_lexer": "ipython3",
   "version": "3.8.0"
  }
 },
 "nbformat": 4,
 "nbformat_minor": 5
}
