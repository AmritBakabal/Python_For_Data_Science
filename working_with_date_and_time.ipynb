{
 "cells": [
  {
   "cell_type": "markdown",
   "id": "8d14259c",
   "metadata": {},
   "source": [
    "# Working With Datetimes\n",
    "\n",
    "\n",
    "<li>Working with dates and times is a vital skill because data often includes date/time information like the following:</li>\n",
    "<ol>\n",
    "    <li>Weather data with dates and/or times</li>\n",
    "    <li>Computer logs with the timestamp for each event</li>\n",
    "    <li>Sales data with date/time range</li>\n",
    "</li>"
   ]
  },
  {
   "cell_type": "markdown",
   "id": "86f134cb",
   "metadata": {},
   "source": [
    "<li>Python has three standard modules for working with dates and times:</li>\n",
    "<ol>\n",
    "    <li>The <b>calendar</b> module</li>\n",
    "    <li>The <b>time</b> module</li>\n",
    "    <li>The <b>datetime</b> module</li>\n",
    "</ol>"
   ]
  },
  {
   "cell_type": "markdown",
   "id": "c05cdfee",
   "metadata": {},
   "source": [
    "<li>The datetime module contains a number of classes, including the following:</li>\n",
    "<ol>\n",
    "    <li><b>datetime.datetime:</b> for working with date and time data</li>\n",
    "    <li><b>datetime.time:</b> for working with time data only</li>\n",
    "    <li><b>datetime.timedelta:</b> for representing time periods</li>\n",
    "</li>"
   ]
  },
  {
   "cell_type": "markdown",
   "id": "849cd2ec",
   "metadata": {},
   "source": [
    "<li>The datetime.datetime class is the most commonly used class from the datetime module, and it has attributes and methods that work with data containing both the date and the time.</li>\n",
    "<code>\n",
    "    datetime.datetime(year, month, day, hour=0, minute=0, second=0)\n",
    "</code>\n",
    "<li>This indicates that the year, month, and day arguments are necessary, and the time arguments are optional and set to the equivalent of midnight if omitted.</li>\n",
    "<li>The hour parameter is in 24 hour time, so 11 is 11 a.m., 12 is 12 p.m., 13 is 1 p.m., etc</li>"
   ]
  },
  {
   "cell_type": "code",
   "execution_count": null,
   "id": "1bdeeef9",
   "metadata": {},
   "outputs": [],
   "source": []
  },
  {
   "cell_type": "code",
   "execution_count": null,
   "id": "83c53280",
   "metadata": {},
   "outputs": [],
   "source": []
  },
  {
   "cell_type": "code",
   "execution_count": null,
   "id": "c80543c0",
   "metadata": {},
   "outputs": [],
   "source": []
  },
  {
   "cell_type": "code",
   "execution_count": null,
   "id": "737254d9",
   "metadata": {},
   "outputs": [],
   "source": []
  },
  {
   "cell_type": "code",
   "execution_count": null,
   "id": "c795ac8e",
   "metadata": {},
   "outputs": [],
   "source": []
  },
  {
   "cell_type": "markdown",
   "id": "0cfd9902",
   "metadata": {},
   "source": [
    "#### Question:\n",
    "\n",
    "<li>Import the datetime.datetime class using the alias dt.</li>\n",
    "<li>Instantiate a datetime object representing midnight on June 16, 1911. Assign the object to the variable name ibm_founded.</li>\n",
    "<li>Instantiate a datetime object representing 8:17 p.m. on July 20, 1969. Assign the object to the variable name man_on_moon.</li>"
   ]
  },
  {
   "cell_type": "code",
   "execution_count": null,
   "id": "fd49081a",
   "metadata": {},
   "outputs": [],
   "source": []
  },
  {
   "cell_type": "code",
   "execution_count": null,
   "id": "4a6cc2ff",
   "metadata": {},
   "outputs": [],
   "source": []
  },
  {
   "cell_type": "code",
   "execution_count": null,
   "id": "cebdf0f4",
   "metadata": {},
   "outputs": [],
   "source": []
  },
  {
   "cell_type": "code",
   "execution_count": null,
   "id": "44fd6dee",
   "metadata": {},
   "outputs": [],
   "source": []
  },
  {
   "cell_type": "code",
   "execution_count": null,
   "id": "dd7eba1b",
   "metadata": {},
   "outputs": [],
   "source": []
  },
  {
   "cell_type": "code",
   "execution_count": null,
   "id": "673f223e",
   "metadata": {},
   "outputs": [],
   "source": []
  },
  {
   "cell_type": "code",
   "execution_count": null,
   "id": "f233815c",
   "metadata": {},
   "outputs": [],
   "source": []
  },
  {
   "cell_type": "markdown",
   "id": "9a5d5c8e",
   "metadata": {},
   "source": [
    "####  Using Strptime to Parse Strings as Dates\n",
    "\n",
    "<li>We all know that we can represent date and time with the help of string as well.</li>\n",
    "\n",
    "<li>\"December 23, 09:55, 2022\" is the string that can represent time.</li>\n",
    "<li>But we can convert this string object into a date time object. This process of converting strings into a datetime object is also known as string parsing.</li>\n",
    "\n",
    "<li>Python has strptime() method which parses a string representing a time according to a format. The return value is a datetime object.</li>\n",
    "\n",
    "\n",
    "\n",
    "**Following is the syntax for strptime() method.**\n",
    "<code>\n",
    "time.strptime(string, format)\n",
    "Parameters\n",
    "string − This is the time in string format which would be parsed based on the given format.\n",
    "\n",
    "format − This is the directive which would be used to parse the given string.\n",
    "</code>\n",
    "\n",
    "\n"
   ]
  },
  {
   "cell_type": "code",
   "execution_count": null,
   "id": "d8be4380",
   "metadata": {},
   "outputs": [],
   "source": []
  },
  {
   "cell_type": "code",
   "execution_count": null,
   "id": "5ea76c56",
   "metadata": {},
   "outputs": [],
   "source": []
  },
  {
   "cell_type": "code",
   "execution_count": null,
   "id": "222063d4",
   "metadata": {},
   "outputs": [],
   "source": []
  },
  {
   "cell_type": "code",
   "execution_count": null,
   "id": "51017860",
   "metadata": {},
   "outputs": [],
   "source": []
  },
  {
   "cell_type": "code",
   "execution_count": null,
   "id": "14d1d3f2",
   "metadata": {},
   "outputs": [],
   "source": []
  },
  {
   "cell_type": "code",
   "execution_count": 40,
   "id": "42948398",
   "metadata": {},
   "outputs": [],
   "source": [
    "months = [\"January\", \"February\", \"March\", \"April\", \"May\", \"June\",\n",
    "         \"July\", \"August\", \"September\", \"October\", \"November\", \"December\"]"
   ]
  },
  {
   "cell_type": "code",
   "execution_count": null,
   "id": "8e41f2f3",
   "metadata": {},
   "outputs": [],
   "source": []
  },
  {
   "cell_type": "code",
   "execution_count": null,
   "id": "dac1e691",
   "metadata": {},
   "outputs": [],
   "source": []
  },
  {
   "cell_type": "markdown",
   "id": "8113cbe4",
   "metadata": {},
   "source": [
    "![](images/datetime.png)"
   ]
  },
  {
   "cell_type": "code",
   "execution_count": null,
   "id": "1d4a464d",
   "metadata": {},
   "outputs": [],
   "source": []
  },
  {
   "cell_type": "code",
   "execution_count": null,
   "id": "6573a69a",
   "metadata": {},
   "outputs": [],
   "source": []
  },
  {
   "cell_type": "code",
   "execution_count": null,
   "id": "a69ccdfb",
   "metadata": {},
   "outputs": [],
   "source": []
  },
  {
   "cell_type": "markdown",
   "id": "de439818",
   "metadata": {},
   "source": [
    "#### Question\n",
    "\n",
    "<li>Create a string date_format that specifies the format of the appt_start_date column:</li>\n",
    "<li>The format of the app_start_date column is {month}/{day}/{two digit year} {hour 24hr time}:{minute}.</li>\n",
    "<li>Substitute each of the values inside braces with the appropriate strftime code from the table above.</li>\n",
    "<li>Read the appointment_schedule.csv file using csv reader and iterate over each row in the list of lists.</li>\n",
    "<li>Assign the appt_start_date column, found at index 2 of each row, to a variable.</li>\n",
    "<li>Use the datetime.strptime() constructor to convert the variable from a string to a datetime object, using the date_format string you created earlier.</li>\n",
    "<li>Assign the datetime object back to index 2 of the row.</li>"
   ]
  },
  {
   "cell_type": "code",
   "execution_count": null,
   "id": "70e9dde5",
   "metadata": {},
   "outputs": [],
   "source": []
  },
  {
   "cell_type": "markdown",
   "id": "a052f610",
   "metadata": {},
   "source": [
    "#### Using strftime to parse datetime objects as strings\n",
    "\n",
    "<li>The datetime class has a number of attributes that simplify retrieving the various parts that make up the date stored within the object:</li>\n",
    "<ol>\n",
    "    <li>datetime.day: the day of the month</li>\n",
    "    <li>datetime.month: the month of the year</li>\n",
    "    <li>datetime.year: the year</li>\n",
    "    <li>datetime.hour: the hour of the day</li>\n",
    "    <li>datetime.minute: the minute of the hour</li>\n",
    "</ol>\n",
    "\n",
    "<li>If we wanted to create string representation of a datetime object representing the date like December 24th, 1984 in the form day/month/year, we could use those attributes to extract the values and then insert them into a string.</li>\n",
    "\n",
    "<li>datetime class has a datetime.strftime() method that will return a string representation of the date using the strftime syntax.</li>\n",
    "\n",
    "**It's easy to confuse strptime and strftime. Here is an easy way to remember which is which:**\n",
    "\n",
    "<li>strptime >> str-p-time >> string parse time</li>\n",
    "<li>strftime >> str-f-time >> string format time</li>\n",
    "<li>With the strftime() method, we can use %d, %m, and %Y to represent the day, month, and year.</li>\n",
    "\n"
   ]
  },
  {
   "cell_type": "code",
   "execution_count": null,
   "id": "e6ffa362",
   "metadata": {},
   "outputs": [],
   "source": []
  },
  {
   "cell_type": "code",
   "execution_count": null,
   "id": "08367e5a",
   "metadata": {},
   "outputs": [],
   "source": []
  },
  {
   "cell_type": "code",
   "execution_count": null,
   "id": "ff5a7e6c",
   "metadata": {},
   "outputs": [],
   "source": []
  },
  {
   "cell_type": "code",
   "execution_count": null,
   "id": "f7323ff0",
   "metadata": {},
   "outputs": [],
   "source": []
  },
  {
   "cell_type": "markdown",
   "id": "015f39f4",
   "metadata": {},
   "source": [
    "#### Question\n",
    "<li>Initialize an empty dictionary: visitors_per_month.</li>\n",
    "<li>Iterate over the rows in the appointment_dataset which is list of lists.</li>\n",
    "<li>In each iteration, do the following:</li>\n",
    "<ol>\n",
    "    <li>Assign the datetime object from the appt_start_date column (index 2) to a variable.</li>\n",
    "     <li>Call the datetime.strftime() method on the appt_start_date object to create a string in the format \"January,1901.</li>\n",
    "    <li>The format code for the name of the month is %B.</li>\n",
    "    <li>The format code for a four-digit year is %Y.</li>\n",
    "    <li>If the string is not a key in visitors_per_month, add it as a key with a value of 1. Otherwise, add 1 to the existing value for that key.</li>\n",
    "</ol>"
   ]
  },
  {
   "cell_type": "markdown",
   "id": "507f3162",
   "metadata": {},
   "source": [
    "#### The Time Class\n",
    "\n",
    "<li>Previously we have used datetime.datetime class to work with date and times but if we only need to work on time specifically, we have another class that we can use i.e. datetime.time class.</li>\n",
    "\n",
    "<li>Where the datetime class can hold values for dates and times, the time class holds only time data: hours, minutes, seconds, and microseconds.</li>\n",
    "\n",
    "**The syntax to instantiate a time object is as follows:**\n",
    "<code>\n",
    "datetime.time(hour=0, minute=0, second=0, microsecond=0)\n",
    "</code>\n",
    "<li>They have attributes like time.hour to work with hour, time.minute to work with minutes, time.second to represent time in second and time.microsecond to represent time in microseconds.</li>"
   ]
  },
  {
   "cell_type": "code",
   "execution_count": null,
   "id": "cd73b386",
   "metadata": {},
   "outputs": [],
   "source": []
  },
  {
   "cell_type": "code",
   "execution_count": null,
   "id": "75d54056",
   "metadata": {},
   "outputs": [],
   "source": []
  },
  {
   "cell_type": "code",
   "execution_count": null,
   "id": "253d2969",
   "metadata": {},
   "outputs": [],
   "source": []
  },
  {
   "cell_type": "code",
   "execution_count": null,
   "id": "292756f0",
   "metadata": {},
   "outputs": [],
   "source": []
  },
  {
   "cell_type": "code",
   "execution_count": null,
   "id": "024483dc",
   "metadata": {},
   "outputs": [],
   "source": []
  },
  {
   "cell_type": "markdown",
   "id": "fdcc4a14",
   "metadata": {},
   "source": [
    "#### Question\n",
    "\n",
    "<li>Instantiate an empty appt_times list.</li>\n",
    "<li>Iterate over each row in the appointment_datasets list of lists. For each iteration, do the following:</li>\n",
    "<ol>\n",
    "    <li>Assign the datetime object stored at index value 2 to a variable.</li>\n",
    "    <li>Create a time object from the datetime object.</li>\n",
    "    <li>Append the time object to the appt_times list.</li>\n",
    "</ol>"
   ]
  },
  {
   "cell_type": "code",
   "execution_count": null,
   "id": "ffa7cf60",
   "metadata": {},
   "outputs": [],
   "source": []
  },
  {
   "cell_type": "code",
   "execution_count": 82,
   "id": "f32657e7",
   "metadata": {},
   "outputs": [],
   "source": []
  },
  {
   "cell_type": "code",
   "execution_count": 83,
   "id": "f16c2d7d",
   "metadata": {},
   "outputs": [],
   "source": []
  },
  {
   "cell_type": "code",
   "execution_count": 84,
   "id": "b348726b",
   "metadata": {},
   "outputs": [],
   "source": []
  },
  {
   "cell_type": "markdown",
   "id": "f31d5c27",
   "metadata": {},
   "source": [
    "#### Comparing Date & Time Objects\n",
    "\n",
    "<li>A useful feature of time objects is that they support comparisons. We can test if one time is greater — or later — than another.</li>\n",
    "<li>Like we can compare numeric and float values, we can also compare date objects and time objects.</li>\n",
    "<li>If we wanted to compare between two dates, the comparisions must go with datetime.datetime objects vs datetime.datetime objects or datetime.date objects vs datetime.date objects.</li>\n",
    "<li>Similarly, if we wanted to compare between two times, the comparision must go with datetime.time objects vs datetime.time objects.</li>\n",
    "<li>We can use greater than or less than operator to compare two datetime objects.</li>\n",
    "<li>Because these comparison operations are supported, we can also use Python built-in functions like min() and max().</li>\n",
    "\n"
   ]
  },
  {
   "cell_type": "code",
   "execution_count": null,
   "id": "35fcdfaa",
   "metadata": {},
   "outputs": [],
   "source": []
  },
  {
   "cell_type": "code",
   "execution_count": null,
   "id": "f366413a",
   "metadata": {},
   "outputs": [],
   "source": []
  },
  {
   "cell_type": "code",
   "execution_count": null,
   "id": "7ac73964",
   "metadata": {},
   "outputs": [],
   "source": []
  },
  {
   "cell_type": "code",
   "execution_count": null,
   "id": "ae916102",
   "metadata": {},
   "outputs": [],
   "source": []
  },
  {
   "cell_type": "markdown",
   "id": "e83f9d2b",
   "metadata": {},
   "source": [
    "#### Question:\n",
    "\n",
    "<li>Use the appt_times list and find out the maximum and minimum appointment times from the given list.</li>"
   ]
  },
  {
   "cell_type": "code",
   "execution_count": null,
   "id": "e32f4bc0",
   "metadata": {},
   "outputs": [],
   "source": []
  },
  {
   "cell_type": "code",
   "execution_count": null,
   "id": "a65249da",
   "metadata": {},
   "outputs": [],
   "source": []
  },
  {
   "cell_type": "code",
   "execution_count": null,
   "id": "759d9dba",
   "metadata": {},
   "outputs": [],
   "source": []
  },
  {
   "cell_type": "markdown",
   "id": "982febb8",
   "metadata": {},
   "source": [
    "#### Calculations with Dates and Times\n",
    "\n",
    "<li>Just like time objects, datetime objects support comparison operators like > and <.</li>\n",
    "<li>Let's see whether it supports mathematical operators like - and + to perform addition and subtraction operations.</li>"
   ]
  },
  {
   "cell_type": "code",
   "execution_count": null,
   "id": "e5ec219d",
   "metadata": {},
   "outputs": [],
   "source": []
  },
  {
   "cell_type": "code",
   "execution_count": null,
   "id": "4c8f20e7",
   "metadata": {},
   "outputs": [],
   "source": []
  },
  {
   "cell_type": "code",
   "execution_count": null,
   "id": "0af1e090",
   "metadata": {},
   "outputs": [],
   "source": []
  },
  {
   "cell_type": "markdown",
   "id": "3ebdda57",
   "metadata": {},
   "source": []
  },
  {
   "cell_type": "markdown",
   "id": "d258f93b",
   "metadata": {},
   "source": [
    "<li>We cannot use + operator to add two different datetime objects but we can use - operator to subtract the two datetime objects.</li>\n",
    "<li>When we check the type of that time difference between two datetime objects, the resulting object is a datetime.timedelta object.</li>\n",
    "<li>We can create datetime.timedelta object and then add two datetime objects and similarly, we can also subtract no of hours or no of days using timedelta objects.</li>\n",
    "<li>We observed that we can create an object of the timedelta class using the - operator, but we can also instantiate a timedelta class directly. Let's look at the syntax to do this:</li>\n",
    "<code>\n",
    "datetime.timedelta(days=0, seconds=0, microseconds=0,\n",
    "                   milliseconds=0, minutes=0, hours=0, weeks=0)\n",
    "\n",
    "</code>\n"
   ]
  },
  {
   "cell_type": "code",
   "execution_count": null,
   "id": "af5276b2",
   "metadata": {},
   "outputs": [],
   "source": []
  },
  {
   "cell_type": "code",
   "execution_count": null,
   "id": "2e1ed3ab",
   "metadata": {},
   "outputs": [],
   "source": []
  },
  {
   "cell_type": "code",
   "execution_count": null,
   "id": "bd3d89e1",
   "metadata": {},
   "outputs": [],
   "source": []
  },
  {
   "cell_type": "markdown",
   "id": "8bcb59a6",
   "metadata": {},
   "source": [
    "#### Questions\n",
    "\n",
    "<li>Calculate the time between dt_2 and dt_1, and assign the result to answer_1.</li>\n",
    "<li>Add 56 days to dt_3, and assign the result to answer_2.</li>\n",
    "<li>Subtract 3600 seconds from dt_4, and assign the result to answer_3</li>"
   ]
  },
  {
   "cell_type": "code",
   "execution_count": 88,
   "id": "6565827c",
   "metadata": {},
   "outputs": [],
   "source": [
    "from datetime import datetime"
   ]
  },
  {
   "cell_type": "code",
   "execution_count": 89,
   "id": "daa77b79",
   "metadata": {},
   "outputs": [],
   "source": [
    "dt_1 = datetime(1981, 1, 31)\n",
    "dt_2 = datetime(1984, 6, 28)\n",
    "dt_3 = datetime(2016, 5, 24)\n",
    "dt_4 = datetime(2001, 1, 1, 8, 24, 13)"
   ]
  },
  {
   "cell_type": "code",
   "execution_count": null,
   "id": "3a9183cf",
   "metadata": {},
   "outputs": [],
   "source": []
  }
 ],
 "metadata": {
  "kernelspec": {
   "display_name": "Python 3 (ipykernel)",
   "language": "python",
   "name": "python3"
  },
  "language_info": {
   "codemirror_mode": {
    "name": "ipython",
    "version": 3
   },
   "file_extension": ".py",
   "mimetype": "text/x-python",
   "name": "python",
   "nbconvert_exporter": "python",
   "pygments_lexer": "ipython3",
   "version": "3.8.0"
  }
 },
 "nbformat": 4,
 "nbformat_minor": 5
}
