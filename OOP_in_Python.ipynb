{
 "cells": [
  {
   "cell_type": "markdown",
   "id": "a22b739d",
   "metadata": {},
   "source": [
    "#### Object Oriented Programming\n",
    "<li>Python is an object oriented programming language.</li>\n",
    "<li>A programming paradigm which is based on <b>\"class\"</b> and <b>\"objects\"</b> rather than functions is known as Object Oriented Programming.</li>\n",
    "<li>We will learn the key concepts, including classes, instances, attributes, and methods and learn how to create our own class.</li>\n",
    "<li>In OOP, objects have types, but instead of \"type\" we use the word class. Here are the correct names for each of these classes:</li>\n",
    "<ol>\n",
    "    <li>String class</li>\n",
    "    <li>List class</li>\n",
    "    <li>Dictionary class</li>\n",
    "</ol>\n",
    "\n",
    "<li>In everyday English, the word class refers to a group of similar things. In OOP, we use the word similarly — a class refers to a group of similar objects.</li>\n",
    "\n",
    "<li>When talking about programming, we often use the words \"type\" and \"class\" interchangeably, but \"class\" is more formally about objects. Throughout this lesson, we'll be using \"class\" as we learn about OOP.</li>\n"
   ]
  },
  {
   "cell_type": "markdown",
   "id": "b646e1e8",
   "metadata": {},
   "source": [
    "#### Finding out class of a given object using type()\n",
    "<li>We can use builtin function type() to find out the class of a particular object.</li>\n",
    "<li>The <b>'string'</b> datatype belongs to <b>'string'</b> class, <b>'float'</b> datatype belongs to <b>'float'</b> class and so on.</li>"
   ]
  },
  {
   "cell_type": "code",
   "execution_count": null,
   "id": "91ddf25c",
   "metadata": {},
   "outputs": [],
   "source": [
    "a = \"fkdjfkajsdirekjdfka\"\n",
    "print(type(a))"
   ]
  },
  {
   "cell_type": "code",
   "execution_count": null,
   "id": "f4703087",
   "metadata": {},
   "outputs": [],
   "source": [
    "f = 8.7\n",
    "print(type(f))"
   ]
  },
  {
   "cell_type": "code",
   "execution_count": null,
   "id": "33368a97",
   "metadata": {},
   "outputs": [],
   "source": [
    "dictionary = {\"key\": \"value\"}\n",
    "print(type(dictionary))"
   ]
  },
  {
   "cell_type": "code",
   "execution_count": null,
   "id": "417dda30",
   "metadata": {},
   "outputs": [],
   "source": [
    "dictionary = {\"name\": \"sudha\",\"age\": 22}\n",
    "print(type(dictionary))"
   ]
  },
  {
   "cell_type": "code",
   "execution_count": null,
   "id": "312cc9b9",
   "metadata": {},
   "outputs": [],
   "source": [
    "list1 = [1,2,3,4]\n",
    "print(type(list1))"
   ]
  },
  {
   "cell_type": "markdown",
   "id": "f3ff94d9",
   "metadata": {},
   "source": [
    "<li>This demonstrates how we can use \"type\" and \"class\" interchangeably. This reveals that we've been using classes for some time already:</li>\n",
    "<ol>\n",
    "    <li>Python lists are objects of the <b>list</b> class.</li>\n",
    "    <li>Python integers are objects of the <b>integer</b> class.</li>\n",
    "    <li>Python dictionaries are objects of the <b>dict</b> class.</li>\n",
    "</ol>"
   ]
  },
  {
   "cell_type": "markdown",
   "id": "d1c4c8d5",
   "metadata": {},
   "source": [
    "#### Class & Objects\n",
    "\n",
    "<li>An object is an entity that stores data.</li>\n",
    "<li>An object's class defines specific properties that objects of that class will have.</li>\n",
    "\n",
    "<li>Class is used as a template for declaring and creating the objects.</li>\n",
    "<li>An object is an instance of a class.</li>\n",
    "\n",
    "<li>When a class is created, no memory is allocated.</li>\n",
    "<li>Objects are allocated memory space whenever they are created.</li>\n",
    "\n",
    "\n",
    "<li>The class has to be declared first and only once.</li>\n",
    "<li>An object is created many times as per requirement.</li>\n",
    "\n",
    "<li>Class is declared with the class keyword.A class is used to bind data as well as methods together as a single unit.</li>\n",
    "<code>\n",
    "    Class Fruit:\n",
    "        fruit_type = \"fresh\"\n",
    "        def display(self, fruit_name):\n",
    "           self.fruit_name = fruit_name\n",
    "           print(\"Name of fruit is {}\".format(self.fruit_name)\n",
    "    \n",
    "</code>\n",
    "<li>It is created with a class name.Objects are like a variable of the class.</li>\n",
    "<code>\n",
    "    fruit_obj = Fruit()\n",
    "</code>\n",
    "\n"
   ]
  },
  {
   "cell_type": "markdown",
   "id": "4d4c37fa",
   "metadata": {},
   "source": [
    "****We define a class similarly to how we define a function:****\n",
    "\n",
    "Class definition syntax\n",
    "![](class_syntax.png)\n",
    "\n",
    "<li>Notice that the class definition doesn't have parenthesis (). This is optional for classes.</li>\n"
   ]
  },
  {
   "cell_type": "code",
   "execution_count": null,
   "id": "74f8ab92",
   "metadata": {},
   "outputs": [],
   "source": [
    "class my_class:\n",
    "    def display_class_name(self):\n",
    "        print(\"my class name is python class\")\n",
    "    "
   ]
  },
  {
   "cell_type": "code",
   "execution_count": null,
   "id": "9baea0c3",
   "metadata": {},
   "outputs": [],
   "source": [
    "my_obj = my_class()\n",
    "my_obj.display_class_name()"
   ]
  },
  {
   "cell_type": "markdown",
   "id": "590b1caa",
   "metadata": {},
   "source": [
    "#### Rules For Naming Classes\n",
    "\n",
    "<li>The rules for naming classes are the same as naming functions and variables:</li>\n",
    "<ol>\n",
    "    <li>We must use only letters, numbers, or underscores.</li>\n",
    "    <li>We cannot use apostrophes, hyphens, whitespace characters, etc.</li>\n",
    "    <li>Class names can't begin with a number.</li>\n",
    "<ol>"
   ]
  },
  {
   "cell_type": "code",
   "execution_count": null,
   "id": "c09c693b",
   "metadata": {},
   "outputs": [],
   "source": [
    "class bhu1:"
   ]
  },
  {
   "cell_type": "code",
   "execution_count": null,
   "id": "ad804fe8",
   "metadata": {},
   "outputs": [],
   "source": [
    "class app name:"
   ]
  },
  {
   "cell_type": "code",
   "execution_count": null,
   "id": "855a551e",
   "metadata": {},
   "outputs": [],
   "source": [
    "class 2pm:"
   ]
  },
  {
   "cell_type": "markdown",
   "id": "6892b3f4",
   "metadata": {},
   "source": [
    "#### Pass Statement In Class\n",
    "<li>The pass statement is useful if you're building something complex and you want to create a placeholder for a function that you will build out later without causing any error.</li>\n",
    "\n",
    "<li>The self parameter is a reference to the current instance of the class, and is used to access variables that belongs to the class.</li>"
   ]
  },
  {
   "cell_type": "code",
   "execution_count": null,
   "id": "fd751796",
   "metadata": {},
   "outputs": [],
   "source": [
    "class myclass:\n",
    "    def display_class(self):\n",
    "        pass\n",
    "        \n",
    "        "
   ]
  },
  {
   "cell_type": "code",
   "execution_count": null,
   "id": "48c8a231",
   "metadata": {},
   "outputs": [],
   "source": []
  },
  {
   "cell_type": "markdown",
   "id": "418cef33",
   "metadata": {},
   "source": [
    "#### Instantiating an object in Class\n",
    "\n",
    "<li>In OOP, we use instance to describe each different object.</li>\n",
    "<li>We can say the same of Python strings. We might create two Python strings, and they can hold different values, but they work the same way:</li>\n",
    "<code>\n",
    "    string1 = \"this is string one\"\n",
    "    string2 = \"this is string two\"\n",
    "</code>\n",
    "\n",
    "<li>These objects <b>string1</b> and <b>string2</b> are two instances of Python <b>'str'</b> classes.</li>\n",
    "<li>While each of them are unique as they contain unique values but they are the same type of object refering to the same class.</li>\n",
    "\n",
    "<li>Once we have defined our class, we can create an object of that class, which we call instantiation.</li>\n",
    "\n",
    "<li>If you create an object of a particular class, the technical phrase for what you did is to \"Instantiate an object of that class.\"</li>\n",
    "\n",
    "<li>The assignment operator (=) instantiates the object, and the assignment operator and variable name create the variable.</li>\n",
    "\n",
    "<li>Let's learn how to instantiate an instance of our new class:</li>\n",
    "\n"
   ]
  },
  {
   "cell_type": "code",
   "execution_count": null,
   "id": "88549e5c",
   "metadata": {},
   "outputs": [],
   "source": []
  },
  {
   "cell_type": "code",
   "execution_count": null,
   "id": "caee807b",
   "metadata": {},
   "outputs": [],
   "source": []
  },
  {
   "cell_type": "markdown",
   "id": "c942193a",
   "metadata": {},
   "source": [
    "#### Question\n",
    "<ol>\n",
    "<li>Define a class named MyClass.</li>\n",
    "\n",
    "<li>Inside the class definition, add a pass statement to avoid a SyntaxError.</li>\n",
    "\n",
    "<li>Below the class definition, use the MyClass() constructor to create an instance of MyClass. Assign it to a variable named my_instance.</li>\n",
    "\n",
    "<li>Use the print() and type() built-in functions to print the type of my_instance.</li>\n",
    "</ol>"
   ]
  },
  {
   "cell_type": "code",
   "execution_count": null,
   "id": "dd087f33",
   "metadata": {},
   "outputs": [],
   "source": [
    "class MyClass:\n",
    "    pass"
   ]
  },
  {
   "cell_type": "code",
   "execution_count": null,
   "id": "8643055d",
   "metadata": {},
   "outputs": [],
   "source": [
    "my_instance = MyClass()\n",
    "print(my_instance)\n",
    "print(type(my_instance))"
   ]
  },
  {
   "cell_type": "markdown",
   "id": "070ef60e",
   "metadata": {},
   "source": [
    "#### Methods In Python\n",
    "\n",
    "\n",
    "<li>We can think of methods like special functions that belong to a particular class.</li>\n",
    "<li>This is why we call the replace method str.replace()— because the method belongs to the str class.</li>\n",
    "<li>While we can use a function with any object, each class has its own set of methods.</li>\n",
    "<li>The list object has the list.append() method.</li>\n",
    "<li>The string object has the string.split() method.</li>\n",
    "<li>The dictionary object has dictionary.items() method.</li>\n",
    "<li>A method is a function that “belongs to” an object.</li>\n",
    "<li>The syntax for creating a method is almost identical to creating a function, except we indent it within our class definition.</li>\n",
    "<li>This is how we would define a simple method:</li>\n",
    "<code>\n",
    "    class myclass:\n",
    "        def greet():\n",
    "            return \"hello\"\n",
    "</code>\n",
    "\n"
   ]
  },
  {
   "cell_type": "code",
   "execution_count": null,
   "id": "c9f36bb7",
   "metadata": {},
   "outputs": [],
   "source": [
    "class myclass:\n",
    "    greet_value = \"hello\"\n",
    "    def greet(self):\n",
    "        return self.greet_value"
   ]
  },
  {
   "cell_type": "code",
   "execution_count": null,
   "id": "4df26616",
   "metadata": {},
   "outputs": [],
   "source": [
    "myobj = myclass()\n",
    "myobj.greet()"
   ]
  },
  {
   "cell_type": "markdown",
   "id": "97ebd6ca",
   "metadata": {},
   "source": [
    "#### Use of self in methods.\n",
    "\n",
    "<li>The word <b>self</b> is the first parameter of methods that represents the instance of the class.</li>\n",
    "<li>By using the “self” we can access the attributes and methods of the class in python.</li>\n",
    "<li>The convention is to call the \"phantom\" argument self.</li>\n",
    "<li>The \"phantom\" argument is actually the object itself.</li>\n"
   ]
  },
  {
   "cell_type": "code",
   "execution_count": null,
   "id": "f26abd8a",
   "metadata": {},
   "outputs": [],
   "source": []
  },
  {
   "cell_type": "code",
   "execution_count": 1,
   "id": "7d5cf49d",
   "metadata": {},
   "outputs": [],
   "source": [
    "class MyClass:\n",
    "    def print_self(self):\n",
    "        print(self)"
   ]
  },
  {
   "cell_type": "code",
   "execution_count": 2,
   "id": "e4419097",
   "metadata": {},
   "outputs": [
    {
     "name": "stdout",
     "output_type": "stream",
     "text": [
      "<__main__.MyClass object at 0x000001C62C1389D0>\n",
      "<__main__.MyClass object at 0x000001C62C1389D0>\n"
     ]
    }
   ],
   "source": [
    "my_obj = MyClass()\n",
    "print(my_obj)\n",
    "my_obj.print_self()"
   ]
  },
  {
   "cell_type": "markdown",
   "id": "ad23b5da",
   "metadata": {},
   "source": [
    "#### Question\n",
    "\n",
    "<li>Create a class named <b>MyClass</b></li>\n",
    "\n",
    "<li>Inside the class, define a method called first_method().</li>\n",
    "\n",
    "<li>Inside the method, return the string \"This is my first method\".</li>\n",
    "\n",
    "<li>Outside of the class, create an instance of MyClass, and assign it to a variable named my_instance.</li>\n",
    "\n",
    "<li>Call my_instance.first_method(). Assign the result to the variable result.</li>"
   ]
  },
  {
   "cell_type": "code",
   "execution_count": null,
   "id": "c3cd0a2e",
   "metadata": {},
   "outputs": [],
   "source": [
    "class MyClass:\n",
    "    def first_method(self):\n",
    "        return \"This is my first method\""
   ]
  },
  {
   "cell_type": "code",
   "execution_count": null,
   "id": "f2675ebc",
   "metadata": {},
   "outputs": [],
   "source": [
    "my_instance = MyClass()\n",
    "result = my_instance.first_method()\n",
    "print(result)"
   ]
  },
  {
   "cell_type": "markdown",
   "id": "b6a54ac0",
   "metadata": {},
   "source": [
    "#### Creating a Method that Accepts an Argument\n",
    "\n",
    "<li>Like in functions, we can also create a method that can accept an argument.</li>\n",
    "<li>We can keep on adding arguments as we like but we must include self argument as well.</li>"
   ]
  },
  {
   "cell_type": "code",
   "execution_count": null,
   "id": "b365fa62",
   "metadata": {},
   "outputs": [],
   "source": [
    "class Arithmetic_Operation:\n",
    "    def addition1(self, n1, n2):\n",
    "        return n1 + n2\n",
    "    \n",
    "    def addition2(self, n1, n2 = 5):\n",
    "        return n1 + n2\n",
    "    \n",
    "    def addition3(self, *args):\n",
    "        result = 0\n",
    "        for item in args:\n",
    "            result += item\n",
    "        return result\n",
    "    \n",
    "    def addition4(self, **kwargs):\n",
    "        result = 0\n",
    "        for key, val in kwargs.items():\n",
    "            result += val\n",
    "        return result\n",
    "            "
   ]
  },
  {
   "cell_type": "code",
   "execution_count": null,
   "id": "c9df88b8",
   "metadata": {},
   "outputs": [],
   "source": [
    "ao1 = Arithmetic_Operation()\n",
    "ao2 = Arithmetic_Operation()\n",
    "ao3 = Arithmetic_Operation()\n",
    "ao4 = Arithmetic_Operation()"
   ]
  },
  {
   "cell_type": "code",
   "execution_count": null,
   "id": "89fab7b8",
   "metadata": {},
   "outputs": [],
   "source": [
    "result = ao1.addition1(n1 = 4, n2 = 3)\n",
    "print(result)"
   ]
  },
  {
   "cell_type": "code",
   "execution_count": null,
   "id": "b8a90d37",
   "metadata": {},
   "outputs": [],
   "source": [
    "result2 = ao2.addition2(5)"
   ]
  },
  {
   "cell_type": "code",
   "execution_count": null,
   "id": "242b956f",
   "metadata": {},
   "outputs": [],
   "source": [
    "print(result2)"
   ]
  },
  {
   "cell_type": "code",
   "execution_count": null,
   "id": "db171fb0",
   "metadata": {},
   "outputs": [],
   "source": [
    "result3 = ao3.addition3(5,4,3,2,1)\n",
    "print(result3)"
   ]
  },
  {
   "cell_type": "code",
   "execution_count": null,
   "id": "7351c3a8",
   "metadata": {},
   "outputs": [],
   "source": [
    "result4 = ao4.addition4(n1 = 5, n2 = 6, n3 = 7, n4 = 12, n5 = 10)\n",
    "print(result4)"
   ]
  },
  {
   "cell_type": "markdown",
   "id": "b3d35f3c",
   "metadata": {},
   "source": [
    "#### Create a calculator class which has addition, subtraction, multiplication and division methods."
   ]
  },
  {
   "cell_type": "code",
   "execution_count": null,
   "id": "9e12b07e",
   "metadata": {},
   "outputs": [],
   "source": [
    "class Calculator:\n",
    "    \n",
    "    def addition(self, n1, n2):\n",
    "        return n1+n2\n",
    "    \n",
    "    def subtraction(self, n1, n2):\n",
    "        return n1 - n2\n",
    "    \n",
    "    def multiplication(self, n1, n2):\n",
    "        return n1 * n2\n",
    "    \n",
    "    def division(self, n1,n2):\n",
    "        return n1/n2\n"
   ]
  },
  {
   "cell_type": "code",
   "execution_count": null,
   "id": "a2168f98",
   "metadata": {},
   "outputs": [],
   "source": [
    "myobj = Calculator()\n",
    "add_result = myobj.addition(5,4)\n",
    "print(add_result)\n",
    "sub_result = myobj.subtraction(66,12)\n",
    "print(sub_result)\n",
    "prod_result = myobj.multiplication(4,8)\n",
    "print(prod_result)\n",
    "div_result = myobj.division(20, 5)\n",
    "print(div_result)"
   ]
  },
  {
   "cell_type": "code",
   "execution_count": null,
   "id": "bb446021",
   "metadata": {},
   "outputs": [],
   "source": []
  },
  {
   "cell_type": "code",
   "execution_count": null,
   "id": "1650570f",
   "metadata": {},
   "outputs": [],
   "source": []
  },
  {
   "cell_type": "code",
   "execution_count": null,
   "id": "3823909a",
   "metadata": {},
   "outputs": [],
   "source": []
  },
  {
   "cell_type": "code",
   "execution_count": null,
   "id": "a5c6d793",
   "metadata": {},
   "outputs": [],
   "source": []
  },
  {
   "cell_type": "code",
   "execution_count": null,
   "id": "2c3d1c43",
   "metadata": {},
   "outputs": [],
   "source": []
  },
  {
   "cell_type": "markdown",
   "id": "24818a83",
   "metadata": {},
   "source": [
    "#### Question\n",
    "\n",
    "<li>Inside the MyClass class, define a new method called return_list() with two arguments:</li>\n",
    "<ol>\n",
    "<li>self: the self-reference of this instance</li>\n",
    "<li>input_list: a list</li>\n",
    "<li>Implement the return_list() method so that it returns the sum of given input_list.</li>\n",
    "<li>Create an instance of the MyClass class, and assign it to the variable name my_instance.</li>\n",
    "<li>Call the my_instance.return_list() method with the argument [1, 2, 3]. Assign the result to the variable result.</li>"
   ]
  },
  {
   "cell_type": "code",
   "execution_count": null,
   "id": "70a5d474",
   "metadata": {},
   "outputs": [],
   "source": [
    "class MyClass:\n",
    "    def return_list(self, input_list):\n",
    "        return sum(input_list)"
   ]
  },
  {
   "cell_type": "code",
   "execution_count": null,
   "id": "86c063d2",
   "metadata": {},
   "outputs": [],
   "source": [
    "my_instance = MyClass()\n",
    "result = my_instance.return_list([1,2,3])\n",
    "print(result)"
   ]
  },
  {
   "cell_type": "markdown",
   "id": "a9c399f4",
   "metadata": {},
   "source": [
    "#### Attributes & Init Method(Dunder method)\n",
    "\n",
    "<li>The power of objects is in their ability to store data using attributes.</li>\n",
    "<li>Data is stored as attributes inside objects.</li>\n",
    "<li>We access attributes using dot notation.</li>\n",
    "<li>Attributes can be accessed within the class by using self.data and outside the class by using object.data.</li>\n",
    "<li>To give attributes values when we instantiate objects, we pass them as arguments to a special method called __init__(), which runs when we instantiate an object.</li>\n"
   ]
  },
  {
   "cell_type": "markdown",
   "id": "722ab116",
   "metadata": {},
   "source": [
    "#### Different Methods of accessing Attributes (Student name roll no example)"
   ]
  },
  {
   "cell_type": "code",
   "execution_count": null,
   "id": "6981ae80",
   "metadata": {},
   "outputs": [],
   "source": [
    "class Student:\n",
    "    \n",
    "    student_name = \"Prabhat\"\n",
    "    student_roll = 23\n",
    "    \n",
    "    def display_details(self):\n",
    "        return \"The roll no of {} is {}\".format(self.student_name, self.student_roll)"
   ]
  },
  {
   "cell_type": "code",
   "execution_count": null,
   "id": "cac6b7e0",
   "metadata": {},
   "outputs": [],
   "source": [
    "obj = Student()"
   ]
  },
  {
   "cell_type": "code",
   "execution_count": null,
   "id": "3345a61e",
   "metadata": {},
   "outputs": [],
   "source": [
    "obj.display_details()"
   ]
  },
  {
   "cell_type": "code",
   "execution_count": null,
   "id": "a3ce2c2a",
   "metadata": {
    "scrolled": true
   },
   "outputs": [],
   "source": [
    "obj.student_roll"
   ]
  },
  {
   "cell_type": "code",
   "execution_count": null,
   "id": "5fdbdc0d",
   "metadata": {},
   "outputs": [],
   "source": [
    "class Student:\n",
    "    \n",
    "    def __init__(self, name, roll_no):\n",
    "        self.std_name = name\n",
    "        self.std_roll_no = roll_no\n",
    "        \n",
    "    def display_details(self):\n",
    "        return \"The roll no of {} is {}\".format(self.std_name, self.std_roll_no)"
   ]
  },
  {
   "cell_type": "code",
   "execution_count": null,
   "id": "faf8f907",
   "metadata": {},
   "outputs": [],
   "source": [
    "student_obj = Student(name = \"Ashmita Thapa\", roll_no = 22)"
   ]
  },
  {
   "cell_type": "code",
   "execution_count": null,
   "id": "a6692f99",
   "metadata": {},
   "outputs": [],
   "source": [
    "student_obj.display_details()"
   ]
  },
  {
   "cell_type": "markdown",
   "id": "77025b24",
   "metadata": {},
   "source": [
    "#### Constructors\n",
    "\n",
    "<li>Constructors are generally used for instantiating an object.</li>\n",
    "<li>They are initialized automatically when objects are created.</li>\n",
    "<li>The task of constructors is to initialize(assign values) to the data members of the class when an object of the class is created.</li>\n",
    "<li>In Python the __init__() method is called the constructor and is always called when an object is created.</li>\n",
    "\n",
    "<li>Syntax of constructor declaration :</li>\n",
    "<code>\n",
    "def __init__(self):\n",
    "    # body of the constructor\n",
    "    \n",
    "</code>\n",
    "\n"
   ]
  },
  {
   "cell_type": "code",
   "execution_count": 3,
   "id": "e07408f6",
   "metadata": {},
   "outputs": [],
   "source": [
    "class A:\n",
    "    def __init__(self):\n",
    "        self.name = \"Prabhat\""
   ]
  },
  {
   "cell_type": "code",
   "execution_count": 4,
   "id": "dc358735",
   "metadata": {},
   "outputs": [],
   "source": [
    "obj_a = A()"
   ]
  },
  {
   "cell_type": "code",
   "execution_count": 5,
   "id": "58d88185",
   "metadata": {},
   "outputs": [
    {
     "data": {
      "text/plain": [
       "'Prabhat'"
      ]
     },
     "execution_count": 5,
     "metadata": {},
     "output_type": "execute_result"
    }
   ],
   "source": [
    "obj_a.name"
   ]
  },
  {
   "cell_type": "markdown",
   "id": "28229f52",
   "metadata": {},
   "source": [
    "#### Rules of Python Constructor\n",
    "\n",
    "<li>It starts with the def keyword, like all other functions in Python.</li>\n",
    "<li>It is followed by the word init, which is prefixed and suffixed with double underscores with a pair of brackets, i.e., __init__().</li>\n",
    "<li>It takes an argument called self, assigning values to the variables.</li>"
   ]
  },
  {
   "cell_type": "markdown",
   "id": "41e74f89",
   "metadata": {},
   "source": [
    "#### Types Of Constructor:\n",
    "<ol>\n",
    "    <b><li>parameterized constructor:</li></b>\n",
    "    <ul>\n",
    "        <li>The constructor with parameters is known as parameterized constructor.</li>\n",
    "        <li>The parameterized constructor takes its first argument as a reference to the instance being constructed known as           self and the rest of the arguments are provided by the programmer.</li>\n",
    "    </ul>\n",
    "    <b><li>non-parameterized constructor:</li></b>\n",
    "    <ul>\n",
    "     <li>When the constructor doesn't accept any arguments from the object and has only one argument, self, in the   \n",
    "         constructor, it is known as a non-parameterized constructor.</li>\n",
    "     </ul>\n",
    "    <b><li>default constructor:</li></b>\n",
    "    <ul>\n",
    "        <li>The default constructor is a simple constructor which doesn’t accept any arguments.</li>\n",
    "        <li>Its definition has only one argument which is a reference to the instance being constructed.</li>\n",
    "    </ul>\n",
    "\n",
    "\n"
   ]
  },
  {
   "cell_type": "code",
   "execution_count": 7,
   "id": "2a1ed585",
   "metadata": {},
   "outputs": [],
   "source": [
    "class Addition:\n",
    "    \n",
    "    def __init__(self, a, b):\n",
    "        self.n1 = a\n",
    "        self.n2 = b\n",
    "    \n",
    "    def add(self):\n",
    "        return self.n1 + self.n2\n",
    "    "
   ]
  },
  {
   "cell_type": "code",
   "execution_count": 9,
   "id": "0bde6874",
   "metadata": {},
   "outputs": [],
   "source": [
    "addition_obj = Addition(5, 4)"
   ]
  },
  {
   "cell_type": "code",
   "execution_count": 10,
   "id": "874ca62e",
   "metadata": {},
   "outputs": [
    {
     "data": {
      "text/plain": [
       "9"
      ]
     },
     "execution_count": 10,
     "metadata": {},
     "output_type": "execute_result"
    }
   ],
   "source": [
    "addition_obj.add()"
   ]
  },
  {
   "cell_type": "code",
   "execution_count": null,
   "id": "83ea48ee",
   "metadata": {},
   "outputs": [],
   "source": []
  },
  {
   "cell_type": "code",
   "execution_count": 11,
   "id": "3d32bcec",
   "metadata": {},
   "outputs": [],
   "source": [
    "class Addition:\n",
    "    def __init__(self):\n",
    "        pass\n",
    "    def add(self, a , b):\n",
    "        self.a = a\n",
    "        self.b = b\n",
    "        return self.a + self.b"
   ]
  },
  {
   "cell_type": "code",
   "execution_count": 13,
   "id": "48eea965",
   "metadata": {},
   "outputs": [],
   "source": [
    "add_obj = Addition()"
   ]
  },
  {
   "cell_type": "code",
   "execution_count": 14,
   "id": "a7fb99b5",
   "metadata": {},
   "outputs": [
    {
     "data": {
      "text/plain": [
       "35"
      ]
     },
     "execution_count": 14,
     "metadata": {},
     "output_type": "execute_result"
    }
   ],
   "source": [
    "add_obj.add(23, 12)"
   ]
  },
  {
   "cell_type": "code",
   "execution_count": 15,
   "id": "f425ca09",
   "metadata": {},
   "outputs": [],
   "source": [
    "class Addition:\n",
    "    a = 5\n",
    "    b = 3\n",
    "    def add(self):\n",
    "        return self.a + self.b"
   ]
  },
  {
   "cell_type": "code",
   "execution_count": 16,
   "id": "d321f7b6",
   "metadata": {},
   "outputs": [],
   "source": [
    "new_addition_obj = Addition()"
   ]
  },
  {
   "cell_type": "code",
   "execution_count": 17,
   "id": "7f32514d",
   "metadata": {},
   "outputs": [
    {
     "data": {
      "text/plain": [
       "8"
      ]
     },
     "execution_count": 17,
     "metadata": {},
     "output_type": "execute_result"
    }
   ],
   "source": [
    "new_addition_obj.add()"
   ]
  },
  {
   "cell_type": "code",
   "execution_count": 18,
   "id": "1a58920f",
   "metadata": {},
   "outputs": [],
   "source": [
    "class Addition:\n",
    "    def __init__(self):\n",
    "        self.a = 5\n",
    "        self.b = 3\n",
    "    \n",
    "    def add(self):\n",
    "        return self.a + self.b"
   ]
  },
  {
   "cell_type": "code",
   "execution_count": 19,
   "id": "f2b01a61",
   "metadata": {},
   "outputs": [
    {
     "data": {
      "text/plain": [
       "8"
      ]
     },
     "execution_count": 19,
     "metadata": {},
     "output_type": "execute_result"
    }
   ],
   "source": [
    "add_obj2 = Addition()\n",
    "add_obj2.add()"
   ]
  },
  {
   "cell_type": "markdown",
   "id": "90fab709",
   "metadata": {},
   "source": [
    "#### Question\n",
    "\n",
    "<li>Define a new class called MyList.</li>\n",
    "\n",
    "<li>Inside the class, create the __init__() method with two arguments:</li>\n",
    "<ol>\n",
    "    <li>self: the self-reference of this instance</li>\n",
    "<li>initial_data: a list giving the initial values in the list. Inside the __init__() method, store the provided initial_data into self.data.</li>\n",
    "</ol>\n",
    "<li>Outside of the class, instantiate an object of your MyList class, providing the list [1, 2, 3, 4, 5] as the argument. Assign the object to the variable name my_list.</li>\n",
    "\n",
    "<li>Use the print() function to display the data attribute of my_list.</li>\n",
    "\n"
   ]
  },
  {
   "cell_type": "code",
   "execution_count": 20,
   "id": "49aeab0c",
   "metadata": {},
   "outputs": [],
   "source": [
    "class MyList:\n",
    "    \n",
    "    def __init__(self, initial_data):\n",
    "        self.data = initial_data\n",
    "        "
   ]
  },
  {
   "cell_type": "code",
   "execution_count": 21,
   "id": "bddfb4f3",
   "metadata": {},
   "outputs": [],
   "source": [
    "my_list = MyList([1,2,3,4,5])"
   ]
  },
  {
   "cell_type": "code",
   "execution_count": 22,
   "id": "b32b0413",
   "metadata": {},
   "outputs": [
    {
     "name": "stdout",
     "output_type": "stream",
     "text": [
      "[1, 2, 3, 4, 5]\n"
     ]
    }
   ],
   "source": [
    "print(my_list.data)"
   ]
  },
  {
   "cell_type": "markdown",
   "id": "4d8784e1",
   "metadata": {},
   "source": [
    "#### Question\n",
    "\n",
    "<li>Create a MyList class, and define a new append() method with two arguments:</li>\n",
    "<ol>\n",
    "<li>self: the self-references to the instance</li>\n",
    "<li>new_item: the new item that we want to add to the list.</li>\n",
    "<li>Implement the append() method so that it appends the provided new_item to the list stored in self.data.</li>\n",
    "</ol>\n",
    "\n",
    "<li>Outside of the class, create an instance of MyList, providing the list [1, 2, 3, 4, 5]. Assign it to a variable named my_list.</li>\n",
    "\n",
    "<li>Print the value of my_list.data.</li>\n",
    "\n",
    "<li>Use the append() method to append value 6 to my_list.</li>\n",
    "\n",
    "<li>Print the value of my_list.data. Observe that it now contains the 6 that we added.</li>\n",
    "\n"
   ]
  },
  {
   "cell_type": "code",
   "execution_count": 25,
   "id": "7161d574",
   "metadata": {},
   "outputs": [],
   "source": [
    "class MyList:\n",
    "    \n",
    "    def __init__(self, initial_data):\n",
    "        self.data = initial_data\n",
    "        \n",
    "    def append(self, new_item):\n",
    "        self.data = self.data + [new_item]\n",
    "        return self.data"
   ]
  },
  {
   "cell_type": "code",
   "execution_count": 26,
   "id": "86efaed1",
   "metadata": {},
   "outputs": [],
   "source": [
    "my_list = MyList([1,2,3,4,5])"
   ]
  },
  {
   "cell_type": "code",
   "execution_count": 27,
   "id": "092160a6",
   "metadata": {},
   "outputs": [
    {
     "data": {
      "text/plain": [
       "[1, 2, 3, 4, 5, 6]"
      ]
     },
     "execution_count": 27,
     "metadata": {},
     "output_type": "execute_result"
    }
   ],
   "source": [
    "my_list.append(6)"
   ]
  },
  {
   "cell_type": "markdown",
   "id": "e4005e98",
   "metadata": {},
   "source": [
    "#### Create a class Frequency table that accepts dataset in a constructor and create a method named create_table which creates the frequency table."
   ]
  },
  {
   "cell_type": "code",
   "execution_count": 28,
   "id": "834c3a19",
   "metadata": {},
   "outputs": [],
   "source": [
    "header = ['Name', 'Gender', 'Age', 'Faculty', 'Semester', 'Percentage Score']\n",
    "student_1 = ['Ram', 'male',23, 'B.C.A', 'Seventh Semester', 78.2]\n",
    "student_2 = ['Shyam','male',21,'B.C.A', 'Fifth Semester',67.5]\n",
    "student_3 = ['Abhishek','male',22, 'B.Sc.Cs.It', 'Seventh Semester',82.4]\n",
    "student_4 = ['Mahima','female',20, 'B.Sc.Cs.It', 'Fifth Semester',87.3]\n",
    "student_5 = ['Sanjana','female',22, 'B.Sc.Cs.It', 'Seventh Semester',69.8]\n",
    "student_6 = ['Prabhat', 'male',23, 'B.Sc.Cs.It', 'Seventh Semester', 80.2]\n",
    "student_7 = ['Ashmita','female',21,'B.Sc.Cs.It', 'Fifth Semester',81.5]\n",
    "student_8 = ['Shanti','female',22, 'B.Sc.Cs.It', 'Fifth Semester',72.4]\n",
    "student_9 = ['Himal','male',20, 'B.C.A', 'Fifth Semester',78.3]\n",
    "student_10 = ['Rabina','female',22, 'B.I.M', 'Seventh Semester',75.8]\n",
    "student_11 = ['Kamal', 'male',23, 'B.I.M', 'Fifth Semester', 80.2]\n",
    "student_12= ['Bhawana','female',21,'B.I.M', 'Third Semester',81.5]\n",
    "student_13 = ['Sunil','male',22, 'B.I.M', 'Fourth Semester',72.4]\n",
    "student_14= ['Nirisha','female',20, 'B.I.M', 'Fourth Semester',78.3]\n",
    "student_15 = ['Sushmita','female',22, 'B.I.M', 'Third Semester',75.8]\n",
    "student_16 = ['Alisha', 'female',20, 'B.A.L.L.B', 'Second Semester', 70.2]\n",
    "student_17 = ['Dipen','male',23,'B.C.A', 'Fifth Semester',67.5]\n",
    "student_18 = ['Purnima','female',23, 'B.A.L.L.B', 'Seventh Semester',81.4]\n",
    "student_19 = ['Aastha','female',24, 'B.Sc.Cs.It', 'Fifth Semester',83.3]\n",
    "student_20 = ['Pramila','female',24, 'B.Sc.Cs.It', 'Seventh Semester',79.8]\n",
    "student_21 = ['Pawan', 'male',24, 'B.Sc.Cs.It', 'Third Semester', 70.2]\n",
    "student_22 = ['Prakriti','female',22,'B.A.L.L.B', 'Fifth Semester',69.5]\n",
    "student_23 = ['Nabina','female',23, 'B.Sc.Cs.It', 'Second Semester',77.4]\n",
    "student_24 = ['Siddhant','male',23, 'B.C.A', 'Fifth Semester',78.3]\n",
    "student_25 = ['Goma','female',25, 'B.A.L.L.B', 'Seventh Semester',72.8]\n",
    "student_26 = ['Rijan', 'male',23, 'B.I.M', 'Fifth Semester', 81.2]\n",
    "student_27 = ['Rihans','male',21,'B.C.A', 'Third Semester',86.5]\n",
    "student_28 = ['Kabya','female',22, 'B.I.M', 'Second Semester',78.4]\n",
    "student_29 = ['Abhi','male',20, 'B.I.M', 'Fourth Semester',71.3]\n",
    "student_30 = ['Seema','female',25, 'B.I.M', 'Fifth Semester',69.8]\n",
    "\n",
    "student_datasets = [header, student_1, student_2, student_3, student_4, student_5,\n",
    "                    student_6, student_7, student_8, student_9, student_10,\n",
    "                   student_11, student_12, student_13, student_14,student_15,\n",
    "                   student_16, student_17, student_18, student_19, student_20,\n",
    "                    student_21, student_22, student_23, student_24, student_25,\n",
    "                   student_26, student_27, student_28, student_29, student_30]\n",
    "\n"
   ]
  },
  {
   "cell_type": "code",
   "execution_count": 35,
   "id": "bf4c706d",
   "metadata": {},
   "outputs": [],
   "source": [
    "class Frequency_Table:\n",
    "    def __init__(self, dataset):\n",
    "        self.dataset = dataset\n",
    "        \n",
    "    def freq_table(self, index):\n",
    "        freq_dict = {}\n",
    "        \n",
    "        for item in self.dataset[1:]:\n",
    "            if item[index] not in freq_dict:\n",
    "                freq_dict[item[index]] = 1\n",
    "            else:\n",
    "                freq_dict[item[index]] += 1\n",
    "        return freq_dict"
   ]
  },
  {
   "cell_type": "code",
   "execution_count": 36,
   "id": "b4f30c69",
   "metadata": {},
   "outputs": [
    {
     "data": {
      "text/plain": [
       "{'male': 13, 'female': 17}"
      ]
     },
     "execution_count": 36,
     "metadata": {},
     "output_type": "execute_result"
    }
   ],
   "source": [
    "freq_obj = Frequency_Table(dataset = student_datasets)\n",
    "freq_obj.freq_table(index = 1)"
   ]
  },
  {
   "cell_type": "code",
   "execution_count": null,
   "id": "a033cfd3",
   "metadata": {},
   "outputs": [],
   "source": []
  },
  {
   "cell_type": "code",
   "execution_count": null,
   "id": "92e6d13f",
   "metadata": {},
   "outputs": [],
   "source": []
  },
  {
   "cell_type": "markdown",
   "id": "f59a1149",
   "metadata": {},
   "source": [
    "#### Data Abstraction & Encapsulation\n",
    "\n",
    "<li>Data abstraction and encapsulation in python programming are related to each other.</li>\n",
    "<li>Data abstraction and encapsulation are synonymous as data abstraction is achieved through encapsulation.</li>\n",
    "<li>Abstraction is used to hide internal details and show only functionalities.</li>\n",
    "<li>Abstracting something means to give names to things, so that the name captures the basic idea of what a function or a whole program does.</li>\n",
    "<li>Encapsulation is used to restrict access to methods and variables.</li>\n",
    "<li>Encapsulation describes the idea of wrapping data and the methods that work on data within one unit.</li>\n",
    "<li>This puts restrictions on accessing variables and methods directly and can prevent the accidental modification of data.</li>\n",
    "\n",
    "\n",
    "<li>Abstraction hides the internal implementation, and creates an skeleton for what is required.</li>\n",
    "<li>Encapsulation hides the data from the external world. It protects data within class and exposes methods to the world.</li>\n",
    "<li>Abstraction is achieved by creating a class and defining the member variables, properties and methods inside it, as per the requirement.</li>\n",
    "<li>Encapsulation is achieved by using access modifiers like private, public, protected and internal.</li>"
   ]
  },
  {
   "cell_type": "code",
   "execution_count": null,
   "id": "067b8801",
   "metadata": {},
   "outputs": [],
   "source": []
  },
  {
   "cell_type": "code",
   "execution_count": null,
   "id": "1db55f65",
   "metadata": {},
   "outputs": [],
   "source": []
  },
  {
   "cell_type": "code",
   "execution_count": null,
   "id": "b08e31fe",
   "metadata": {},
   "outputs": [],
   "source": []
  },
  {
   "cell_type": "markdown",
   "id": "c0f93e8f",
   "metadata": {},
   "source": [
    "#### Inheritance In Python\n",
    "<li>Inheritance is a mechanism in which one class acquires the property of another class</li>\n",
    "<li>In inheritance child class or derived class acquires the properties from parent class or base class.</li>\n",
    "<li>Inheritance allows us to define a class that inherits all the methods and properties from another class.</li>\n",
    "<li>Parent class is the class being inherited from, also called base class.</li>\n",
    "<li>Child class is the class that inherits from another class, also called derived class.</li>\n",
    "\n",
    "![](inheritance.png)\n",
    "<li>Inheritance is used for:</li>\n",
    "<ol>\n",
    "    <li>Code Reusability</li>\n",
    "    <li>Transition & Readability</li>\n",
    "    <li>Real World Relationship</li>\n",
    "</ol>"
   ]
  },
  {
   "cell_type": "markdown",
   "id": "666096a7",
   "metadata": {},
   "source": [
    "#### Types Of Inheritance\n",
    "<li>There are 5 types of inheritance in python.</li>\n",
    "<li>They are :</li>\n",
    "<ol>\n",
    "    <li>Single Inheritance</li>\n",
    "    <li>Multiple Inheritance</li>\n",
    "    <li>Multilevel Inheritance</li>\n",
    "    <li>Hierarchical Inheritance</li>\n",
    "    <li>Hybrid Inheritance</li>  \n",
    "</ol>"
   ]
  },
  {
   "cell_type": "markdown",
   "id": "8be4c73e",
   "metadata": {},
   "source": [
    "#### 1.Single Inheritance\n",
    "<li>When a child class is derived from only one parent class. This is called single inheritance.</li>\n",
    "<li>A child class can reuse the methods and attributes of a parent class as well as add new features to the existing code.</li>\n",
    "\n",
    "![](single_inheritance.png)"
   ]
  },
  {
   "cell_type": "markdown",
   "id": "a4f26daa",
   "metadata": {},
   "source": [
    "#### Example"
   ]
  },
  {
   "cell_type": "code",
   "execution_count": null,
   "id": "5617c540",
   "metadata": {},
   "outputs": [],
   "source": []
  },
  {
   "cell_type": "code",
   "execution_count": null,
   "id": "e80f4172",
   "metadata": {},
   "outputs": [],
   "source": []
  },
  {
   "cell_type": "code",
   "execution_count": null,
   "id": "0797ad3c",
   "metadata": {},
   "outputs": [],
   "source": []
  },
  {
   "cell_type": "code",
   "execution_count": null,
   "id": "129df455",
   "metadata": {},
   "outputs": [],
   "source": []
  },
  {
   "cell_type": "code",
   "execution_count": null,
   "id": "f48a9b1d",
   "metadata": {},
   "outputs": [],
   "source": []
  },
  {
   "cell_type": "markdown",
   "id": "370d9486",
   "metadata": {},
   "source": [
    "#### Multiple Inheritance\n",
    "<li>When a class can be derived from more than one base class this type of inheritance is called multiple inheritance.</li>\n",
    "<li>In multiple inheritance, all the features of the base classes are inherited into the derived class.</li>\n",
    "\n",
    "![](multiple_inheritance.png)"
   ]
  },
  {
   "cell_type": "markdown",
   "id": "f8e8c506",
   "metadata": {},
   "source": [
    "#### Example"
   ]
  },
  {
   "cell_type": "code",
   "execution_count": null,
   "id": "20da2cea",
   "metadata": {},
   "outputs": [],
   "source": []
  },
  {
   "cell_type": "code",
   "execution_count": null,
   "id": "bbf457e3",
   "metadata": {},
   "outputs": [],
   "source": []
  },
  {
   "cell_type": "code",
   "execution_count": null,
   "id": "28b81ef5",
   "metadata": {},
   "outputs": [],
   "source": []
  },
  {
   "cell_type": "code",
   "execution_count": null,
   "id": "697b54ad",
   "metadata": {},
   "outputs": [],
   "source": []
  },
  {
   "cell_type": "code",
   "execution_count": null,
   "id": "6877d0c5",
   "metadata": {},
   "outputs": [],
   "source": []
  },
  {
   "cell_type": "code",
   "execution_count": null,
   "id": "4547c328",
   "metadata": {},
   "outputs": [],
   "source": []
  },
  {
   "cell_type": "code",
   "execution_count": null,
   "id": "11c241d5",
   "metadata": {},
   "outputs": [],
   "source": []
  },
  {
   "cell_type": "markdown",
   "id": "97a37c83",
   "metadata": {},
   "source": [
    "#### Multilevel Inheritance\n",
    "<li>In multilevel inheritance, features of the base class and the derived class are further inherited into the new derived class.</li>\n",
    "<li>This is similar to a relationship representing a child and a grandfather.</li>\n",
    "<li>A father can inherit the properties from the grandfather and a child can inherit the properties of a father.</li>\n",
    "\n",
    "![](multilevel_inheritance.png)"
   ]
  },
  {
   "cell_type": "markdown",
   "id": "096b794b",
   "metadata": {},
   "source": [
    "#### Example Code"
   ]
  },
  {
   "cell_type": "code",
   "execution_count": null,
   "id": "3a1a6450",
   "metadata": {},
   "outputs": [],
   "source": []
  },
  {
   "cell_type": "code",
   "execution_count": null,
   "id": "7360785b",
   "metadata": {},
   "outputs": [],
   "source": []
  },
  {
   "cell_type": "code",
   "execution_count": null,
   "id": "e43e067d",
   "metadata": {},
   "outputs": [],
   "source": []
  },
  {
   "cell_type": "code",
   "execution_count": null,
   "id": "bdddc13f",
   "metadata": {},
   "outputs": [],
   "source": []
  },
  {
   "cell_type": "code",
   "execution_count": null,
   "id": "30766a4e",
   "metadata": {},
   "outputs": [],
   "source": []
  },
  {
   "cell_type": "code",
   "execution_count": null,
   "id": "7b376248",
   "metadata": {},
   "outputs": [],
   "source": []
  },
  {
   "cell_type": "code",
   "execution_count": null,
   "id": "dfaf90c8",
   "metadata": {},
   "outputs": [],
   "source": []
  },
  {
   "cell_type": "code",
   "execution_count": null,
   "id": "f2801228",
   "metadata": {},
   "outputs": [],
   "source": []
  },
  {
   "cell_type": "code",
   "execution_count": null,
   "id": "4a9395f7",
   "metadata": {},
   "outputs": [],
   "source": []
  },
  {
   "cell_type": "code",
   "execution_count": null,
   "id": "69462458",
   "metadata": {},
   "outputs": [],
   "source": []
  },
  {
   "cell_type": "code",
   "execution_count": null,
   "id": "8649d9a5",
   "metadata": {},
   "outputs": [],
   "source": []
  },
  {
   "cell_type": "markdown",
   "id": "dd7d6b0d",
   "metadata": {},
   "source": [
    "#### Hierarchical Inheritance\n",
    "\n",
    "<li>When more than one derived class are created from a single base this type of inheritance is called hierarchical inheritance.</li>\n",
    "<li>If a father has two child then the relation between father and two childs in inheritance is defined as a hierarchical inheritance.</li>\n",
    "<li>In this type of inheritance, we can have only one parent (base) class but more than two child (derived) classes.</li>\n",
    "\n",
    "![](hierarchical_inheritance.png)\n"
   ]
  },
  {
   "cell_type": "markdown",
   "id": "1d28832c",
   "metadata": {},
   "source": [
    "#### Example Code"
   ]
  },
  {
   "cell_type": "code",
   "execution_count": null,
   "id": "003bd14a",
   "metadata": {},
   "outputs": [],
   "source": []
  },
  {
   "cell_type": "code",
   "execution_count": null,
   "id": "cbbf2243",
   "metadata": {},
   "outputs": [],
   "source": []
  },
  {
   "cell_type": "code",
   "execution_count": null,
   "id": "42687d22",
   "metadata": {},
   "outputs": [],
   "source": []
  },
  {
   "cell_type": "code",
   "execution_count": null,
   "id": "340e62d3",
   "metadata": {},
   "outputs": [],
   "source": []
  },
  {
   "cell_type": "code",
   "execution_count": null,
   "id": "50cfe160",
   "metadata": {},
   "outputs": [],
   "source": []
  },
  {
   "cell_type": "code",
   "execution_count": null,
   "id": "24f4eab5",
   "metadata": {},
   "outputs": [],
   "source": []
  },
  {
   "cell_type": "markdown",
   "id": "0127cab5",
   "metadata": {},
   "source": [
    "#### Hybrid Inheritance\n",
    "\n",
    "<li>Inheritance consisting of multiple types of inheritance is called hybrid inheritance.</li>\n",
    "<li>Within Hybrid Inheritance, we can have single inheritance as well as mutiple inheritance as well as multilevel inheritance as well as hierarchical inheritance.</li>\n",
    "<li>It is one of the most complex inheritance among all of them which can be used to model real world entities as relationships in real world are complex.</li>\n",
    "\n",
    "![](hybrid_inheritance.png)"
   ]
  },
  {
   "cell_type": "markdown",
   "id": "2b2e1c9b",
   "metadata": {},
   "source": [
    "#### Example Code"
   ]
  },
  {
   "cell_type": "code",
   "execution_count": null,
   "id": "89085912",
   "metadata": {},
   "outputs": [],
   "source": []
  },
  {
   "cell_type": "code",
   "execution_count": null,
   "id": "17c5d474",
   "metadata": {},
   "outputs": [],
   "source": []
  },
  {
   "cell_type": "code",
   "execution_count": null,
   "id": "9a56922f",
   "metadata": {},
   "outputs": [],
   "source": []
  },
  {
   "cell_type": "code",
   "execution_count": null,
   "id": "75ce9515",
   "metadata": {},
   "outputs": [],
   "source": []
  },
  {
   "cell_type": "code",
   "execution_count": null,
   "id": "0e4ff3a6",
   "metadata": {},
   "outputs": [],
   "source": []
  },
  {
   "cell_type": "code",
   "execution_count": null,
   "id": "d1bc81a4",
   "metadata": {},
   "outputs": [],
   "source": []
  },
  {
   "cell_type": "code",
   "execution_count": null,
   "id": "ce3b7726",
   "metadata": {},
   "outputs": [],
   "source": []
  },
  {
   "cell_type": "code",
   "execution_count": null,
   "id": "85937724",
   "metadata": {},
   "outputs": [],
   "source": []
  },
  {
   "cell_type": "code",
   "execution_count": null,
   "id": "49e130d6",
   "metadata": {},
   "outputs": [],
   "source": []
  },
  {
   "cell_type": "markdown",
   "id": "29447667",
   "metadata": {},
   "source": [
    "#### Access Modifiers In Python\n",
    "<li>Access modifiers are concepts in object-oriented programming that is used to set the accessibility of classes, constructors and methods.</li>\n",
    "<li>They are used to restrict access to the variables and methods of the class.</li>\n",
    "<li>Unlike in other programming languages, Python uses ‘_’ symbol to determine the access control for a specific data member or a member function of a class.</li>\n",
    "<li>Access specifiers in Python have an important role to play in securing data from unauthorized access and in preventing it from being exploited.</li>\n",
    "A Class in Python has three types of access modifiers:\n",
    "<ol>\n",
    "    <li>Public Access Modifier</li>\n",
    "    <li>Protected Access Modifier</li>\n",
    "    <li>Private Access Modifier</li>\n",
    "</ol>\n",
    "\n"
   ]
  },
  {
   "cell_type": "markdown",
   "id": "2d9381d3",
   "metadata": {},
   "source": [
    "#### 1. Public Access Modifiers\n",
    "\n",
    "<li>The members of a class that are declared public are easily accessible from any part of the program.</li>\n",
    "<li>These data members and member functions can also be accessed from inside the class as well as outside the class.</li>\n",
    "<li>All data members and member functions of a class are public by default.</li>\n",
    "<li>Incase of inheritance, data members and member functions are also accessible from another class.</li>\n",
    "\n"
   ]
  },
  {
   "cell_type": "code",
   "execution_count": null,
   "id": "199c015f",
   "metadata": {},
   "outputs": [],
   "source": []
  },
  {
   "cell_type": "code",
   "execution_count": null,
   "id": "8e69c50f",
   "metadata": {},
   "outputs": [],
   "source": []
  },
  {
   "cell_type": "code",
   "execution_count": null,
   "id": "dc764f89",
   "metadata": {},
   "outputs": [],
   "source": []
  },
  {
   "cell_type": "code",
   "execution_count": null,
   "id": "599fa020",
   "metadata": {},
   "outputs": [],
   "source": []
  },
  {
   "cell_type": "markdown",
   "id": "112319f4",
   "metadata": {},
   "source": [
    "#### Protected Access Modifiers\n",
    "<li>The members of a class that are declared protected are only accessible to a class derived from it.</li>\n",
    "<li>Data members of a class are declared protected by adding a single underscore ‘_’ symbol before the data member of that class.</li>\n",
    "<li>These protected members are inaccessible outside the program. But, are accessible in the derived class as protected data members.</li>\n"
   ]
  },
  {
   "cell_type": "code",
   "execution_count": null,
   "id": "bb62e65c",
   "metadata": {},
   "outputs": [],
   "source": []
  },
  {
   "cell_type": "code",
   "execution_count": null,
   "id": "448fb151",
   "metadata": {},
   "outputs": [],
   "source": []
  },
  {
   "cell_type": "code",
   "execution_count": null,
   "id": "c6b5d786",
   "metadata": {},
   "outputs": [],
   "source": []
  },
  {
   "cell_type": "code",
   "execution_count": null,
   "id": "87f7e597",
   "metadata": {},
   "outputs": [],
   "source": []
  },
  {
   "cell_type": "code",
   "execution_count": null,
   "id": "ef3b3a26",
   "metadata": {},
   "outputs": [],
   "source": []
  },
  {
   "cell_type": "code",
   "execution_count": null,
   "id": "05b1ee07",
   "metadata": {},
   "outputs": [],
   "source": []
  },
  {
   "cell_type": "markdown",
   "id": "1dac29c2",
   "metadata": {},
   "source": [
    "#### Private Access Modifiers\n",
    "\n",
    "<li>The members of a class that are declared private are accessible within the class only.</li>\n",
    "<li>Private access modifier is the most secure access modifier.</li>\n",
    "<li>Data members of a class are declared private by adding a double underscore ‘__’ symbol before the data member of that class.</li>\n",
    "\n"
   ]
  },
  {
   "cell_type": "code",
   "execution_count": null,
   "id": "0fb0ee01",
   "metadata": {},
   "outputs": [],
   "source": []
  },
  {
   "cell_type": "code",
   "execution_count": null,
   "id": "7e2bea1a",
   "metadata": {},
   "outputs": [],
   "source": []
  },
  {
   "cell_type": "code",
   "execution_count": null,
   "id": "37fb4535",
   "metadata": {},
   "outputs": [],
   "source": []
  },
  {
   "cell_type": "code",
   "execution_count": null,
   "id": "99f73c04",
   "metadata": {},
   "outputs": [],
   "source": []
  },
  {
   "cell_type": "markdown",
   "id": "66d643bd",
   "metadata": {},
   "source": [
    "#### Conclusion:\n",
    "\n",
    "![](access_specifier.png)"
   ]
  },
  {
   "cell_type": "code",
   "execution_count": null,
   "id": "73028321",
   "metadata": {},
   "outputs": [],
   "source": []
  },
  {
   "cell_type": "code",
   "execution_count": null,
   "id": "081c9740",
   "metadata": {},
   "outputs": [],
   "source": []
  },
  {
   "cell_type": "code",
   "execution_count": null,
   "id": "6ba1e103",
   "metadata": {},
   "outputs": [],
   "source": []
  },
  {
   "cell_type": "code",
   "execution_count": null,
   "id": "01e73fd7",
   "metadata": {},
   "outputs": [],
   "source": []
  },
  {
   "cell_type": "code",
   "execution_count": null,
   "id": "61d42dec",
   "metadata": {},
   "outputs": [],
   "source": []
  },
  {
   "cell_type": "code",
   "execution_count": null,
   "id": "895de50e",
   "metadata": {},
   "outputs": [],
   "source": []
  },
  {
   "cell_type": "code",
   "execution_count": null,
   "id": "c7653d4d",
   "metadata": {},
   "outputs": [],
   "source": []
  },
  {
   "cell_type": "code",
   "execution_count": null,
   "id": "e110ab77",
   "metadata": {},
   "outputs": [],
   "source": []
  },
  {
   "cell_type": "markdown",
   "id": "1936ccf6",
   "metadata": {},
   "source": [
    "#### super() function In OOPS(init method)\n",
    "<li>The super() function is used to give access to methods and properties of a parent or sibling class.</li>\n",
    "<li>The super() function returns an object that represents the parent class.</li>\n",
    "\n"
   ]
  },
  {
   "cell_type": "code",
   "execution_count": null,
   "id": "28227fa6",
   "metadata": {},
   "outputs": [],
   "source": []
  }
 ],
 "metadata": {
  "kernelspec": {
   "display_name": "Python 3 (ipykernel)",
   "language": "python",
   "name": "python3"
  },
  "language_info": {
   "codemirror_mode": {
    "name": "ipython",
    "version": 3
   },
   "file_extension": ".py",
   "mimetype": "text/x-python",
   "name": "python",
   "nbconvert_exporter": "python",
   "pygments_lexer": "ipython3",
   "version": "3.8.0"
  }
 },
 "nbformat": 4,
 "nbformat_minor": 5
}
