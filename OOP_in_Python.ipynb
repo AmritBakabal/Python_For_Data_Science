{
 "cells": [
  {
   "cell_type": "markdown",
   "id": "a22b739d",
   "metadata": {},
   "source": [
    "#### Object Oriented Programming\n",
    "<li>Python is an object oriented programming language.</li>\n",
    "<li>A programming paradigm which is based on <b>\"class\"</b> and <b>\"objects\"</b> rather than functions is known as Object Oriented Programming.</li>\n",
    "<li>We will learn the key concepts, including classes, instances, attributes, and methods and learn how to create our own class.</li>\n",
    "<li>In OOP, objects have types, but instead of \"type\" we use the word class. Here are the correct names for each of these classes:</li>\n",
    "<ol>\n",
    "    <li>String class</li>\n",
    "    <li>List class</li>\n",
    "    <li>Dictionary class</li>\n",
    "</ol>\n",
    "\n",
    "<li>In everyday English, the word class refers to a group of similar things. In OOP, we use the word similarly — a class refers to a group of similar objects.</li>\n",
    "\n",
    "<li>When talking about programming, we often use the words \"type\" and \"class\" interchangeably, but \"class\" is more formally about objects. Throughout this lesson, we'll be using \"class\" as we learn about OOP.</li>\n"
   ]
  },
  {
   "cell_type": "markdown",
   "id": "b646e1e8",
   "metadata": {},
   "source": [
    "#### Finding out class of a given object using type()\n",
    "<li>We can use builtin function type() to find out the class of a particular object.</li>\n",
    "<li>The <b>'string'</b> datatype belongs to <b>'string'</b> class, <b>'float'</b> datatype belongs to <b>'float'</b> class and so on.</li>"
   ]
  },
  {
   "cell_type": "code",
   "execution_count": 3,
   "id": "91ddf25c",
   "metadata": {},
   "outputs": [
    {
     "name": "stdout",
     "output_type": "stream",
     "text": [
      "<class 'str'>\n"
     ]
    }
   ],
   "source": [
    "a = \"fkdjfkajsdirekjdfka\"\n",
    "print(type(a))"
   ]
  },
  {
   "cell_type": "code",
   "execution_count": 4,
   "id": "f4703087",
   "metadata": {},
   "outputs": [
    {
     "name": "stdout",
     "output_type": "stream",
     "text": [
      "<class 'float'>\n"
     ]
    }
   ],
   "source": [
    "f = 8.7\n",
    "print(type(f))"
   ]
  },
  {
   "cell_type": "code",
   "execution_count": 5,
   "id": "33368a97",
   "metadata": {},
   "outputs": [
    {
     "name": "stdout",
     "output_type": "stream",
     "text": [
      "<class 'dict'>\n"
     ]
    }
   ],
   "source": [
    "dictionary = {\"key\": \"value\"}\n",
    "print(type(dictionary))"
   ]
  },
  {
   "cell_type": "code",
   "execution_count": 6,
   "id": "417dda30",
   "metadata": {},
   "outputs": [
    {
     "name": "stdout",
     "output_type": "stream",
     "text": [
      "<class 'dict'>\n"
     ]
    }
   ],
   "source": [
    "dictionary = {\"name\": \"sudha\",\"age\": 22}\n",
    "print(type(dictionary))"
   ]
  },
  {
   "cell_type": "code",
   "execution_count": 7,
   "id": "312cc9b9",
   "metadata": {},
   "outputs": [
    {
     "name": "stdout",
     "output_type": "stream",
     "text": [
      "<class 'list'>\n"
     ]
    }
   ],
   "source": [
    "list1 = [1,2,3,4]\n",
    "print(type(list1))"
   ]
  },
  {
   "cell_type": "markdown",
   "id": "f3ff94d9",
   "metadata": {},
   "source": [
    "<li>This demonstrates how we can use \"type\" and \"class\" interchangeably. This reveals that we've been using classes for some time already:</li>\n",
    "<ol>\n",
    "    <li>Python lists are objects of the <b>list</b> class.</li>\n",
    "    <li>Python integers are objects of the <b>integer</b> class.</li>\n",
    "    <li>Python dictionaries are objects of the <b>dict</b> class.</li>\n",
    "</ol>"
   ]
  },
  {
   "cell_type": "markdown",
   "id": "d1c4c8d5",
   "metadata": {},
   "source": [
    "#### Class & Objects\n",
    "\n",
    "<li>An object is an entity that stores data.</li>\n",
    "<li>An object's class defines specific properties that objects of that class will have.</li>\n",
    "\n",
    "<li>Class is used as a template for declaring and creating the objects.</li>\n",
    "<li>An object is an instance of a class.</li>\n",
    "\n",
    "<li>When a class is created, no memory is allocated.</li>\n",
    "<li>Objects are allocated memory space whenever they are created.</li>\n",
    "\n",
    "\n",
    "<li>The class has to be declared first and only once.</li>\n",
    "<li>An object is created many times as per requirement.</li>\n",
    "\n",
    "<li>Class is declared with the class keyword.A class is used to bind data as well as methods together as a single unit.</li>\n",
    "<code>\n",
    "    Class Fruit:\n",
    "        fruit_type = \"fresh\"\n",
    "        def display(self, fruit_name):\n",
    "           self.fruit_name = fruit_name\n",
    "           print(\"Name of fruit is {}\".format(self.fruit_name)\n",
    "    \n",
    "</code>\n",
    "<li>It is created with a class name.Objects are like a variable of the class.</li>\n",
    "<code>\n",
    "    fruit_obj = Fruit()\n",
    "</code>\n",
    "\n"
   ]
  },
  {
   "cell_type": "markdown",
   "id": "4d4c37fa",
   "metadata": {},
   "source": [
    "****We define a class similarly to how we define a function:****\n",
    "\n",
    "Class definition syntax\n",
    "![](class_syntax.png)\n",
    "\n",
    "<li>Notice that the class definition doesn't have parenthesis (). This is optional for classes.</li>\n"
   ]
  },
  {
   "cell_type": "code",
   "execution_count": 9,
   "id": "74f8ab92",
   "metadata": {},
   "outputs": [],
   "source": [
    "class my_class:\n",
    "    def display_class_name(self):\n",
    "        print(\"my class name is python class\")\n",
    "    "
   ]
  },
  {
   "cell_type": "code",
   "execution_count": 10,
   "id": "9baea0c3",
   "metadata": {},
   "outputs": [
    {
     "name": "stdout",
     "output_type": "stream",
     "text": [
      "my class name is python class\n"
     ]
    }
   ],
   "source": [
    "my_obj = my_class()\n",
    "my_obj.display_class_name()"
   ]
  },
  {
   "cell_type": "markdown",
   "id": "590b1caa",
   "metadata": {},
   "source": [
    "#### Rules For Naming Classes\n",
    "\n",
    "<li>The rules for naming classes are the same as naming functions and variables:</li>\n",
    "<ol>\n",
    "    <li>We must use only letters, numbers, or underscores.</li>\n",
    "    <li>We cannot use apostrophes, hyphens, whitespace characters, etc.</li>\n",
    "    <li>Class names can't begin with a number.</li>\n",
    "<ol>"
   ]
  },
  {
   "cell_type": "code",
   "execution_count": null,
   "id": "c09c693b",
   "metadata": {},
   "outputs": [],
   "source": [
    "class bhu1:"
   ]
  },
  {
   "cell_type": "code",
   "execution_count": null,
   "id": "ad804fe8",
   "metadata": {},
   "outputs": [],
   "source": [
    "class app name:"
   ]
  },
  {
   "cell_type": "code",
   "execution_count": null,
   "id": "855a551e",
   "metadata": {},
   "outputs": [],
   "source": [
    "class 2pm:"
   ]
  },
  {
   "cell_type": "markdown",
   "id": "6892b3f4",
   "metadata": {},
   "source": [
    "#### Pass Statement In Class\n",
    "<li>The pass statement is useful if you're building something complex and you want to create a placeholder for a function that you will build out later without causing any error.</li>\n",
    "\n",
    "<li>The self parameter is a reference to the current instance of the class, and is used to access variables that belongs to the class.</li>"
   ]
  },
  {
   "cell_type": "code",
   "execution_count": 13,
   "id": "fd751796",
   "metadata": {},
   "outputs": [],
   "source": [
    "class myclass:\n",
    "    def display_class(self):\n",
    "        pass\n",
    "        \n",
    "        "
   ]
  },
  {
   "cell_type": "code",
   "execution_count": null,
   "id": "48c8a231",
   "metadata": {},
   "outputs": [],
   "source": []
  },
  {
   "cell_type": "markdown",
   "id": "418cef33",
   "metadata": {},
   "source": [
    "#### Instantiating an object in Class\n",
    "\n",
    "<li>In OOP, we use instance to describe each different object.</li>\n",
    "<li>We can say the same of Python strings. We might create two Python strings, and they can hold different values, but they work the same way:</li>\n",
    "<code>\n",
    "    string1 = \"this is string one\"\n",
    "    string2 = \"this is string two\"\n",
    "</code>\n",
    "\n",
    "<li>These objects <b>string1</b> and <b>string2</b> are two instances of Python <b>'str'</b> classes.</li>\n",
    "<li>While each of them are unique as they contain unique values but they are the same type of object refering to the same class.</li>\n",
    "\n",
    "<li>Once we have defined our class, we can create an object of that class, which we call instantiation.</li>\n",
    "\n",
    "<li>If you create an object of a particular class, the technical phrase for what you did is to \"Instantiate an object of that class.\"</li>\n",
    "\n",
    "<li>The assignment operator (=) instantiates the object, and the assignment operator and variable name create the variable.</li>\n",
    "\n",
    "<li>Let's learn how to instantiate an instance of our new class:</li>\n",
    "\n"
   ]
  },
  {
   "cell_type": "code",
   "execution_count": null,
   "id": "88549e5c",
   "metadata": {},
   "outputs": [],
   "source": []
  },
  {
   "cell_type": "code",
   "execution_count": null,
   "id": "caee807b",
   "metadata": {},
   "outputs": [],
   "source": []
  },
  {
   "cell_type": "markdown",
   "id": "c942193a",
   "metadata": {},
   "source": [
    "#### Question\n",
    "<ol>\n",
    "<li>Define a class named MyClass.</li>\n",
    "\n",
    "<li>Inside the class definition, add a pass statement to avoid a SyntaxError.</li>\n",
    "\n",
    "<li>Below the class definition, use the MyClass() constructor to create an instance of MyClass. Assign it to a variable named my_instance.</li>\n",
    "\n",
    "<li>Use the print() and type() built-in functions to print the type of my_instance.</li>\n",
    "</ol>"
   ]
  },
  {
   "cell_type": "code",
   "execution_count": 14,
   "id": "dd087f33",
   "metadata": {},
   "outputs": [],
   "source": [
    "class MyClass:\n",
    "    pass"
   ]
  },
  {
   "cell_type": "code",
   "execution_count": 15,
   "id": "8643055d",
   "metadata": {},
   "outputs": [
    {
     "name": "stdout",
     "output_type": "stream",
     "text": [
      "<__main__.MyClass object at 0x000001B4283FABE0>\n",
      "<class '__main__.MyClass'>\n"
     ]
    }
   ],
   "source": [
    "my_instance = MyClass()\n",
    "print(my_instance)\n",
    "print(type(my_instance))"
   ]
  },
  {
   "cell_type": "markdown",
   "id": "070ef60e",
   "metadata": {},
   "source": [
    "#### Methods In Python\n",
    "\n",
    "\n",
    "<li>We can think of methods like special functions that belong to a particular class.</li>\n",
    "<li>This is why we call the replace method str.replace()— because the method belongs to the str class.</li>\n",
    "<li>While we can use a function with any object, each class has its own set of methods.</li>\n",
    "<li>The list object has the list.append() method.</li>\n",
    "<li>The string object has the string.split() method.</li>\n",
    "<li>The dictionary object has dictionary.items() method.</li>\n",
    "<li>A method is a function that “belongs to” an object.</li>\n",
    "<li>The syntax for creating a method is almost identical to creating a function, except we indent it within our class definition.</li>\n",
    "<li>This is how we would define a simple method:</li>\n",
    "<code>\n",
    "    class myclass:\n",
    "        def greet():\n",
    "            return \"hello\"\n",
    "</code>\n",
    "\n"
   ]
  },
  {
   "cell_type": "code",
   "execution_count": 22,
   "id": "c9f36bb7",
   "metadata": {},
   "outputs": [],
   "source": [
    "class myclass:\n",
    "    greet_value = \"hello\"\n",
    "    def greet(self):\n",
    "        return self.greet_value"
   ]
  },
  {
   "cell_type": "code",
   "execution_count": 23,
   "id": "4df26616",
   "metadata": {},
   "outputs": [
    {
     "data": {
      "text/plain": [
       "'hello'"
      ]
     },
     "execution_count": 23,
     "metadata": {},
     "output_type": "execute_result"
    }
   ],
   "source": [
    "myobj = myclass()\n",
    "myobj.greet()"
   ]
  },
  {
   "cell_type": "markdown",
   "id": "97ebd6ca",
   "metadata": {},
   "source": [
    "#### Use of self in methods.\n",
    "\n",
    "<li>The word <b>self</b> is the first parameter of methods that represents the instance of the class.</li>\n",
    "<li>By using the “self” we can access the attributes and methods of the class in python.</li>\n",
    "<li>The convention is to call the \"phantom\" argument self.</li>\n",
    "<li>The \"phantom\" argument is actually the object itself.</li>\n"
   ]
  },
  {
   "cell_type": "code",
   "execution_count": null,
   "id": "f26abd8a",
   "metadata": {},
   "outputs": [],
   "source": []
  },
  {
   "cell_type": "code",
   "execution_count": 28,
   "id": "7d5cf49d",
   "metadata": {},
   "outputs": [],
   "source": [
    "class MyClass:\n",
    "    def print_self(self):\n",
    "        print(self)"
   ]
  },
  {
   "cell_type": "code",
   "execution_count": 29,
   "id": "e4419097",
   "metadata": {},
   "outputs": [
    {
     "name": "stdout",
     "output_type": "stream",
     "text": [
      "<__main__.MyClass object at 0x000001B42862ED30>\n",
      "<__main__.MyClass object at 0x000001B42862ED30>\n"
     ]
    }
   ],
   "source": [
    "my_obj = MyClass()\n",
    "print(my_obj)\n",
    "my_obj.print_self()"
   ]
  },
  {
   "cell_type": "markdown",
   "id": "ad23b5da",
   "metadata": {},
   "source": [
    "#### Question\n",
    "\n",
    "<li>Create a class named <b>MyClass</b></li>\n",
    "\n",
    "<li>Inside the class, define a method called first_method().</li>\n",
    "\n",
    "<li>Inside the method, return the string \"This is my first method\".</li>\n",
    "\n",
    "<li>Outside of the class, create an instance of MyClass, and assign it to a variable named my_instance.</li>\n",
    "\n",
    "<li>Call my_instance.first_method(). Assign the result to the variable result.</li>"
   ]
  },
  {
   "cell_type": "code",
   "execution_count": 25,
   "id": "c3cd0a2e",
   "metadata": {},
   "outputs": [],
   "source": [
    "class MyClass:\n",
    "    def first_method(self):\n",
    "        return \"This is my first method\""
   ]
  },
  {
   "cell_type": "code",
   "execution_count": 26,
   "id": "f2675ebc",
   "metadata": {},
   "outputs": [
    {
     "name": "stdout",
     "output_type": "stream",
     "text": [
      "This is my first method\n"
     ]
    }
   ],
   "source": [
    "my_instance = MyClass()\n",
    "result = my_instance.first_method()\n",
    "print(result)"
   ]
  },
  {
   "cell_type": "markdown",
   "id": "b6a54ac0",
   "metadata": {},
   "source": [
    "#### Creating a Method that Accepts an Argument\n",
    "\n",
    "<li>Like in functions, we can also create a method that can accept an argument.</li>\n",
    "<li>We can keep on adding arguments as we like but we must include self argument as well.</li>"
   ]
  },
  {
   "cell_type": "code",
   "execution_count": 91,
   "id": "b365fa62",
   "metadata": {},
   "outputs": [],
   "source": [
    "class Arithmetic_Operation:\n",
    "    def addition1(self, n1, n2):\n",
    "        return n1 + n2\n",
    "    \n",
    "    def addition2(self, n1, n2 = 5):\n",
    "        return n1 + n2\n",
    "    \n",
    "    def addition3(self, *args):\n",
    "        result = 0\n",
    "        for item in args:\n",
    "            result += item\n",
    "        return result\n",
    "    \n",
    "    def addition4(self, **kwargs):\n",
    "        result = 0\n",
    "        for key, val in kwargs.items():\n",
    "            result += val\n",
    "        return result\n",
    "            "
   ]
  },
  {
   "cell_type": "code",
   "execution_count": 92,
   "id": "c9df88b8",
   "metadata": {},
   "outputs": [],
   "source": [
    "ao1 = Arithmetic_Operation()\n",
    "ao2 = Arithmetic_Operation()\n",
    "ao3 = Arithmetic_Operation()\n",
    "ao4 = Arithmetic_Operation()"
   ]
  },
  {
   "cell_type": "code",
   "execution_count": 93,
   "id": "89fab7b8",
   "metadata": {},
   "outputs": [
    {
     "name": "stdout",
     "output_type": "stream",
     "text": [
      "7\n"
     ]
    }
   ],
   "source": [
    "result = ao1.addition1(n1 = 4, n2 = 3)\n",
    "print(result)"
   ]
  },
  {
   "cell_type": "code",
   "execution_count": 94,
   "id": "b8a90d37",
   "metadata": {},
   "outputs": [],
   "source": [
    "result2 = ao2.addition2(5)"
   ]
  },
  {
   "cell_type": "code",
   "execution_count": 95,
   "id": "242b956f",
   "metadata": {},
   "outputs": [
    {
     "name": "stdout",
     "output_type": "stream",
     "text": [
      "10\n"
     ]
    }
   ],
   "source": [
    "print(result2)"
   ]
  },
  {
   "cell_type": "code",
   "execution_count": 96,
   "id": "db171fb0",
   "metadata": {},
   "outputs": [
    {
     "name": "stdout",
     "output_type": "stream",
     "text": [
      "15\n"
     ]
    }
   ],
   "source": [
    "result3 = ao3.addition3(5,4,3,2,1)\n",
    "print(result3)"
   ]
  },
  {
   "cell_type": "code",
   "execution_count": 97,
   "id": "7351c3a8",
   "metadata": {},
   "outputs": [
    {
     "name": "stdout",
     "output_type": "stream",
     "text": [
      "40\n"
     ]
    }
   ],
   "source": [
    "result4 = ao4.addition4(n1 = 5, n2 = 6, n3 = 7, n4 = 12, n5 = 10)\n",
    "print(result4)"
   ]
  },
  {
   "cell_type": "markdown",
   "id": "b3d35f3c",
   "metadata": {},
   "source": [
    "#### Create a calculator class which has addition, subtraction, multiplication and division methods."
   ]
  },
  {
   "cell_type": "code",
   "execution_count": 98,
   "id": "9e12b07e",
   "metadata": {},
   "outputs": [],
   "source": [
    "class Calculator:\n",
    "    \n",
    "    def addition(self, n1, n2):\n",
    "        return n1+n2\n",
    "    \n",
    "    def subtraction(self, n1, n2):\n",
    "        return n1 - n2\n",
    "    \n",
    "    def multiplication(self, n1, n2):\n",
    "        return n1 * n2\n",
    "    \n",
    "    def division(self, n1,n2):\n",
    "        return n1/n2\n"
   ]
  },
  {
   "cell_type": "code",
   "execution_count": 100,
   "id": "a2168f98",
   "metadata": {},
   "outputs": [
    {
     "name": "stdout",
     "output_type": "stream",
     "text": [
      "9\n",
      "54\n",
      "32\n",
      "4.0\n"
     ]
    }
   ],
   "source": [
    "myobj = Calculator()\n",
    "add_result = myobj.addition(5,4)\n",
    "print(add_result)\n",
    "sub_result = myobj.subtraction(66,12)\n",
    "print(sub_result)\n",
    "prod_result = myobj.multiplication(4,8)\n",
    "print(prod_result)\n",
    "div_result = myobj.division(20, 5)\n",
    "print(div_result)"
   ]
  },
  {
   "cell_type": "code",
   "execution_count": null,
   "id": "bb446021",
   "metadata": {},
   "outputs": [],
   "source": []
  },
  {
   "cell_type": "code",
   "execution_count": null,
   "id": "1650570f",
   "metadata": {},
   "outputs": [],
   "source": []
  },
  {
   "cell_type": "code",
   "execution_count": null,
   "id": "3823909a",
   "metadata": {},
   "outputs": [],
   "source": []
  },
  {
   "cell_type": "code",
   "execution_count": null,
   "id": "a5c6d793",
   "metadata": {},
   "outputs": [],
   "source": []
  },
  {
   "cell_type": "code",
   "execution_count": null,
   "id": "2c3d1c43",
   "metadata": {},
   "outputs": [],
   "source": []
  },
  {
   "cell_type": "markdown",
   "id": "24818a83",
   "metadata": {},
   "source": [
    "#### Question\n",
    "\n",
    "<li>Inside the MyClass class, define a new method called return_list() with two arguments:</li>\n",
    "<ol>\n",
    "<li>self: the self-reference of this instance</li>\n",
    "<li>input_list: a list</li>\n",
    "<li>Implement the return_list() method so that it returns the sum of given input_list.</li>\n",
    "<li>Create an instance of the MyClass class, and assign it to the variable name my_instance.</li>\n",
    "<li>Call the my_instance.return_list() method with the argument [1, 2, 3]. Assign the result to the variable result.</li>"
   ]
  },
  {
   "cell_type": "code",
   "execution_count": 101,
   "id": "70a5d474",
   "metadata": {},
   "outputs": [],
   "source": [
    "class MyClass:\n",
    "    def return_list(self, input_list):\n",
    "        return sum(input_list)"
   ]
  },
  {
   "cell_type": "code",
   "execution_count": 102,
   "id": "86c063d2",
   "metadata": {},
   "outputs": [
    {
     "name": "stdout",
     "output_type": "stream",
     "text": [
      "6\n"
     ]
    }
   ],
   "source": [
    "my_instance = MyClass()\n",
    "result = my_instance.return_list([1,2,3])\n",
    "print(result)"
   ]
  },
  {
   "cell_type": "markdown",
   "id": "a9c399f4",
   "metadata": {},
   "source": [
    "#### Attributes & Init Method(Dunder method)\n",
    "\n",
    "<li>The power of objects is in their ability to store data using attributes.</li>\n",
    "<li>Data is stored as attributes inside objects.</li>\n",
    "<li>We access attributes using dot notation.</li>\n",
    "<li>Attributes can be accessed within the class by using self.data and outside the class by using object.data.</li>\n",
    "<li>To give attributes values when we instantiate objects, we pass them as arguments to a special method called __init__(), which runs when we instantiate an object.</li>\n"
   ]
  },
  {
   "cell_type": "markdown",
   "id": "722ab116",
   "metadata": {},
   "source": [
    "#### Different Methods of accessing Attributes (Student name roll no example)"
   ]
  },
  {
   "cell_type": "code",
   "execution_count": null,
   "id": "6981ae80",
   "metadata": {},
   "outputs": [],
   "source": []
  },
  {
   "cell_type": "code",
   "execution_count": null,
   "id": "cac6b7e0",
   "metadata": {},
   "outputs": [],
   "source": []
  },
  {
   "cell_type": "code",
   "execution_count": null,
   "id": "3345a61e",
   "metadata": {},
   "outputs": [],
   "source": []
  },
  {
   "cell_type": "markdown",
   "id": "77025b24",
   "metadata": {},
   "source": [
    "#### Constructors\n",
    "\n",
    "<li>Constructors are generally used for instantiating an object.</li>\n",
    "<li>They are initialized automatically when objects are created.</li>\n",
    "<li>The task of constructors is to initialize(assign values) to the data members of the class when an object of the class is created.</li>\n",
    "<li>In Python the __init__() method is called the constructor and is always called when an object is created.</li>\n",
    "\n",
    "<li>Syntax of constructor declaration :</li>\n",
    "<code>\n",
    "def __init__(self):\n",
    "    # body of the constructor\n",
    "    \n",
    "</code>\n",
    "\n"
   ]
  },
  {
   "cell_type": "markdown",
   "id": "28229f52",
   "metadata": {},
   "source": [
    "#### Rules of Python Constructor\n",
    "\n",
    "<li>It starts with the def keyword, like all other functions in Python.</li>\n",
    "<li>It is followed by the word init, which is prefixed and suffixed with double underscores with a pair of brackets, i.e., __init__().</li>\n",
    "<li>It takes an argument called self, assigning values to the variables.</li>"
   ]
  },
  {
   "cell_type": "markdown",
   "id": "41e74f89",
   "metadata": {},
   "source": [
    "#### Types Of Constructor:\n",
    "<ol>\n",
    "    <b><li>parameterized constructor:</li></b>\n",
    "    <ul>\n",
    "        <li>The constructor with parameters is known as parameterized constructor.</li>\n",
    "        <li>The parameterized constructor takes its first argument as a reference to the instance being constructed known as           self and the rest of the arguments are provided by the programmer.</li>\n",
    "    </ul>\n",
    "    <b><li>non-parameterized constructor:</li></b>\n",
    "    <ul>\n",
    "     <li>When the constructor doesn't accept any arguments from the object and has only one argument, self, in the   \n",
    "         constructor, it is known as a non-parameterized constructor.</li>\n",
    "     </ul>\n",
    "    <b><li>default constructor:</li></b>\n",
    "    <ul>\n",
    "        <li>The default constructor is a simple constructor which doesn’t accept any arguments.</li>\n",
    "        <li>Its definition has only one argument which is a reference to the instance being constructed.</li>\n",
    "    </ul>\n",
    "\n",
    "\n"
   ]
  },
  {
   "cell_type": "code",
   "execution_count": null,
   "id": "6c9c4577",
   "metadata": {},
   "outputs": [],
   "source": []
  },
  {
   "cell_type": "code",
   "execution_count": null,
   "id": "486bbb63",
   "metadata": {},
   "outputs": [],
   "source": []
  },
  {
   "cell_type": "markdown",
   "id": "90fab709",
   "metadata": {},
   "source": [
    "#### Question\n",
    "\n",
    "<li>Define a new class called MyList.</li>\n",
    "\n",
    "<li>Inside the class, create the __init__() method with two arguments:</li>\n",
    "<ol>\n",
    "    <li>self: the self-reference of this instance</li>\n",
    "<li>initial_data: a list giving the initial values in the list. Inside the __init__() method, store the provided initial_data into self.data.</li>\n",
    "</ol>\n",
    "<li>Outside of the class, instantiate an object of your MyList class, providing the list [1, 2, 3, 4, 5] as the argument. Assign the object to the variable name my_list.</li>\n",
    "\n",
    "<li>Use the print() function to display the data attribute of my_list.</li>\n",
    "\n"
   ]
  },
  {
   "cell_type": "code",
   "execution_count": null,
   "id": "49aeab0c",
   "metadata": {},
   "outputs": [],
   "source": []
  },
  {
   "cell_type": "code",
   "execution_count": null,
   "id": "b32b0413",
   "metadata": {},
   "outputs": [],
   "source": []
  },
  {
   "cell_type": "markdown",
   "id": "4d8784e1",
   "metadata": {},
   "source": [
    "#### Question\n",
    "\n",
    "<li>Create a MyList class, and define a new append() method with two arguments:</li>\n",
    "<ol>\n",
    "<li>self: the self-references to the instance</li>\n",
    "<li>new_item: the new item that we want to add to the list.</li>\n",
    "<li>Implement the append() method so that it appends the provided new_item to the list stored in self.data.</li>\n",
    "</ol>\n",
    "\n",
    "<li>Outside of the class, create an instance of MyList, providing the list [1, 2, 3, 4, 5]. Assign it to a variable named my_list.</li>\n",
    "\n",
    "<li>Print the value of my_list.data.</li>\n",
    "\n",
    "<li>Use the append() method to append value 6 to my_list.</li>\n",
    "\n",
    "<li>Print the value of my_list.data. Observe that it now contains the 6 that we added.</li>\n",
    "\n"
   ]
  },
  {
   "cell_type": "code",
   "execution_count": null,
   "id": "11d97fc2",
   "metadata": {},
   "outputs": [],
   "source": []
  },
  {
   "cell_type": "code",
   "execution_count": null,
   "id": "92e6d13f",
   "metadata": {},
   "outputs": [],
   "source": []
  },
  {
   "cell_type": "markdown",
   "id": "f59a1149",
   "metadata": {},
   "source": [
    "#### Data Abstraction & Encapsulation\n",
    "\n",
    "<li>Data abstraction and encapsulation in python programming are related to each other.</li>\n",
    "<li>Data abstraction and encapsulation are synonymous as data abstraction is achieved through encapsulation.</li>\n",
    "<li>Abstraction is used to hide internal details and show only functionalities.</li>\n",
    "<li>Abstracting something means to give names to things, so that the name captures the basic idea of what a function or a whole program does.</li>\n",
    "<li>Encapsulation is used to restrict access to methods and variables.</li>\n",
    "<li>Encapsulation describes the idea of wrapping data and the methods that work on data within one unit.</li>\n",
    "<li>This puts restrictions on accessing variables and methods directly and can prevent the accidental modification of data.</li>\n",
    "\n",
    "\n",
    "<li>Abstraction hides the internal implementation, and creates an skeleton for what is required.</li>\n",
    "<li>Encapsulation hides the data from the external world. It protects data within class and exposes methods to the world.</li>\n",
    "<li>Abstraction is achieved by creating a class and defining the member variables, properties and methods inside it, as per the requirement.</li>\n",
    "<li>Encapsulation is achieved by using access modifiers like private, public, protected and internal.</li>"
   ]
  },
  {
   "cell_type": "code",
   "execution_count": null,
   "id": "067b8801",
   "metadata": {},
   "outputs": [],
   "source": []
  },
  {
   "cell_type": "code",
   "execution_count": null,
   "id": "1db55f65",
   "metadata": {},
   "outputs": [],
   "source": []
  },
  {
   "cell_type": "code",
   "execution_count": null,
   "id": "b08e31fe",
   "metadata": {},
   "outputs": [],
   "source": []
  },
  {
   "cell_type": "markdown",
   "id": "c0f93e8f",
   "metadata": {},
   "source": [
    "#### Inheritance In Python\n",
    "<li>Inheritance is a mechanism in which one class acquires the property of another class</li>\n",
    "<li>In inheritance child class or derived class acquires the properties from parent class or base class.</li>\n",
    "<li>Inheritance allows us to define a class that inherits all the methods and properties from another class.</li>\n",
    "<li>Parent class is the class being inherited from, also called base class.</li>\n",
    "<li>Child class is the class that inherits from another class, also called derived class.</li>\n",
    "\n",
    "![](inheritance.png)\n",
    "<li>Inheritance is used for:</li>\n",
    "<ol>\n",
    "    <li>Code Reusability</li>\n",
    "    <li>Transition & Readability</li>\n",
    "    <li>Real World Relationship</li>\n",
    "</ol>"
   ]
  },
  {
   "cell_type": "markdown",
   "id": "666096a7",
   "metadata": {},
   "source": [
    "#### Types Of Inheritance"
   ]
  },
  {
   "cell_type": "code",
   "execution_count": null,
   "id": "713760be",
   "metadata": {},
   "outputs": [],
   "source": []
  }
 ],
 "metadata": {
  "kernelspec": {
   "display_name": "Python 3 (ipykernel)",
   "language": "python",
   "name": "python3"
  },
  "language_info": {
   "codemirror_mode": {
    "name": "ipython",
    "version": 3
   },
   "file_extension": ".py",
   "mimetype": "text/x-python",
   "name": "python",
   "nbconvert_exporter": "python",
   "pygments_lexer": "ipython3",
   "version": "3.8.0"
  }
 },
 "nbformat": 4,
 "nbformat_minor": 5
}
