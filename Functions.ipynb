{
 "cells": [
  {
   "cell_type": "markdown",
   "id": "bb7fca7e",
   "metadata": {},
   "source": [
    "#### Functions\n",
    "\n",
    "<li>A function is a block of code which only runs when it is called.</li>\n",
    "<li>You can also pass data, known as parameters, into a function.</li>\n",
    "<li>Generally, a function displays the following pattern:</li>\n",
    "<ol>\n",
    "    <li>It takes in an input.</li>\n",
    "    <li>It processes that input.</li>\n",
    "    <li>It returns output.</li>\n",
    "</ol>\n"
   ]
  },
  {
   "cell_type": "markdown",
   "id": "4f62cfc4",
   "metadata": {},
   "source": [
    "#### Types Of Functions:\n",
    "<ol>\n",
    "    <li>Builtin Functions:</li>\n",
    "    <ul>\n",
    "        <li>The Python built-in functions are defined as the functions whose functionality is pre-defined in Python.</li>\n",
    "         <li>The python interpreter has several functions that are always present for use. These functions are known as <b>Built-in Functions</b>.</li>\n",
    "        <li>There are several built-in functions in Python which are listed below:</li>\n",
    "        <ol>\n",
    "            <li>len()</li>\n",
    "            <li>int()</li>\n",
    "            <li>type()</li>\n",
    "            <li>float()</li>\n",
    "            <li>sum()</li>\n",
    "            <li>min()</li>\n",
    "            <li>max()</li>\n",
    "            <li>abs()</li>\n",
    "            <li>list()</li>\n",
    "            <li>set()</li>\n",
    "            <li>tuple()</li>\n",
    "            <li>float()</li>\n",
    "            <li>str()</li>\n",
    "            <li>sorted()</li>\n",
    "            <li>round()</li>\n",
    "            <li>reverse()</li>\n",
    "        </ol>\n",
    "    </ul>\n",
    "<li>User Defined Functions:\n",
    "    <ul>\n",
    "        <li>User Defined Functions is a function in Python that allows users to write custom logic that the user defines.</li>\n",
    "        <li>In Python, def keyword is used to declare user defined functions.</li>\n",
    "    </ul>\n",
    "</li>\n",
    "</ol>\n",
    "\n",
    " \n"
   ]
  },
  {
   "cell_type": "markdown",
   "id": "f2f9ad8e",
   "metadata": {},
   "source": [
    "#### Built-In Functions(Questions)\n",
    "\n",
    "**Compute the sum of a_list (already defined in the code editor) without using sum().**\n",
    "\n",
    "<li>Initialize a variable named sum_manual with a value of 0.</li>\n",
    "<li>Loop through a_list, and for each iteration add the current number to sum_manual.</li>\n",
    "<li>Print sum_manual and sum(a_list) to see if the values are the same.</li>\n",
    "<li>Calculate the length of the list and store in a variable len_list and display its length.</li>"
   ]
  },
  {
   "cell_type": "code",
   "execution_count": 10,
   "id": "5466580b",
   "metadata": {},
   "outputs": [],
   "source": [
    "a_list = [4444, 8897, 6340, 9896, 4835, 4324, 10, 6445,\n",
    "          661, 1246, 1000, 7429, 1376, 8121, 647, 1280,\n",
    "          3993, 4881, 9500, 6701, 1199, 6251, 4432, 37]"
   ]
  },
  {
   "cell_type": "code",
   "execution_count": null,
   "id": "b0756df9",
   "metadata": {},
   "outputs": [],
   "source": []
  },
  {
   "cell_type": "code",
   "execution_count": null,
   "id": "a3680762",
   "metadata": {},
   "outputs": [],
   "source": []
  },
  {
   "cell_type": "markdown",
   "id": "09f5ee96",
   "metadata": {},
   "source": [
    "#### User Defined Function\n",
    "\n",
    "![](func_structure.png)"
   ]
  },
  {
   "cell_type": "markdown",
   "id": "c666dbb8",
   "metadata": {},
   "source": [
    "#### UserDefined (Function With No Return Type)\n",
    "\n",
    "<li>A function can return any value based on computations performed inside a function or it doesnot return any value.If a function doesnot return any value then such kind of function is known as function with no return type.</li>\n",
    "\n",
    "\n",
    "<code>\n",
    "    def func_name():\n",
    "        statement//\n",
    "</code>"
   ]
  },
  {
   "cell_type": "code",
   "execution_count": null,
   "id": "702c838b",
   "metadata": {},
   "outputs": [],
   "source": []
  },
  {
   "cell_type": "code",
   "execution_count": null,
   "id": "9d689e45",
   "metadata": {},
   "outputs": [],
   "source": []
  },
  {
   "cell_type": "markdown",
   "id": "3ea053b9",
   "metadata": {},
   "source": [
    "#### Parameterized Function\n",
    "\n",
    "<li>The function may take arguments(s) also called parameters as input within the opening and closing parentheses, just after the function name followed by a colon.</li>\n",
    "\n",
    "<code>\n",
    "    def func_name(arg1, arg2):\n",
    "        statement//\n",
    "        .\n",
    "        .\n",
    "        return val\n",
    "</code>    \n"
   ]
  },
  {
   "cell_type": "code",
   "execution_count": null,
   "id": "3c67a358",
   "metadata": {},
   "outputs": [],
   "source": []
  },
  {
   "cell_type": "code",
   "execution_count": null,
   "id": "47f30ef2",
   "metadata": {},
   "outputs": [],
   "source": []
  },
  {
   "cell_type": "markdown",
   "id": "809db602",
   "metadata": {},
   "source": [
    "#### Function With Default Argument\n",
    "\n",
    "<li>A default argument is a parameter that assumes a default value if a value is not provided in the function call for that argument.</li>"
   ]
  },
  {
   "cell_type": "code",
   "execution_count": 11,
   "id": "f06f6691",
   "metadata": {},
   "outputs": [],
   "source": [
    "def sum(x, y = 50):\n",
    "    add = x + y\n",
    "    return add"
   ]
  },
  {
   "cell_type": "code",
   "execution_count": 12,
   "id": "605317bb",
   "metadata": {},
   "outputs": [
    {
     "data": {
      "text/plain": [
       "55"
      ]
     },
     "execution_count": 12,
     "metadata": {},
     "output_type": "execute_result"
    }
   ],
   "source": [
    "sum(5)"
   ]
  },
  {
   "cell_type": "markdown",
   "id": "ee69086b",
   "metadata": {},
   "source": [
    "#### Question\n",
    "\n",
    "<li>Recreate the cube() function above and compute the square for numbers 5 and  6.</li>\n",
    "<li>Assign the cube of 5 to a variable named cube_5.</li>\n",
    "<li>Assign the cube of 6 to a variable named cube_6.</li>"
   ]
  },
  {
   "cell_type": "code",
   "execution_count": null,
   "id": "54c0b122",
   "metadata": {},
   "outputs": [],
   "source": []
  },
  {
   "cell_type": "code",
   "execution_count": null,
   "id": "8835bf31",
   "metadata": {},
   "outputs": [],
   "source": []
  },
  {
   "cell_type": "markdown",
   "id": "a2c20244",
   "metadata": {},
   "source": [
    "#### Question\n",
    "\n",
    "**Create a function named mul_5() that does the following:**\n",
    "<ol>\n",
    "    <li>Takes a number as the input (name the input variable as you wish)</li>\n",
    "    <li>Multiply the integer 5 to that number.</li>\n",
    "    <li>Returns the result of the addition.</li>\n",
    "<ol>\n",
    "\n",
    "<li>Use the mul_5() function to do the following:</li>\n",
    "<ol>\n",
    "    <li>Multiply by 5 to the number 20 — assign the result to a variable named mul_20</li>\n",
    "    <li>Multiply by 5 to the number 16 — assign the result to a variable named mul_16</li>\n",
    "</ol>\n",
    "    "
   ]
  },
  {
   "cell_type": "code",
   "execution_count": null,
   "id": "76068063",
   "metadata": {},
   "outputs": [],
   "source": []
  },
  {
   "cell_type": "code",
   "execution_count": null,
   "id": "e9fdac4a",
   "metadata": {},
   "outputs": [],
   "source": []
  },
  {
   "cell_type": "code",
   "execution_count": null,
   "id": "4212246e",
   "metadata": {},
   "outputs": [],
   "source": []
  },
  {
   "cell_type": "markdown",
   "id": "887044b0",
   "metadata": {},
   "source": [
    "#### Keyword arguments\n",
    "<li>The idea is to allow programmer to specify argument name with values so that caller does not need to remember order of parameters.</li>"
   ]
  },
  {
   "cell_type": "code",
   "execution_count": null,
   "id": "d6843d4e",
   "metadata": {},
   "outputs": [],
   "source": []
  },
  {
   "cell_type": "code",
   "execution_count": null,
   "id": "54e4d275",
   "metadata": {},
   "outputs": [],
   "source": []
  },
  {
   "cell_type": "markdown",
   "id": "947d0ec4",
   "metadata": {},
   "source": [
    "#### Variable length arguments\n",
    "\n",
    "<li>We can have both normal and keyword variable number of arguments. </li>\n",
    " \n",
    "<li>The special syntax *args in function definitions in Python is used to pass a variable number of arguments to a function.</li>\n",
    "<li>It is used to pass a non-keyworded, variable-length argument list.</li>\n",
    " \n",
    "<li>The special syntax **kwargs in function definitions in python is used to pass a keyworded, variable-length argument list.</li>\n",
    "<li>We use the name kwargs with the double star. The reason is because the double star allows us to pass through keyword arguments (any number of them).</li>"
   ]
  },
  {
   "cell_type": "code",
   "execution_count": null,
   "id": "d05b09a8",
   "metadata": {},
   "outputs": [],
   "source": []
  },
  {
   "cell_type": "code",
   "execution_count": null,
   "id": "3bf63b85",
   "metadata": {},
   "outputs": [],
   "source": []
  },
  {
   "cell_type": "code",
   "execution_count": null,
   "id": "576de974",
   "metadata": {},
   "outputs": [],
   "source": []
  },
  {
   "cell_type": "markdown",
   "id": "b39fc0b7",
   "metadata": {},
   "source": [
    "#### Call By Reference Or Call By Value\n",
    "\n",
    "<li>In Python, every variable name is a reference. When we pass a variable to a function, a new reference to the object is created.</li>\n",
    "<li>To confirm this Python’s built-in id() function is used.</li>\n"
   ]
  },
  {
   "cell_type": "code",
   "execution_count": null,
   "id": "41d7c1a2",
   "metadata": {},
   "outputs": [],
   "source": []
  },
  {
   "cell_type": "code",
   "execution_count": null,
   "id": "43574723",
   "metadata": {},
   "outputs": [],
   "source": []
  },
  {
   "cell_type": "code",
   "execution_count": null,
   "id": "8a03ddcd",
   "metadata": {},
   "outputs": [],
   "source": []
  },
  {
   "cell_type": "code",
   "execution_count": null,
   "id": "313c4286",
   "metadata": {},
   "outputs": [],
   "source": []
  }
 ],
 "metadata": {
  "kernelspec": {
   "display_name": "Python 3 (ipykernel)",
   "language": "python",
   "name": "python3"
  },
  "language_info": {
   "codemirror_mode": {
    "name": "ipython",
    "version": 3
   },
   "file_extension": ".py",
   "mimetype": "text/x-python",
   "name": "python",
   "nbconvert_exporter": "python",
   "pygments_lexer": "ipython3",
   "version": "3.8.0"
  }
 },
 "nbformat": 4,
 "nbformat_minor": 5
}
