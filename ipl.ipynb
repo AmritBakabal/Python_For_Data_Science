{
 "cells": [
  {
   "cell_type": "markdown",
   "id": "22aa373a",
   "metadata": {},
   "source": [
    "# Create a new table showing the following team statistics\n",
    "\n",
    "![](images/team_stats_ipl.png)"
   ]
  },
  {
   "cell_type": "code",
   "execution_count": null,
   "id": "a2dc54c8",
   "metadata": {},
   "outputs": [],
   "source": []
  },
  {
   "cell_type": "code",
   "execution_count": null,
   "id": "9b810102",
   "metadata": {},
   "outputs": [],
   "source": []
  },
  {
   "cell_type": "code",
   "execution_count": null,
   "id": "fd1104d8",
   "metadata": {},
   "outputs": [],
   "source": []
  },
  {
   "cell_type": "code",
   "execution_count": null,
   "id": "635c5515",
   "metadata": {},
   "outputs": [],
   "source": []
  },
  {
   "cell_type": "code",
   "execution_count": null,
   "id": "94b7619d",
   "metadata": {},
   "outputs": [],
   "source": []
  },
  {
   "cell_type": "code",
   "execution_count": null,
   "id": "c9b52a11",
   "metadata": {},
   "outputs": [],
   "source": []
  },
  {
   "cell_type": "markdown",
   "id": "6ee890c8",
   "metadata": {},
   "source": [
    "# Perform an EDA to answer the following questions:\n",
    "\n",
    "<li><b>Which team has won most number of matches ?</b></li>\n",
    "<li><b>Which player has won the player of the match maximum number of times?</b></li>\n",
    "<li><b>Which team has won most player of the match awards?</b></li>\n",
    "<li><b>Which venue is the most popular venue of the IPL?</b></li>\n",
    "<li><b>How many matches are won batting first?</b></li>\n",
    "<li><b>How many matches are won batting second?</b></li>\n"
   ]
  },
  {
   "cell_type": "code",
   "execution_count": 52,
   "id": "117d01a2",
   "metadata": {},
   "outputs": [],
   "source": [
    "teams = ['Mumbai Indians', 'Kolkata Knight Riders', 'Rajasthan Royals', 'Royal Challengers Bangalore',\n",
    "'Kings XI Punjab','Chennai Super Kings','Sunrisers Hyderabad','Delhi Capitals']                "
   ]
  }
 ],
 "metadata": {
  "kernelspec": {
   "display_name": "Python 3 (ipykernel)",
   "language": "python",
   "name": "python3"
  },
  "language_info": {
   "codemirror_mode": {
    "name": "ipython",
    "version": 3
   },
   "file_extension": ".py",
   "mimetype": "text/x-python",
   "name": "python",
   "nbconvert_exporter": "python",
   "pygments_lexer": "ipython3",
   "version": "3.8.0"
  }
 },
 "nbformat": 4,
 "nbformat_minor": 5
}
