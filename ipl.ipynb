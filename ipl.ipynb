{
 "cells": [
  {
   "cell_type": "code",
   "execution_count": 14,
   "id": "5110a61b",
   "metadata": {},
   "outputs": [],
   "source": [
    "import numpy as np\n",
    "import pandas as pd\n",
    "import warnings\n",
    "import matplotlib.pyplot as plt\n",
    "\n",
    "warnings.filterwarnings('ignore')"
   ]
  },
  {
   "cell_type": "code",
   "execution_count": 3,
   "id": "f1ab7539",
   "metadata": {},
   "outputs": [
    {
     "name": "stdout",
     "output_type": "stream",
     "text": [
      "(950, 20)\n"
     ]
    },
    {
     "data": {
      "text/html": [
       "<div>\n",
       "<style scoped>\n",
       "    .dataframe tbody tr th:only-of-type {\n",
       "        vertical-align: middle;\n",
       "    }\n",
       "\n",
       "    .dataframe tbody tr th {\n",
       "        vertical-align: top;\n",
       "    }\n",
       "\n",
       "    .dataframe thead th {\n",
       "        text-align: right;\n",
       "    }\n",
       "</style>\n",
       "<table border=\"1\" class=\"dataframe\">\n",
       "  <thead>\n",
       "    <tr style=\"text-align: right;\">\n",
       "      <th></th>\n",
       "      <th>ID</th>\n",
       "      <th>City</th>\n",
       "      <th>Date</th>\n",
       "      <th>Season</th>\n",
       "      <th>MatchNumber</th>\n",
       "      <th>Team1</th>\n",
       "      <th>Team2</th>\n",
       "      <th>Venue</th>\n",
       "      <th>TossWinner</th>\n",
       "      <th>TossDecision</th>\n",
       "      <th>SuperOver</th>\n",
       "      <th>WinningTeam</th>\n",
       "      <th>WonBy</th>\n",
       "      <th>Margin</th>\n",
       "      <th>method</th>\n",
       "      <th>Player_of_Match</th>\n",
       "      <th>Team1Players</th>\n",
       "      <th>Team2Players</th>\n",
       "      <th>Umpire1</th>\n",
       "      <th>Umpire2</th>\n",
       "    </tr>\n",
       "  </thead>\n",
       "  <tbody>\n",
       "    <tr>\n",
       "      <th>0</th>\n",
       "      <td>1312200</td>\n",
       "      <td>Ahmedabad</td>\n",
       "      <td>2022-05-29</td>\n",
       "      <td>2022</td>\n",
       "      <td>Final</td>\n",
       "      <td>Rajasthan Royals</td>\n",
       "      <td>Gujarat Titans</td>\n",
       "      <td>Narendra Modi Stadium, Ahmedabad</td>\n",
       "      <td>Rajasthan Royals</td>\n",
       "      <td>bat</td>\n",
       "      <td>N</td>\n",
       "      <td>Gujarat Titans</td>\n",
       "      <td>Wickets</td>\n",
       "      <td>7.0</td>\n",
       "      <td>NaN</td>\n",
       "      <td>HH Pandya</td>\n",
       "      <td>['YBK Jaiswal', 'JC Buttler', 'SV Samson', 'D ...</td>\n",
       "      <td>['WP Saha', 'Shubman Gill', 'MS Wade', 'HH Pan...</td>\n",
       "      <td>CB Gaffaney</td>\n",
       "      <td>Nitin Menon</td>\n",
       "    </tr>\n",
       "    <tr>\n",
       "      <th>1</th>\n",
       "      <td>1312199</td>\n",
       "      <td>Ahmedabad</td>\n",
       "      <td>2022-05-27</td>\n",
       "      <td>2022</td>\n",
       "      <td>Qualifier 2</td>\n",
       "      <td>Royal Challengers Bangalore</td>\n",
       "      <td>Rajasthan Royals</td>\n",
       "      <td>Narendra Modi Stadium, Ahmedabad</td>\n",
       "      <td>Rajasthan Royals</td>\n",
       "      <td>field</td>\n",
       "      <td>N</td>\n",
       "      <td>Rajasthan Royals</td>\n",
       "      <td>Wickets</td>\n",
       "      <td>7.0</td>\n",
       "      <td>NaN</td>\n",
       "      <td>JC Buttler</td>\n",
       "      <td>['V Kohli', 'F du Plessis', 'RM Patidar', 'GJ ...</td>\n",
       "      <td>['YBK Jaiswal', 'JC Buttler', 'SV Samson', 'D ...</td>\n",
       "      <td>CB Gaffaney</td>\n",
       "      <td>Nitin Menon</td>\n",
       "    </tr>\n",
       "    <tr>\n",
       "      <th>2</th>\n",
       "      <td>1312198</td>\n",
       "      <td>Kolkata</td>\n",
       "      <td>2022-05-25</td>\n",
       "      <td>2022</td>\n",
       "      <td>Eliminator</td>\n",
       "      <td>Royal Challengers Bangalore</td>\n",
       "      <td>Lucknow Super Giants</td>\n",
       "      <td>Eden Gardens, Kolkata</td>\n",
       "      <td>Lucknow Super Giants</td>\n",
       "      <td>field</td>\n",
       "      <td>N</td>\n",
       "      <td>Royal Challengers Bangalore</td>\n",
       "      <td>Runs</td>\n",
       "      <td>14.0</td>\n",
       "      <td>NaN</td>\n",
       "      <td>RM Patidar</td>\n",
       "      <td>['V Kohli', 'F du Plessis', 'RM Patidar', 'GJ ...</td>\n",
       "      <td>['Q de Kock', 'KL Rahul', 'M Vohra', 'DJ Hooda...</td>\n",
       "      <td>J Madanagopal</td>\n",
       "      <td>MA Gough</td>\n",
       "    </tr>\n",
       "    <tr>\n",
       "      <th>3</th>\n",
       "      <td>1312197</td>\n",
       "      <td>Kolkata</td>\n",
       "      <td>2022-05-24</td>\n",
       "      <td>2022</td>\n",
       "      <td>Qualifier 1</td>\n",
       "      <td>Rajasthan Royals</td>\n",
       "      <td>Gujarat Titans</td>\n",
       "      <td>Eden Gardens, Kolkata</td>\n",
       "      <td>Gujarat Titans</td>\n",
       "      <td>field</td>\n",
       "      <td>N</td>\n",
       "      <td>Gujarat Titans</td>\n",
       "      <td>Wickets</td>\n",
       "      <td>7.0</td>\n",
       "      <td>NaN</td>\n",
       "      <td>DA Miller</td>\n",
       "      <td>['YBK Jaiswal', 'JC Buttler', 'SV Samson', 'D ...</td>\n",
       "      <td>['WP Saha', 'Shubman Gill', 'MS Wade', 'HH Pan...</td>\n",
       "      <td>BNJ Oxenford</td>\n",
       "      <td>VK Sharma</td>\n",
       "    </tr>\n",
       "    <tr>\n",
       "      <th>4</th>\n",
       "      <td>1304116</td>\n",
       "      <td>Mumbai</td>\n",
       "      <td>2022-05-22</td>\n",
       "      <td>2022</td>\n",
       "      <td>70</td>\n",
       "      <td>Sunrisers Hyderabad</td>\n",
       "      <td>Punjab Kings</td>\n",
       "      <td>Wankhede Stadium, Mumbai</td>\n",
       "      <td>Sunrisers Hyderabad</td>\n",
       "      <td>bat</td>\n",
       "      <td>N</td>\n",
       "      <td>Punjab Kings</td>\n",
       "      <td>Wickets</td>\n",
       "      <td>5.0</td>\n",
       "      <td>NaN</td>\n",
       "      <td>Harpreet Brar</td>\n",
       "      <td>['PK Garg', 'Abhishek Sharma', 'RA Tripathi', ...</td>\n",
       "      <td>['JM Bairstow', 'S Dhawan', 'M Shahrukh Khan',...</td>\n",
       "      <td>AK Chaudhary</td>\n",
       "      <td>NA Patwardhan</td>\n",
       "    </tr>\n",
       "  </tbody>\n",
       "</table>\n",
       "</div>"
      ],
      "text/plain": [
       "        ID       City        Date Season  MatchNumber  \\\n",
       "0  1312200  Ahmedabad  2022-05-29   2022        Final   \n",
       "1  1312199  Ahmedabad  2022-05-27   2022  Qualifier 2   \n",
       "2  1312198    Kolkata  2022-05-25   2022   Eliminator   \n",
       "3  1312197    Kolkata  2022-05-24   2022  Qualifier 1   \n",
       "4  1304116     Mumbai  2022-05-22   2022           70   \n",
       "\n",
       "                         Team1                 Team2  \\\n",
       "0             Rajasthan Royals        Gujarat Titans   \n",
       "1  Royal Challengers Bangalore      Rajasthan Royals   \n",
       "2  Royal Challengers Bangalore  Lucknow Super Giants   \n",
       "3             Rajasthan Royals        Gujarat Titans   \n",
       "4          Sunrisers Hyderabad          Punjab Kings   \n",
       "\n",
       "                              Venue            TossWinner TossDecision  \\\n",
       "0  Narendra Modi Stadium, Ahmedabad      Rajasthan Royals          bat   \n",
       "1  Narendra Modi Stadium, Ahmedabad      Rajasthan Royals        field   \n",
       "2             Eden Gardens, Kolkata  Lucknow Super Giants        field   \n",
       "3             Eden Gardens, Kolkata        Gujarat Titans        field   \n",
       "4          Wankhede Stadium, Mumbai   Sunrisers Hyderabad          bat   \n",
       "\n",
       "  SuperOver                  WinningTeam    WonBy  Margin method  \\\n",
       "0         N               Gujarat Titans  Wickets     7.0    NaN   \n",
       "1         N             Rajasthan Royals  Wickets     7.0    NaN   \n",
       "2         N  Royal Challengers Bangalore     Runs    14.0    NaN   \n",
       "3         N               Gujarat Titans  Wickets     7.0    NaN   \n",
       "4         N                 Punjab Kings  Wickets     5.0    NaN   \n",
       "\n",
       "  Player_of_Match                                       Team1Players  \\\n",
       "0       HH Pandya  ['YBK Jaiswal', 'JC Buttler', 'SV Samson', 'D ...   \n",
       "1      JC Buttler  ['V Kohli', 'F du Plessis', 'RM Patidar', 'GJ ...   \n",
       "2      RM Patidar  ['V Kohli', 'F du Plessis', 'RM Patidar', 'GJ ...   \n",
       "3       DA Miller  ['YBK Jaiswal', 'JC Buttler', 'SV Samson', 'D ...   \n",
       "4   Harpreet Brar  ['PK Garg', 'Abhishek Sharma', 'RA Tripathi', ...   \n",
       "\n",
       "                                        Team2Players        Umpire1  \\\n",
       "0  ['WP Saha', 'Shubman Gill', 'MS Wade', 'HH Pan...    CB Gaffaney   \n",
       "1  ['YBK Jaiswal', 'JC Buttler', 'SV Samson', 'D ...    CB Gaffaney   \n",
       "2  ['Q de Kock', 'KL Rahul', 'M Vohra', 'DJ Hooda...  J Madanagopal   \n",
       "3  ['WP Saha', 'Shubman Gill', 'MS Wade', 'HH Pan...   BNJ Oxenford   \n",
       "4  ['JM Bairstow', 'S Dhawan', 'M Shahrukh Khan',...   AK Chaudhary   \n",
       "\n",
       "         Umpire2  \n",
       "0    Nitin Menon  \n",
       "1    Nitin Menon  \n",
       "2       MA Gough  \n",
       "3      VK Sharma  \n",
       "4  NA Patwardhan  "
      ]
     },
     "execution_count": 3,
     "metadata": {},
     "output_type": "execute_result"
    }
   ],
   "source": [
    "ipl_df = pd.read_csv('csv_data/IPL_Matches_2008_2022.csv')\n",
    "print(ipl_df.shape)\n",
    "ipl_df.head()"
   ]
  },
  {
   "cell_type": "code",
   "execution_count": 5,
   "id": "95757b05",
   "metadata": {},
   "outputs": [
    {
     "data": {
      "text/plain": [
       "Royal Challengers Bangalore    126\n",
       "Mumbai Indians                 112\n",
       "Chennai Super Kings            111\n",
       "Kolkata Knight Riders          105\n",
       "Kings XI Punjab                 92\n",
       "Rajasthan Royals                89\n",
       "Delhi Daredevils                85\n",
       "Sunrisers Hyderabad             69\n",
       "Deccan Chargers                 39\n",
       "Delhi Capitals                  29\n",
       "Pune Warriors                   23\n",
       "Punjab Kings                    18\n",
       "Gujarat Lions                   16\n",
       "Lucknow Super Giants             8\n",
       "Gujarat Titans                   7\n",
       "Rising Pune Supergiant           7\n",
       "Rising Pune Supergiants          7\n",
       "Kochi Tuskers Kerala             7\n",
       "Name: Team1, dtype: int64"
      ]
     },
     "execution_count": 5,
     "metadata": {},
     "output_type": "execute_result"
    }
   ],
   "source": []
  },
  {
   "cell_type": "code",
   "execution_count": 6,
   "id": "416bd706",
   "metadata": {},
   "outputs": [
    {
     "data": {
      "text/plain": [
       "Mumbai Indians                 119\n",
       "Kolkata Knight Riders          118\n",
       "Rajasthan Royals               103\n",
       "Royal Challengers Bangalore    100\n",
       "Kings XI Punjab                 98\n",
       "Chennai Super Kings             97\n",
       "Sunrisers Hyderabad             83\n",
       "Delhi Daredevils                76\n",
       "Deccan Chargers                 36\n",
       "Delhi Capitals                  34\n",
       "Pune Warriors                   23\n",
       "Gujarat Lions                   14\n",
       "Punjab Kings                    10\n",
       "Gujarat Titans                   9\n",
       "Rising Pune Supergiant           9\n",
       "Rising Pune Supergiants          7\n",
       "Lucknow Super Giants             7\n",
       "Kochi Tuskers Kerala             7\n",
       "Name: Team2, dtype: int64"
      ]
     },
     "execution_count": 6,
     "metadata": {},
     "output_type": "execute_result"
    }
   ],
   "source": [
    "ipl_df['Team2'].value_counts()"
   ]
  },
  {
   "cell_type": "markdown",
   "id": "22aa373a",
   "metadata": {},
   "source": [
    "# Create a new table showing the following team statistics\n",
    "\n",
    "![](images/team_stats_ipl.png)"
   ]
  },
  {
   "cell_type": "code",
   "execution_count": 7,
   "id": "a2dc54c8",
   "metadata": {},
   "outputs": [],
   "source": [
    "teams = ['Mumbai Indians', 'Kolkata Knight Riders', 'Rajasthan Royals',\n",
    "         'Royal Challengers Bangalore','Kings XI Punjab',\n",
    "         'Chennai Super Kings','Sunrisers Hyderabad','Delhi Capitals']                "
   ]
  },
  {
   "cell_type": "code",
   "execution_count": 8,
   "id": "9b810102",
   "metadata": {},
   "outputs": [
    {
     "name": "stdout",
     "output_type": "stream",
     "text": [
      "(577, 20)\n"
     ]
    }
   ],
   "source": [
    "top8_ipl_teams = ipl_df.loc[(ipl_df['Team1'].isin(teams)) &\n",
    "                           (ipl_df['Team2'].isin(teams))]\n",
    "print(top8_ipl_teams.shape)"
   ]
  },
  {
   "cell_type": "code",
   "execution_count": 10,
   "id": "fd1104d8",
   "metadata": {},
   "outputs": [],
   "source": [
    "teams_dict = {'Mumbai Indians' : \"MI\", 'Kolkata Knight Riders': \"KKR\", \n",
    "              'Rajasthan Royals': \"RR\", 'Royal Challengers Bangalore': 'RCB',\n",
    "              'Kings XI Punjab' : \"KXIP\", 'Chennai Super Kings' : \"CSK\",\n",
    "              'Sunrisers Hyderabad' : \"SRH\",'Delhi Capitals': \"DC\"}               "
   ]
  },
  {
   "cell_type": "code",
   "execution_count": 17,
   "id": "635c5515",
   "metadata": {},
   "outputs": [],
   "source": [
    "top8_ipl_teams[['Team1', 'Team2', 'TossWinner', 'WinningTeam']] = \\\n",
    "top8_ipl_teams[['Team1', 'Team2', 'TossWinner', 'WinningTeam']].replace(teams_dict)"
   ]
  },
  {
   "cell_type": "code",
   "execution_count": 19,
   "id": "94b7619d",
   "metadata": {},
   "outputs": [],
   "source": [
    "top8_ipl_teams['Match'] = top8_ipl_teams['Team1'] + \" \" + \"Vs\" + \\\n",
    "\" \" + top8_ipl_teams['Team2']"
   ]
  },
  {
   "cell_type": "code",
   "execution_count": 30,
   "id": "c9b52a11",
   "metadata": {},
   "outputs": [],
   "source": [
    "team_stats_dict = {}\n",
    "for row in top8_ipl_teams.values:\n",
    "    teams = row[-1].split('Vs')\n",
    "    for team in teams:\n",
    "        team = team.strip()\n",
    "        if team not in team_stats_dict:\n",
    "            team_stats_dict[team] = 1\n",
    "        else:\n",
    "            team_stats_dict[team] += 1    "
   ]
  },
  {
   "cell_type": "code",
   "execution_count": 31,
   "id": "cd441d9d",
   "metadata": {},
   "outputs": [
    {
     "data": {
      "text/plain": [
       "{'RCB': 170,\n",
       " 'RR': 150,\n",
       " 'DC': 56,\n",
       " 'MI': 176,\n",
       " 'CSK': 165,\n",
       " 'SRH': 122,\n",
       " 'KKR': 172,\n",
       " 'KXIP': 143}"
      ]
     },
     "execution_count": 31,
     "metadata": {},
     "output_type": "execute_result"
    }
   ],
   "source": [
    "team_stats_dict"
   ]
  },
  {
   "cell_type": "code",
   "execution_count": 37,
   "id": "6e5bda77",
   "metadata": {},
   "outputs": [],
   "source": [
    "team_stats_df = top8_ipl_teams['Team1'].value_counts() + \\\n",
    "top8_ipl_teams['Team2'].value_counts()\n",
    "team_stats_df = team_stats_df.to_frame()\n"
   ]
  },
  {
   "cell_type": "code",
   "execution_count": 39,
   "id": "caa0fe14",
   "metadata": {},
   "outputs": [],
   "source": [
    "team_stats_df.reset_index(inplace = True)\n",
    "team_stats_df.columns = ['Teams', 'Match Played']"
   ]
  },
  {
   "cell_type": "code",
   "execution_count": 40,
   "id": "a2079a3d",
   "metadata": {},
   "outputs": [
    {
     "data": {
      "text/html": [
       "<div>\n",
       "<style scoped>\n",
       "    .dataframe tbody tr th:only-of-type {\n",
       "        vertical-align: middle;\n",
       "    }\n",
       "\n",
       "    .dataframe tbody tr th {\n",
       "        vertical-align: top;\n",
       "    }\n",
       "\n",
       "    .dataframe thead th {\n",
       "        text-align: right;\n",
       "    }\n",
       "</style>\n",
       "<table border=\"1\" class=\"dataframe\">\n",
       "  <thead>\n",
       "    <tr style=\"text-align: right;\">\n",
       "      <th></th>\n",
       "      <th>Teams</th>\n",
       "      <th>Match Played</th>\n",
       "    </tr>\n",
       "  </thead>\n",
       "  <tbody>\n",
       "    <tr>\n",
       "      <th>0</th>\n",
       "      <td>CSK</td>\n",
       "      <td>165</td>\n",
       "    </tr>\n",
       "    <tr>\n",
       "      <th>1</th>\n",
       "      <td>DC</td>\n",
       "      <td>56</td>\n",
       "    </tr>\n",
       "    <tr>\n",
       "      <th>2</th>\n",
       "      <td>KKR</td>\n",
       "      <td>172</td>\n",
       "    </tr>\n",
       "    <tr>\n",
       "      <th>3</th>\n",
       "      <td>KXIP</td>\n",
       "      <td>143</td>\n",
       "    </tr>\n",
       "    <tr>\n",
       "      <th>4</th>\n",
       "      <td>MI</td>\n",
       "      <td>176</td>\n",
       "    </tr>\n",
       "  </tbody>\n",
       "</table>\n",
       "</div>"
      ],
      "text/plain": [
       "  Teams  Match Played\n",
       "0   CSK           165\n",
       "1    DC            56\n",
       "2   KKR           172\n",
       "3  KXIP           143\n",
       "4    MI           176"
      ]
     },
     "execution_count": 40,
     "metadata": {},
     "output_type": "execute_result"
    }
   ],
   "source": [
    "team_stats_df.head()"
   ]
  },
  {
   "cell_type": "code",
   "execution_count": 49,
   "id": "ea22279f",
   "metadata": {},
   "outputs": [
    {
     "data": {
      "text/html": [
       "<div>\n",
       "<style scoped>\n",
       "    .dataframe tbody tr th:only-of-type {\n",
       "        vertical-align: middle;\n",
       "    }\n",
       "\n",
       "    .dataframe tbody tr th {\n",
       "        vertical-align: top;\n",
       "    }\n",
       "\n",
       "    .dataframe thead th {\n",
       "        text-align: right;\n",
       "    }\n",
       "</style>\n",
       "<table border=\"1\" class=\"dataframe\">\n",
       "  <thead>\n",
       "    <tr style=\"text-align: right;\">\n",
       "      <th></th>\n",
       "      <th>Teams</th>\n",
       "      <th>Matches Won</th>\n",
       "    </tr>\n",
       "  </thead>\n",
       "  <tbody>\n",
       "    <tr>\n",
       "      <th>0</th>\n",
       "      <td>MI</td>\n",
       "      <td>103</td>\n",
       "    </tr>\n",
       "    <tr>\n",
       "      <th>1</th>\n",
       "      <td>CSK</td>\n",
       "      <td>97</td>\n",
       "    </tr>\n",
       "    <tr>\n",
       "      <th>2</th>\n",
       "      <td>KKR</td>\n",
       "      <td>84</td>\n",
       "    </tr>\n",
       "    <tr>\n",
       "      <th>3</th>\n",
       "      <td>RCB</td>\n",
       "      <td>74</td>\n",
       "    </tr>\n",
       "    <tr>\n",
       "      <th>4</th>\n",
       "      <td>RR</td>\n",
       "      <td>69</td>\n",
       "    </tr>\n",
       "  </tbody>\n",
       "</table>\n",
       "</div>"
      ],
      "text/plain": [
       "  Teams  Matches Won\n",
       "0    MI          103\n",
       "1   CSK           97\n",
       "2   KKR           84\n",
       "3   RCB           74\n",
       "4    RR           69"
      ]
     },
     "execution_count": 49,
     "metadata": {},
     "output_type": "execute_result"
    }
   ],
   "source": [
    "team_win_stats = top8_ipl_teams['WinningTeam'].value_counts().to_frame().reset_index()\n",
    "team_win_stats.columns = ['Teams', 'Matches Won']\n",
    "team_win_stats.head()"
   ]
  },
  {
   "cell_type": "markdown",
   "id": "ad4da5db",
   "metadata": {},
   "source": [
    "## Merging team stats and team_win stats dataset"
   ]
  },
  {
   "cell_type": "code",
   "execution_count": 50,
   "id": "ff3b25e1",
   "metadata": {},
   "outputs": [
    {
     "data": {
      "text/html": [
       "<div>\n",
       "<style scoped>\n",
       "    .dataframe tbody tr th:only-of-type {\n",
       "        vertical-align: middle;\n",
       "    }\n",
       "\n",
       "    .dataframe tbody tr th {\n",
       "        vertical-align: top;\n",
       "    }\n",
       "\n",
       "    .dataframe thead th {\n",
       "        text-align: right;\n",
       "    }\n",
       "</style>\n",
       "<table border=\"1\" class=\"dataframe\">\n",
       "  <thead>\n",
       "    <tr style=\"text-align: right;\">\n",
       "      <th></th>\n",
       "      <th>Teams</th>\n",
       "      <th>Match Played</th>\n",
       "      <th>Matches Won</th>\n",
       "    </tr>\n",
       "  </thead>\n",
       "  <tbody>\n",
       "    <tr>\n",
       "      <th>0</th>\n",
       "      <td>CSK</td>\n",
       "      <td>165</td>\n",
       "      <td>97</td>\n",
       "    </tr>\n",
       "    <tr>\n",
       "      <th>1</th>\n",
       "      <td>DC</td>\n",
       "      <td>56</td>\n",
       "      <td>32</td>\n",
       "    </tr>\n",
       "    <tr>\n",
       "      <th>2</th>\n",
       "      <td>KKR</td>\n",
       "      <td>172</td>\n",
       "      <td>84</td>\n",
       "    </tr>\n",
       "    <tr>\n",
       "      <th>3</th>\n",
       "      <td>KXIP</td>\n",
       "      <td>143</td>\n",
       "      <td>60</td>\n",
       "    </tr>\n",
       "    <tr>\n",
       "      <th>4</th>\n",
       "      <td>MI</td>\n",
       "      <td>176</td>\n",
       "      <td>103</td>\n",
       "    </tr>\n",
       "  </tbody>\n",
       "</table>\n",
       "</div>"
      ],
      "text/plain": [
       "  Teams  Match Played  Matches Won\n",
       "0   CSK           165           97\n",
       "1    DC            56           32\n",
       "2   KKR           172           84\n",
       "3  KXIP           143           60\n",
       "4    MI           176          103"
      ]
     },
     "execution_count": 50,
     "metadata": {},
     "output_type": "execute_result"
    }
   ],
   "source": [
    "team_stats = pd.merge(team_stats_df, team_win_stats,\n",
    "                     how = 'inner', on = \"Teams\")\n",
    "team_stats.head()"
   ]
  },
  {
   "cell_type": "code",
   "execution_count": 54,
   "id": "83b69ef9",
   "metadata": {},
   "outputs": [
    {
     "data": {
      "text/html": [
       "<div>\n",
       "<style scoped>\n",
       "    .dataframe tbody tr th:only-of-type {\n",
       "        vertical-align: middle;\n",
       "    }\n",
       "\n",
       "    .dataframe tbody tr th {\n",
       "        vertical-align: top;\n",
       "    }\n",
       "\n",
       "    .dataframe thead th {\n",
       "        text-align: right;\n",
       "    }\n",
       "</style>\n",
       "<table border=\"1\" class=\"dataframe\">\n",
       "  <thead>\n",
       "    <tr style=\"text-align: right;\">\n",
       "      <th></th>\n",
       "      <th>Teams</th>\n",
       "      <th>Tosses Won</th>\n",
       "    </tr>\n",
       "  </thead>\n",
       "  <tbody>\n",
       "    <tr>\n",
       "      <th>0</th>\n",
       "      <td>MI</td>\n",
       "      <td>100</td>\n",
       "    </tr>\n",
       "    <tr>\n",
       "      <th>1</th>\n",
       "      <td>CSK</td>\n",
       "      <td>86</td>\n",
       "    </tr>\n",
       "    <tr>\n",
       "      <th>2</th>\n",
       "      <td>KKR</td>\n",
       "      <td>83</td>\n",
       "    </tr>\n",
       "    <tr>\n",
       "      <th>3</th>\n",
       "      <td>RR</td>\n",
       "      <td>79</td>\n",
       "    </tr>\n",
       "    <tr>\n",
       "      <th>4</th>\n",
       "      <td>RCB</td>\n",
       "      <td>76</td>\n",
       "    </tr>\n",
       "  </tbody>\n",
       "</table>\n",
       "</div>"
      ],
      "text/plain": [
       "  Teams  Tosses Won\n",
       "0    MI         100\n",
       "1   CSK          86\n",
       "2   KKR          83\n",
       "3    RR          79\n",
       "4   RCB          76"
      ]
     },
     "execution_count": 54,
     "metadata": {},
     "output_type": "execute_result"
    }
   ],
   "source": [
    "toss_stats = top8_ipl_teams['TossWinner'].value_counts().to_frame().reset_index()\n",
    "toss_stats.columns = ['Teams', 'Tosses Won']\n",
    "toss_stats.head()"
   ]
  },
  {
   "cell_type": "markdown",
   "id": "23e0e4d0",
   "metadata": {},
   "source": [
    "## Merging toss_stats with team_stats datasets"
   ]
  },
  {
   "cell_type": "code",
   "execution_count": 55,
   "id": "49375539",
   "metadata": {},
   "outputs": [
    {
     "data": {
      "text/html": [
       "<div>\n",
       "<style scoped>\n",
       "    .dataframe tbody tr th:only-of-type {\n",
       "        vertical-align: middle;\n",
       "    }\n",
       "\n",
       "    .dataframe tbody tr th {\n",
       "        vertical-align: top;\n",
       "    }\n",
       "\n",
       "    .dataframe thead th {\n",
       "        text-align: right;\n",
       "    }\n",
       "</style>\n",
       "<table border=\"1\" class=\"dataframe\">\n",
       "  <thead>\n",
       "    <tr style=\"text-align: right;\">\n",
       "      <th></th>\n",
       "      <th>Teams</th>\n",
       "      <th>Match Played</th>\n",
       "      <th>Matches Won</th>\n",
       "      <th>Tosses Won</th>\n",
       "    </tr>\n",
       "  </thead>\n",
       "  <tbody>\n",
       "    <tr>\n",
       "      <th>0</th>\n",
       "      <td>CSK</td>\n",
       "      <td>165</td>\n",
       "      <td>97</td>\n",
       "      <td>86</td>\n",
       "    </tr>\n",
       "    <tr>\n",
       "      <th>1</th>\n",
       "      <td>DC</td>\n",
       "      <td>56</td>\n",
       "      <td>32</td>\n",
       "      <td>32</td>\n",
       "    </tr>\n",
       "    <tr>\n",
       "      <th>2</th>\n",
       "      <td>KKR</td>\n",
       "      <td>172</td>\n",
       "      <td>84</td>\n",
       "      <td>83</td>\n",
       "    </tr>\n",
       "    <tr>\n",
       "      <th>3</th>\n",
       "      <td>KXIP</td>\n",
       "      <td>143</td>\n",
       "      <td>60</td>\n",
       "      <td>63</td>\n",
       "    </tr>\n",
       "    <tr>\n",
       "      <th>4</th>\n",
       "      <td>MI</td>\n",
       "      <td>176</td>\n",
       "      <td>103</td>\n",
       "      <td>100</td>\n",
       "    </tr>\n",
       "  </tbody>\n",
       "</table>\n",
       "</div>"
      ],
      "text/plain": [
       "  Teams  Match Played  Matches Won  Tosses Won\n",
       "0   CSK           165           97          86\n",
       "1    DC            56           32          32\n",
       "2   KKR           172           84          83\n",
       "3  KXIP           143           60          63\n",
       "4    MI           176          103         100"
      ]
     },
     "execution_count": 55,
     "metadata": {},
     "output_type": "execute_result"
    }
   ],
   "source": [
    "team_stats = pd.merge(team_stats, toss_stats, how = 'inner', \n",
    "                     on = 'Teams')\n",
    "team_stats.head()"
   ]
  },
  {
   "cell_type": "code",
   "execution_count": 64,
   "id": "b8c34088",
   "metadata": {},
   "outputs": [
    {
     "data": {
      "text/plain": [
       "Wickets      310\n",
       "Runs         253\n",
       "SuperOver     12\n",
       "NoResults      2\n",
       "Name: WonBy, dtype: int64"
      ]
     },
     "execution_count": 64,
     "metadata": {},
     "output_type": "execute_result"
    }
   ],
   "source": [
    "top8_ipl_teams['WonBy'].value_counts()"
   ]
  },
  {
   "cell_type": "code",
   "execution_count": 67,
   "id": "17f303f4",
   "metadata": {},
   "outputs": [
    {
     "data": {
      "text/plain": [
       "Team1  WonBy    \n",
       "CSK    Runs         43\n",
       "       Wickets      42\n",
       "       SuperOver     1\n",
       "DC     Wickets      13\n",
       "       Runs         12\n",
       "       SuperOver     2\n",
       "KKR    Wickets      50\n",
       "       Runs         31\n",
       "       SuperOver     4\n",
       "KXIP   Runs         36\n",
       "       Wickets      35\n",
       "MI     Wickets      43\n",
       "       Runs         41\n",
       "       SuperOver     2\n",
       "RCB    Wickets      53\n",
       "       Runs         40\n",
       "       NoResults     2\n",
       "       SuperOver     1\n",
       "RR     Wickets      41\n",
       "       Runs         27\n",
       "       SuperOver     1\n",
       "SRH    Wickets      33\n",
       "       Runs         23\n",
       "       SuperOver     1\n",
       "Name: WonBy, dtype: int64"
      ]
     },
     "execution_count": 67,
     "metadata": {},
     "output_type": "execute_result"
    }
   ],
   "source": [
    "top8_ipl_teams.groupby('Team1')['WonBy'].value_counts()"
   ]
  },
  {
   "cell_type": "code",
   "execution_count": 63,
   "id": "5710e173",
   "metadata": {},
   "outputs": [
    {
     "data": {
      "text/html": [
       "<div>\n",
       "<style scoped>\n",
       "    .dataframe tbody tr th:only-of-type {\n",
       "        vertical-align: middle;\n",
       "    }\n",
       "\n",
       "    .dataframe tbody tr th {\n",
       "        vertical-align: top;\n",
       "    }\n",
       "\n",
       "    .dataframe thead th {\n",
       "        text-align: right;\n",
       "    }\n",
       "</style>\n",
       "<table border=\"1\" class=\"dataframe\">\n",
       "  <thead>\n",
       "    <tr style=\"text-align: right;\">\n",
       "      <th></th>\n",
       "      <th>WonBy</th>\n",
       "      <th>TossWinner</th>\n",
       "      <th>TossDecision</th>\n",
       "    </tr>\n",
       "  </thead>\n",
       "  <tbody>\n",
       "    <tr>\n",
       "      <th>296</th>\n",
       "      <td>Wickets</td>\n",
       "      <td>KXIP</td>\n",
       "      <td>field</td>\n",
       "    </tr>\n",
       "    <tr>\n",
       "      <th>316</th>\n",
       "      <td>Wickets</td>\n",
       "      <td>KKR</td>\n",
       "      <td>field</td>\n",
       "    </tr>\n",
       "    <tr>\n",
       "      <th>383</th>\n",
       "      <td>Runs</td>\n",
       "      <td>KXIP</td>\n",
       "      <td>field</td>\n",
       "    </tr>\n",
       "    <tr>\n",
       "      <th>441</th>\n",
       "      <td>Wickets</td>\n",
       "      <td>SRH</td>\n",
       "      <td>bat</td>\n",
       "    </tr>\n",
       "    <tr>\n",
       "      <th>472</th>\n",
       "      <td>Runs</td>\n",
       "      <td>KKR</td>\n",
       "      <td>field</td>\n",
       "    </tr>\n",
       "    <tr>\n",
       "      <th>717</th>\n",
       "      <td>Wickets</td>\n",
       "      <td>RCB</td>\n",
       "      <td>field</td>\n",
       "    </tr>\n",
       "    <tr>\n",
       "      <th>728</th>\n",
       "      <td>Runs</td>\n",
       "      <td>CSK</td>\n",
       "      <td>bat</td>\n",
       "    </tr>\n",
       "    <tr>\n",
       "      <th>860</th>\n",
       "      <td>Runs</td>\n",
       "      <td>CSK</td>\n",
       "      <td>bat</td>\n",
       "    </tr>\n",
       "    <tr>\n",
       "      <th>886</th>\n",
       "      <td>Runs</td>\n",
       "      <td>KKR</td>\n",
       "      <td>field</td>\n",
       "    </tr>\n",
       "    <tr>\n",
       "      <th>908</th>\n",
       "      <td>Runs</td>\n",
       "      <td>KKR</td>\n",
       "      <td>bat</td>\n",
       "    </tr>\n",
       "  </tbody>\n",
       "</table>\n",
       "</div>"
      ],
      "text/plain": [
       "       WonBy TossWinner TossDecision\n",
       "296  Wickets       KXIP        field\n",
       "316  Wickets        KKR        field\n",
       "383     Runs       KXIP        field\n",
       "441  Wickets        SRH          bat\n",
       "472     Runs        KKR        field\n",
       "717  Wickets        RCB        field\n",
       "728     Runs        CSK          bat\n",
       "860     Runs        CSK          bat\n",
       "886     Runs        KKR        field\n",
       "908     Runs        KKR          bat"
      ]
     },
     "execution_count": 63,
     "metadata": {},
     "output_type": "execute_result"
    }
   ],
   "source": [
    "# top8_ipl_teams.loc[top8_ipl_teams['method']==\"D/L\"][['WonBy', \"TossWinner\",\n",
    "#                                                    \"TossDecision\"]]"
   ]
  },
  {
   "cell_type": "markdown",
   "id": "6ee890c8",
   "metadata": {},
   "source": [
    "# Perform an EDA to answer the following questions:\n",
    "\n",
    "<li><b>Which team has won most number of matches ?</b></li>\n",
    "<li><b>Which player has won the player of the match maximum number of times?</b></li>\n",
    "<li><b>Which team has won most player of the match awards?</b></li>\n",
    "<li><b>Which venue is the most popular venue of the IPL?</b></li>\n",
    "<li><b>How many matches are won batting first?</b></li>\n",
    "<li><b>How many matches are won batting second?</b></li>\n"
   ]
  },
  {
   "cell_type": "code",
   "execution_count": 60,
   "id": "117d01a2",
   "metadata": {},
   "outputs": [
    {
     "data": {
      "text/plain": [
       "Index(['ID', 'City', 'Date', 'Season', 'MatchNumber', 'Team1', 'Team2',\n",
       "       'Venue', 'TossWinner', 'TossDecision', 'SuperOver', 'WinningTeam',\n",
       "       'WonBy', 'Margin', 'method', 'Player_of_Match', 'Team1Players',\n",
       "       'Team2Players', 'Umpire1', 'Umpire2', 'Match'],\n",
       "      dtype='object')"
      ]
     },
     "execution_count": 60,
     "metadata": {},
     "output_type": "execute_result"
    }
   ],
   "source": [
    "top8_ipl_teams.columns"
   ]
  },
  {
   "cell_type": "code",
   "execution_count": null,
   "id": "cfb686a0",
   "metadata": {},
   "outputs": [],
   "source": []
  }
 ],
 "metadata": {
  "kernelspec": {
   "display_name": "Python 3 (ipykernel)",
   "language": "python",
   "name": "python3"
  },
  "language_info": {
   "codemirror_mode": {
    "name": "ipython",
    "version": 3
   },
   "file_extension": ".py",
   "mimetype": "text/x-python",
   "name": "python",
   "nbconvert_exporter": "python",
   "pygments_lexer": "ipython3",
   "version": "3.8.0"
  }
 },
 "nbformat": 4,
 "nbformat_minor": 5
}
