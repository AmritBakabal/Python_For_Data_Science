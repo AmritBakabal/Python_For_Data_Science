{
 "cells": [
  {
   "cell_type": "markdown",
   "id": "0199e96a",
   "metadata": {},
   "source": [
    "# NumPy\n",
    "<li>NumPy stands for <b>Numerical Python</b>.</li>\n",
    "<li>NumPy is the fundamental packages for scientific computing in Python.</li>\n",
    "<li>It is a Python library which provides support for large, multi-dimensional arrays and matrices.</li>\n",
    "<li>It also provides support for a large collection of high-level mathematical functions to operate on these arrays and matrices.</li>\n"
   ]
  },
  {
   "cell_type": "markdown",
   "id": "ab7a9df5",
   "metadata": {},
   "source": [
    "## Importance Of NumPy In Python\n",
    "\n",
    "<li>support for wide variety of mathematical operation on arrays and matrices.</li>\n",
    "<li>provides various functions for searching, sorting, performing statistical operations and other basic linear algebric operations.</li>"
   ]
  },
  {
   "cell_type": "markdown",
   "id": "45482246",
   "metadata": {},
   "source": [
    "## Installation Of NumPy\n",
    "<li>Go to your terminal, open and activate your virtual environment and then use the following commands for installing numpy.</li>\n",
    "<code>\n",
    "    pip install numpy\n",
    "</code>\n",
    "\n",
    "\n",
    "## Importing NumPy\n",
    "<li>We need to import numpy if we want to create any numpy arrays and perform any operations on them.</li>\n",
    "<li>We can import numpy package using the following command:</li>\n",
    "<code>\n",
    "import numpy as np\n",
    "</code>"
   ]
  },
  {
   "cell_type": "code",
   "execution_count": 1,
   "id": "28cfc943",
   "metadata": {},
   "outputs": [],
   "source": [
    "import numpy as np"
   ]
  },
  {
   "cell_type": "markdown",
   "id": "394ce9f6",
   "metadata": {},
   "source": [
    "## Creating Numpy Arrays.\n",
    "\n",
    "<li>We can create a numpy array by using the function np.array()</li>\n",
    "<li>Inside the np.array() method, we pass a list of items or a list of list of items.</li>"
   ]
  },
  {
   "cell_type": "code",
   "execution_count": 2,
   "id": "5d288649",
   "metadata": {},
   "outputs": [],
   "source": [
    "numpy_array = np.array([1,2,3,4])"
   ]
  },
  {
   "cell_type": "code",
   "execution_count": 3,
   "id": "05924cbb",
   "metadata": {},
   "outputs": [
    {
     "name": "stdout",
     "output_type": "stream",
     "text": [
      "[1 2 3 4]\n"
     ]
    }
   ],
   "source": [
    "print(numpy_array)"
   ]
  },
  {
   "cell_type": "code",
   "execution_count": 5,
   "id": "07283936",
   "metadata": {},
   "outputs": [
    {
     "name": "stdout",
     "output_type": "stream",
     "text": [
      "<class 'numpy.ndarray'>\n"
     ]
    }
   ],
   "source": [
    "print(type(numpy_array))"
   ]
  },
  {
   "cell_type": "code",
   "execution_count": 4,
   "id": "af8437ba",
   "metadata": {},
   "outputs": [
    {
     "name": "stdout",
     "output_type": "stream",
     "text": [
      "[1, 2, 3, 4]\n"
     ]
    }
   ],
   "source": [
    "a = [1,2,3,4]\n",
    "print(a)"
   ]
  },
  {
   "cell_type": "code",
   "execution_count": 6,
   "id": "c8abd25a",
   "metadata": {},
   "outputs": [
    {
     "name": "stdout",
     "output_type": "stream",
     "text": [
      "<class 'list'>\n"
     ]
    }
   ],
   "source": [
    "print(type(a))"
   ]
  },
  {
   "cell_type": "code",
   "execution_count": 7,
   "id": "75a9797e",
   "metadata": {},
   "outputs": [],
   "source": [
    "list_of_list = [['Ram', 'Thapa', 22], ['Shyam', 'Thapa', 32]]"
   ]
  },
  {
   "cell_type": "code",
   "execution_count": 8,
   "id": "b9b089a5",
   "metadata": {},
   "outputs": [
    {
     "name": "stdout",
     "output_type": "stream",
     "text": [
      "[['Ram' 'Thapa' '22']\n",
      " ['Shyam' 'Thapa' '32']]\n"
     ]
    }
   ],
   "source": [
    "twod_array = np.array(list_of_list)\n",
    "print(twod_array)"
   ]
  },
  {
   "cell_type": "code",
   "execution_count": 9,
   "id": "f9feb046",
   "metadata": {},
   "outputs": [
    {
     "name": "stdout",
     "output_type": "stream",
     "text": [
      "<class 'numpy.ndarray'>\n"
     ]
    }
   ],
   "source": [
    "print(type(twod_array))"
   ]
  },
  {
   "cell_type": "markdown",
   "id": "31589521",
   "metadata": {},
   "source": [
    "### Question\n",
    "\n",
    "<li>Import numpy, and assign it to the alias np.</li>\n",
    "<li>Create a NumPy ndarray from the list [10, 20, 30]. Assign the result to the variable data_ndarray</li>"
   ]
  },
  {
   "cell_type": "code",
   "execution_count": 10,
   "id": "f5dd789a",
   "metadata": {},
   "outputs": [],
   "source": [
    "import numpy as np"
   ]
  },
  {
   "cell_type": "code",
   "execution_count": 11,
   "id": "a3c45015",
   "metadata": {},
   "outputs": [],
   "source": [
    "data_ndarray = np.array([10,20,30])"
   ]
  },
  {
   "cell_type": "code",
   "execution_count": 12,
   "id": "1ca0f3f4",
   "metadata": {},
   "outputs": [
    {
     "name": "stdout",
     "output_type": "stream",
     "text": [
      "[10 20 30]\n"
     ]
    }
   ],
   "source": [
    "print(data_ndarray)"
   ]
  },
  {
   "cell_type": "code",
   "execution_count": 13,
   "id": "9411c626",
   "metadata": {},
   "outputs": [
    {
     "name": "stdout",
     "output_type": "stream",
     "text": [
      "<class 'numpy.ndarray'>\n"
     ]
    }
   ],
   "source": [
    "print(type(data_ndarray))"
   ]
  },
  {
   "cell_type": "code",
   "execution_count": 12,
   "id": "a18866e0",
   "metadata": {},
   "outputs": [],
   "source": []
  },
  {
   "cell_type": "markdown",
   "id": "eae753b2",
   "metadata": {},
   "source": [
    "## NumPy Vs Python Lists\n",
    "<li>Importing module</li>\n",
    "<li>Numerical Operations.</li>\n",
    "<li>consumes less memory.</li>\n",
    "<li>fast as compared to the python itselt.</li>\n",
    "<li>convenient to use.</li>"
   ]
  },
  {
   "cell_type": "markdown",
   "id": "061ee673",
   "metadata": {},
   "source": [
    "## Comparing Numpy With Python Lists\n",
    "\n",
    "<li><b>Size/Memory:</b>Numpy array takes less space than that of Python lists.</li>\n",
    "<li><b>Speed/Performance:</b>It takes less time in Numpy array to compute the same task than that of Python lists.</li>"
   ]
  },
  {
   "cell_type": "markdown",
   "id": "5fd598bc",
   "metadata": {},
   "source": [
    "### Memory Comparision Between NumPy & Python Lists\n",
    "<li>For doing the memory comparision, we have getsizeof() function which can be imported from sys library.</li>\n",
    "<li>We can create a list and numpy array containing the same elements and check their size and compare them.</li>\n"
   ]
  },
  {
   "cell_type": "code",
   "execution_count": 14,
   "id": "f31c11fc",
   "metadata": {},
   "outputs": [],
   "source": [
    "from sys import getsizeof"
   ]
  },
  {
   "cell_type": "code",
   "execution_count": 25,
   "id": "9ee1c6a6",
   "metadata": {},
   "outputs": [
    {
     "name": "stdout",
     "output_type": "stream",
     "text": [
      "8697456\n"
     ]
    }
   ],
   "source": [
    "x_list = [i for i in range(1000000)]\n",
    "size_xlist = getsizeof(x_list)\n",
    "print(size_xlist)"
   ]
  },
  {
   "cell_type": "code",
   "execution_count": 26,
   "id": "dcb87815",
   "metadata": {},
   "outputs": [
    {
     "name": "stdout",
     "output_type": "stream",
     "text": [
      "4000112\n"
     ]
    }
   ],
   "source": [
    "x_array = np.array(x_list)\n",
    "size_xarray = getsizeof(x_array)\n",
    "print(size_xarray)"
   ]
  },
  {
   "cell_type": "code",
   "execution_count": 29,
   "id": "e843563c",
   "metadata": {},
   "outputs": [
    {
     "name": "stdout",
     "output_type": "stream",
     "text": [
      "NumPy array takes 2.1743031195126536 times less space than that of Python list\n"
     ]
    }
   ],
   "source": [
    "print(\"NumPy array takes {} times less space than that of Python list\".format(size_xlist / size_xarray))"
   ]
  },
  {
   "cell_type": "markdown",
   "id": "9eac8a1e",
   "metadata": {},
   "source": [
    "### Speed Comparision Between NumPy Array & Python List\n",
    "<li>For doing the speed comparision, we have to perform same operation with Python list and NumPy arrays.</li>\n",
    "<li>We can calculate the time taken by each operation and then compare their speed or performance.</li>\n",
    "<li>For doing this, we have a time module(library) from which we can calculate the start_time using time.process_time().</li>\n",
    "<li>Similarly, we can also calculate the end_time using the same time.process_time().</li>\n",
    "<li>Here start_time means time before performing operation and end_time mens time after performing operation.</li>\n",
    "<li>This way, we can calculate the time taken by the operation by using end_time - start_time formula.</li>\n",
    "<li>Finally, we can compare both times and see which is faster.</li>"
   ]
  },
  {
   "cell_type": "code",
   "execution_count": 30,
   "id": "39f7d30b",
   "metadata": {},
   "outputs": [],
   "source": [
    "first_list = [i for i in range(1, 100000000)]"
   ]
  },
  {
   "cell_type": "code",
   "execution_count": 31,
   "id": "29f8d07f",
   "metadata": {},
   "outputs": [
    {
     "name": "stdout",
     "output_type": "stream",
     "text": [
      "<class 'list'>\n"
     ]
    }
   ],
   "source": [
    "print(type(first_list))"
   ]
  },
  {
   "cell_type": "code",
   "execution_count": 32,
   "id": "056f3d7d",
   "metadata": {},
   "outputs": [],
   "source": [
    "first_ndarray = np.array(first_list)"
   ]
  },
  {
   "cell_type": "code",
   "execution_count": 33,
   "id": "7e77c080",
   "metadata": {},
   "outputs": [
    {
     "name": "stdout",
     "output_type": "stream",
     "text": [
      "<class 'numpy.ndarray'>\n"
     ]
    }
   ],
   "source": [
    "print(type(first_ndarray))"
   ]
  },
  {
   "cell_type": "code",
   "execution_count": 34,
   "id": "b3a82fe7",
   "metadata": {},
   "outputs": [],
   "source": [
    "import time"
   ]
  },
  {
   "cell_type": "code",
   "execution_count": 35,
   "id": "782f1fb2",
   "metadata": {},
   "outputs": [
    {
     "name": "stdout",
     "output_type": "stream",
     "text": [
      "1.7313156000000163\n"
     ]
    }
   ],
   "source": [
    "start_time = time.perf_counter()\n",
    "sum_first_list = sum(first_list)\n",
    "end_time = time.perf_counter()\n",
    "list_processing_time = end_time - start_time\n",
    "print(list_processing_time)"
   ]
  },
  {
   "cell_type": "code",
   "execution_count": 36,
   "id": "0f548268",
   "metadata": {},
   "outputs": [
    {
     "name": "stdout",
     "output_type": "stream",
     "text": [
      "0.05772589999992306\n"
     ]
    }
   ],
   "source": [
    "start_time = time.perf_counter()\n",
    "sum_first_array = np.sum(first_ndarray)\n",
    "end_time = time.perf_counter()\n",
    "ndarray_processing_time = end_time - start_time\n",
    "print(ndarray_processing_time)"
   ]
  },
  {
   "cell_type": "code",
   "execution_count": 37,
   "id": "a60dc096",
   "metadata": {},
   "outputs": [
    {
     "name": "stdout",
     "output_type": "stream",
     "text": [
      "Operations On NumPy is 29.992007054066267 time faster than that of Python list\n"
     ]
    }
   ],
   "source": [
    "print(\"Operations On NumPy is {} time faster than that of Python list\".format(list_processing_time/ndarray_processing_time))"
   ]
  },
  {
   "cell_type": "markdown",
   "id": "29e20289",
   "metadata": {},
   "source": [
    "## Dimensions In Arrays\n",
    "<li>You can get the number of dimensions, shape (length of each dimension), and size (number of all elements) of the NumPy array with ndim, shape, and size attributes of numpy.ndarray.</li>\n",
    "<li>The built-in function len() returns the size of the first dimension.</li>\n",
    "<li>Number of dimensions of the NumPy array: ndim</li>\n",
    "<li>Shape of the NumPy array: shape</li>\n",
    "<li>Size of the NumPy array: size</li>\n",
    "<li>Size of the first dimension of the NumPy array: len()</li>\n",
    "\n",
    "<ol>\n",
    "    <li><b>One Dimensional Arrays:</b> If an array has only one dimension then it is one dimensional array.</li>\n",
    "    <li><b>Two Dimensional Arrays:</b> If an array has two dimensions along x and y axis then it is two dimensional arrays.</li>\n",
    "    <li><b>Three Dimensional Arrays:</b> If an array has three dimensions along x, y and z axis then it is three dimensional arrays.</li>\n",
    "    <li><b>Higher(N) Dimensional Arrays:</b> If an array has more than three dimensions then such arrays are called n-dimensional  or higher dimensional arrays.</li>\n",
    "</ol>"
   ]
  },
  {
   "cell_type": "code",
   "execution_count": 38,
   "id": "995decd6",
   "metadata": {},
   "outputs": [],
   "source": [
    "onedarray = np.array([1,2,3,4])"
   ]
  },
  {
   "cell_type": "code",
   "execution_count": 39,
   "id": "95c14653",
   "metadata": {},
   "outputs": [
    {
     "data": {
      "text/plain": [
       "1"
      ]
     },
     "execution_count": 39,
     "metadata": {},
     "output_type": "execute_result"
    }
   ],
   "source": [
    "onedarray.ndim"
   ]
  },
  {
   "cell_type": "code",
   "execution_count": 45,
   "id": "b3187dc8",
   "metadata": {},
   "outputs": [
    {
     "data": {
      "text/plain": [
       "(4,)"
      ]
     },
     "execution_count": 45,
     "metadata": {},
     "output_type": "execute_result"
    }
   ],
   "source": [
    "onedarray.shape"
   ]
  },
  {
   "cell_type": "code",
   "execution_count": 47,
   "id": "7f2906b8",
   "metadata": {},
   "outputs": [
    {
     "data": {
      "text/plain": [
       "4"
      ]
     },
     "execution_count": 47,
     "metadata": {},
     "output_type": "execute_result"
    }
   ],
   "source": [
    "onedarray.size"
   ]
  },
  {
   "cell_type": "code",
   "execution_count": 46,
   "id": "6139d51d",
   "metadata": {},
   "outputs": [
    {
     "data": {
      "text/plain": [
       "4"
      ]
     },
     "execution_count": 46,
     "metadata": {},
     "output_type": "execute_result"
    }
   ],
   "source": [
    "len(onedarray)"
   ]
  },
  {
   "cell_type": "code",
   "execution_count": 48,
   "id": "9be38575",
   "metadata": {},
   "outputs": [],
   "source": [
    "twodarray = np.array([[1,2,3,4], [5,6,7,8]])"
   ]
  },
  {
   "cell_type": "code",
   "execution_count": 49,
   "id": "bb16f2ed",
   "metadata": {},
   "outputs": [
    {
     "name": "stdout",
     "output_type": "stream",
     "text": [
      "[[1 2 3 4]\n",
      " [5 6 7 8]]\n"
     ]
    }
   ],
   "source": [
    "print(twodarray)"
   ]
  },
  {
   "cell_type": "code",
   "execution_count": 50,
   "id": "d01e462d",
   "metadata": {},
   "outputs": [
    {
     "data": {
      "text/plain": [
       "2"
      ]
     },
     "execution_count": 50,
     "metadata": {},
     "output_type": "execute_result"
    }
   ],
   "source": [
    "twodarray.ndim"
   ]
  },
  {
   "cell_type": "code",
   "execution_count": 51,
   "id": "688bc5ae",
   "metadata": {},
   "outputs": [
    {
     "data": {
      "text/plain": [
       "8"
      ]
     },
     "execution_count": 51,
     "metadata": {},
     "output_type": "execute_result"
    }
   ],
   "source": [
    "twodarray.size"
   ]
  },
  {
   "cell_type": "code",
   "execution_count": 52,
   "id": "24b7f263",
   "metadata": {},
   "outputs": [
    {
     "data": {
      "text/plain": [
       "(2, 4)"
      ]
     },
     "execution_count": 52,
     "metadata": {},
     "output_type": "execute_result"
    }
   ],
   "source": [
    "twodarray.shape"
   ]
  },
  {
   "cell_type": "code",
   "execution_count": 53,
   "id": "8114d520",
   "metadata": {},
   "outputs": [
    {
     "data": {
      "text/plain": [
       "2"
      ]
     },
     "execution_count": 53,
     "metadata": {},
     "output_type": "execute_result"
    }
   ],
   "source": [
    "len(twodarray)"
   ]
  },
  {
   "cell_type": "code",
   "execution_count": 54,
   "id": "ccd43ce2",
   "metadata": {},
   "outputs": [],
   "source": [
    "threedarray = np.array([[[1, 2, 3], [4, 5, 6]]])"
   ]
  },
  {
   "cell_type": "code",
   "execution_count": 55,
   "id": "7a1fb8a7",
   "metadata": {},
   "outputs": [
    {
     "data": {
      "text/plain": [
       "3"
      ]
     },
     "execution_count": 55,
     "metadata": {},
     "output_type": "execute_result"
    }
   ],
   "source": [
    "threedarray.ndim"
   ]
  },
  {
   "cell_type": "code",
   "execution_count": 56,
   "id": "ffde50b7",
   "metadata": {},
   "outputs": [
    {
     "data": {
      "text/plain": [
       "(1, 2, 3)"
      ]
     },
     "execution_count": 56,
     "metadata": {},
     "output_type": "execute_result"
    }
   ],
   "source": [
    "threedarray.shape"
   ]
  },
  {
   "cell_type": "code",
   "execution_count": 57,
   "id": "beedf626",
   "metadata": {},
   "outputs": [
    {
     "data": {
      "text/plain": [
       "6"
      ]
     },
     "execution_count": 57,
     "metadata": {},
     "output_type": "execute_result"
    }
   ],
   "source": [
    "threedarray.size"
   ]
  },
  {
   "cell_type": "code",
   "execution_count": 58,
   "id": "8b6a908e",
   "metadata": {},
   "outputs": [
    {
     "data": {
      "text/plain": [
       "1"
      ]
     },
     "execution_count": 58,
     "metadata": {},
     "output_type": "execute_result"
    }
   ],
   "source": [
    "len(threedarray)"
   ]
  },
  {
   "cell_type": "code",
   "execution_count": 59,
   "id": "6ceefb96",
   "metadata": {},
   "outputs": [],
   "source": [
    "threedarray2 = np.array([[[1,2,3], [4,5,6]], [[9,8,7], [6,5,4]]])"
   ]
  },
  {
   "cell_type": "code",
   "execution_count": 62,
   "id": "88ce18d0",
   "metadata": {},
   "outputs": [
    {
     "name": "stdout",
     "output_type": "stream",
     "text": [
      "[[[1 2 3]\n",
      "  [4 5 6]]\n",
      "\n",
      " [[9 8 7]\n",
      "  [6 5 4]]]\n"
     ]
    }
   ],
   "source": [
    "print(threedarray2)"
   ]
  },
  {
   "cell_type": "code",
   "execution_count": 60,
   "id": "204a66e4",
   "metadata": {},
   "outputs": [
    {
     "data": {
      "text/plain": [
       "3"
      ]
     },
     "execution_count": 60,
     "metadata": {},
     "output_type": "execute_result"
    }
   ],
   "source": [
    "threedarray2.ndim"
   ]
  },
  {
   "cell_type": "code",
   "execution_count": 61,
   "id": "ef3452fd",
   "metadata": {},
   "outputs": [
    {
     "data": {
      "text/plain": [
       "(2, 2, 3)"
      ]
     },
     "execution_count": 61,
     "metadata": {},
     "output_type": "execute_result"
    }
   ],
   "source": [
    "threedarray2.shape"
   ]
  },
  {
   "cell_type": "code",
   "execution_count": 63,
   "id": "664a3fbf",
   "metadata": {},
   "outputs": [
    {
     "data": {
      "text/plain": [
       "12"
      ]
     },
     "execution_count": 63,
     "metadata": {},
     "output_type": "execute_result"
    }
   ],
   "source": [
    "threedarray2.size"
   ]
  },
  {
   "cell_type": "code",
   "execution_count": 64,
   "id": "7a2102af",
   "metadata": {},
   "outputs": [
    {
     "data": {
      "text/plain": [
       "2"
      ]
     },
     "execution_count": 64,
     "metadata": {},
     "output_type": "execute_result"
    }
   ],
   "source": [
    "len(threedarray2)"
   ]
  },
  {
   "cell_type": "code",
   "execution_count": 67,
   "id": "a5183d7c",
   "metadata": {},
   "outputs": [],
   "source": [
    "fourdarray = np.array([[[[1,2,3,4], [4,3,2,1]]], [[[5,6,7,8], [8,7,6,5]]]])"
   ]
  },
  {
   "cell_type": "code",
   "execution_count": 71,
   "id": "8823cb69",
   "metadata": {},
   "outputs": [
    {
     "name": "stdout",
     "output_type": "stream",
     "text": [
      "[[[[1 2 3 4]\n",
      "   [4 3 2 1]]]\n",
      "\n",
      "\n",
      " [[[5 6 7 8]\n",
      "   [8 7 6 5]]]]\n"
     ]
    }
   ],
   "source": [
    "print(fourdarray)"
   ]
  },
  {
   "cell_type": "code",
   "execution_count": 72,
   "id": "9bf71678",
   "metadata": {},
   "outputs": [
    {
     "data": {
      "text/plain": [
       "4"
      ]
     },
     "execution_count": 72,
     "metadata": {},
     "output_type": "execute_result"
    }
   ],
   "source": [
    "fourdarray.ndim"
   ]
  },
  {
   "cell_type": "code",
   "execution_count": 73,
   "id": "172a31dd",
   "metadata": {},
   "outputs": [
    {
     "data": {
      "text/plain": [
       "(2, 1, 2, 4)"
      ]
     },
     "execution_count": 73,
     "metadata": {},
     "output_type": "execute_result"
    }
   ],
   "source": [
    "fourdarray.shape"
   ]
  },
  {
   "cell_type": "code",
   "execution_count": 74,
   "id": "e4177dbc",
   "metadata": {},
   "outputs": [
    {
     "data": {
      "text/plain": [
       "16"
      ]
     },
     "execution_count": 74,
     "metadata": {},
     "output_type": "execute_result"
    }
   ],
   "source": [
    "fourdarray.size"
   ]
  },
  {
   "cell_type": "code",
   "execution_count": 75,
   "id": "439e55eb",
   "metadata": {},
   "outputs": [
    {
     "data": {
      "text/plain": [
       "2"
      ]
     },
     "execution_count": 75,
     "metadata": {},
     "output_type": "execute_result"
    }
   ],
   "source": [
    "len(fourdarray)"
   ]
  },
  {
   "cell_type": "code",
   "execution_count": 76,
   "id": "638add3d",
   "metadata": {},
   "outputs": [],
   "source": [
    "fivedarray = np.array([1,2,3,4], ndmin = 5)"
   ]
  },
  {
   "cell_type": "code",
   "execution_count": 77,
   "id": "b500687a",
   "metadata": {},
   "outputs": [
    {
     "data": {
      "text/plain": [
       "array([[[[[1, 2, 3, 4]]]]])"
      ]
     },
     "execution_count": 77,
     "metadata": {},
     "output_type": "execute_result"
    }
   ],
   "source": [
    "fivedarray"
   ]
  },
  {
   "cell_type": "code",
   "execution_count": 79,
   "id": "d4b81910",
   "metadata": {},
   "outputs": [
    {
     "data": {
      "text/plain": [
       "5"
      ]
     },
     "execution_count": 79,
     "metadata": {},
     "output_type": "execute_result"
    }
   ],
   "source": [
    "fivedarray.ndim"
   ]
  },
  {
   "cell_type": "code",
   "execution_count": 80,
   "id": "68b6b977",
   "metadata": {},
   "outputs": [
    {
     "data": {
      "text/plain": [
       "(1, 1, 1, 1, 4)"
      ]
     },
     "execution_count": 80,
     "metadata": {},
     "output_type": "execute_result"
    }
   ],
   "source": [
    "fivedarray.shape"
   ]
  },
  {
   "cell_type": "code",
   "execution_count": 81,
   "id": "bafd09a6",
   "metadata": {},
   "outputs": [
    {
     "data": {
      "text/plain": [
       "4"
      ]
     },
     "execution_count": 81,
     "metadata": {},
     "output_type": "execute_result"
    }
   ],
   "source": [
    "fivedarray.size"
   ]
  },
  {
   "cell_type": "markdown",
   "id": "13c39c8d",
   "metadata": {},
   "source": [
    "### Question\n",
    "<li><b>Read the car_details.csv file using csv reader, convert them into lists of lists and then create a numpy array using the lists of list.</b></li>"
   ]
  },
  {
   "cell_type": "code",
   "execution_count": 82,
   "id": "bcc24fb3",
   "metadata": {},
   "outputs": [],
   "source": [
    "from csv import reader\n",
    "file = open('car_details.csv')\n",
    "file_read = reader(file)\n",
    "data = list(file_read)"
   ]
  },
  {
   "cell_type": "code",
   "execution_count": 83,
   "id": "83d89207",
   "metadata": {},
   "outputs": [
    {
     "name": "stdout",
     "output_type": "stream",
     "text": [
      "[['Maruti 800 AC', '2007', '60000', '70000', 'Petrol', 'Individual', 'Manual', 'First Owner'], ['Maruti Wagon R LXI Minor', '2007', '135000', '50000', 'Petrol', 'Individual', 'Manual', 'First Owner'], ['Hyundai Verna 1.6 SX', '2012', '600000', '100000', 'Diesel', 'Individual', 'Manual', 'First Owner'], ['Datsun RediGO T Option', '2017', '250000', '46000', 'Petrol', 'Individual', 'Manual', 'First Owner'], ['Honda Amaze VX i-DTEC', '2014', '450000', '141000', 'Diesel', 'Individual', 'Manual', 'Second Owner']]\n"
     ]
    }
   ],
   "source": [
    "print(data[1:6])"
   ]
  },
  {
   "cell_type": "code",
   "execution_count": 84,
   "id": "bd650a58",
   "metadata": {},
   "outputs": [
    {
     "name": "stdout",
     "output_type": "stream",
     "text": [
      "[['Maruti 800 AC' '2007' '60000' ... 'Individual' 'Manual' 'First Owner']\n",
      " ['Maruti Wagon R LXI Minor' '2007' '135000' ... 'Individual' 'Manual'\n",
      "  'First Owner']\n",
      " ['Hyundai Verna 1.6 SX' '2012' '600000' ... 'Individual' 'Manual'\n",
      "  'First Owner']\n",
      " ...\n",
      " ['Maruti 800 AC BSIII' '2009' '110000' ... 'Individual' 'Manual'\n",
      "  'Second Owner']\n",
      " ['Hyundai Creta 1.6 CRDi SX Option' '2016' '865000' ... 'Individual'\n",
      "  'Manual' 'First Owner']\n",
      " ['Renault KWID RXT' '2016' '225000' ... 'Individual' 'Manual'\n",
      "  'First Owner']]\n"
     ]
    }
   ],
   "source": [
    "csv_array = np.array(data[1:])\n",
    "print(csv_array)"
   ]
  },
  {
   "cell_type": "code",
   "execution_count": 85,
   "id": "a2ca3bc0",
   "metadata": {},
   "outputs": [
    {
     "name": "stdout",
     "output_type": "stream",
     "text": [
      "2\n"
     ]
    }
   ],
   "source": [
    "print(csv_array.ndim)"
   ]
  },
  {
   "cell_type": "code",
   "execution_count": 86,
   "id": "dca3d874",
   "metadata": {},
   "outputs": [
    {
     "name": "stdout",
     "output_type": "stream",
     "text": [
      "(4340, 8)\n"
     ]
    }
   ],
   "source": [
    "print(csv_array.shape)"
   ]
  },
  {
   "cell_type": "code",
   "execution_count": 87,
   "id": "99246f1f",
   "metadata": {},
   "outputs": [
    {
     "name": "stdout",
     "output_type": "stream",
     "text": [
      "34720\n"
     ]
    }
   ],
   "source": [
    "print(csv_array.size)"
   ]
  },
  {
   "cell_type": "code",
   "execution_count": 88,
   "id": "ff568a21",
   "metadata": {},
   "outputs": [
    {
     "name": "stdout",
     "output_type": "stream",
     "text": [
      "4340\n"
     ]
    }
   ],
   "source": [
    "print(len(csv_array))"
   ]
  },
  {
   "cell_type": "markdown",
   "id": "a0141cc1",
   "metadata": {},
   "source": [
    "## Special NumPy Arrays\n",
    "\n",
    "<ol>\n",
    "    <li><b>np.zeros():</b>The zeros() function is used to get a new array of given shape and type, filled with zeros.</li>\n",
    "    <li><b>np.ones():</b>The ones() function is used to get a new array of given shape and type, filled with ones.</li>\n",
    "</ol>"
   ]
  },
  {
   "cell_type": "code",
   "execution_count": 89,
   "id": "a3ae4921",
   "metadata": {},
   "outputs": [
    {
     "name": "stdout",
     "output_type": "stream",
     "text": [
      "[0. 0. 0. 0.]\n",
      "1\n",
      "(4,)\n",
      "4\n"
     ]
    }
   ],
   "source": [
    "zeros_array = np.zeros(4)\n",
    "print(zeros_array)\n",
    "print(zeros_array.ndim)\n",
    "print(zeros_array.shape)\n",
    "print(zeros_array.size)"
   ]
  },
  {
   "cell_type": "code",
   "execution_count": 91,
   "id": "49e671d4",
   "metadata": {},
   "outputs": [
    {
     "name": "stdout",
     "output_type": "stream",
     "text": [
      "[[0. 0. 0. 0. 0.]\n",
      " [0. 0. 0. 0. 0.]\n",
      " [0. 0. 0. 0. 0.]]\n",
      "2\n",
      "(3, 5)\n",
      "15\n"
     ]
    }
   ],
   "source": [
    "zeros_array2d = np.zeros((3,5))\n",
    "print(zeros_array2d)\n",
    "print(zeros_array2d.ndim)\n",
    "print(zeros_array2d.shape)\n",
    "print(zeros_array2d.size)"
   ]
  },
  {
   "cell_type": "code",
   "execution_count": 92,
   "id": "9b4dbf54",
   "metadata": {},
   "outputs": [
    {
     "name": "stdout",
     "output_type": "stream",
     "text": [
      "[[[0. 0.]\n",
      "  [0. 0.]\n",
      "  [0. 0.]\n",
      "  [0. 0.]\n",
      "  [0. 0.]]\n",
      "\n",
      " [[0. 0.]\n",
      "  [0. 0.]\n",
      "  [0. 0.]\n",
      "  [0. 0.]\n",
      "  [0. 0.]]\n",
      "\n",
      " [[0. 0.]\n",
      "  [0. 0.]\n",
      "  [0. 0.]\n",
      "  [0. 0.]\n",
      "  [0. 0.]]]\n",
      "3\n",
      "(3, 5, 2)\n",
      "30\n"
     ]
    }
   ],
   "source": [
    "zeros_array3d = np.zeros((3,5,2))\n",
    "print(zeros_array3d)\n",
    "print(zeros_array3d.ndim)\n",
    "print(zeros_array3d.shape)\n",
    "print(zeros_array3d.size)"
   ]
  },
  {
   "cell_type": "code",
   "execution_count": 93,
   "id": "8017a0c1",
   "metadata": {},
   "outputs": [
    {
     "name": "stdout",
     "output_type": "stream",
     "text": [
      "[[0 0 0 0 0]\n",
      " [0 0 0 0 0]\n",
      " [0 0 0 0 0]]\n",
      "2\n",
      "(3, 5)\n",
      "15\n"
     ]
    }
   ],
   "source": [
    "zeros_array2d = np.zeros((3,5), dtype = 'int')\n",
    "print(zeros_array2d)\n",
    "print(zeros_array2d.ndim)\n",
    "print(zeros_array2d.shape)\n",
    "print(zeros_array2d.size)"
   ]
  },
  {
   "cell_type": "code",
   "execution_count": 94,
   "id": "1e1c7ff7",
   "metadata": {},
   "outputs": [
    {
     "name": "stdout",
     "output_type": "stream",
     "text": [
      "[1. 1. 1. 1.]\n",
      "1\n",
      "(4,)\n",
      "4\n",
      "4\n"
     ]
    }
   ],
   "source": [
    "ones_array = np.ones(4)\n",
    "print(ones_array)\n",
    "print(ones_array.ndim)\n",
    "print(ones_array.shape)\n",
    "print(ones_array.size)\n",
    "print(len(ones_array))"
   ]
  },
  {
   "cell_type": "code",
   "execution_count": 95,
   "id": "90eb794d",
   "metadata": {},
   "outputs": [
    {
     "name": "stdout",
     "output_type": "stream",
     "text": [
      "[[1. 1. 1. 1. 1.]\n",
      " [1. 1. 1. 1. 1.]\n",
      " [1. 1. 1. 1. 1.]\n",
      " [1. 1. 1. 1. 1.]]\n",
      "2\n",
      "(4, 5)\n",
      "20\n",
      "4\n"
     ]
    }
   ],
   "source": [
    "ones_array_2d = np.ones((4, 5))\n",
    "print(ones_array_2d)\n",
    "print(ones_array_2d.ndim)\n",
    "print(ones_array_2d.shape)\n",
    "print(ones_array_2d.size)\n",
    "print(len(ones_array_2d))"
   ]
  },
  {
   "cell_type": "code",
   "execution_count": 96,
   "id": "1e8b6602",
   "metadata": {},
   "outputs": [
    {
     "name": "stdout",
     "output_type": "stream",
     "text": [
      "[[1 1 1 1 1]\n",
      " [1 1 1 1 1]\n",
      " [1 1 1 1 1]\n",
      " [1 1 1 1 1]]\n",
      "2\n",
      "(4, 5)\n",
      "20\n",
      "4\n"
     ]
    }
   ],
   "source": [
    "ones_array_2d = np.ones((4, 5), dtype = 'int')\n",
    "print(ones_array_2d)\n",
    "print(ones_array_2d.ndim)\n",
    "print(ones_array_2d.shape)\n",
    "print(ones_array_2d.size)\n",
    "print(len(ones_array_2d))"
   ]
  },
  {
   "cell_type": "markdown",
   "id": "8f3236b8",
   "metadata": {},
   "source": [
    "<b>3. np.empty():</b>\n",
    "\n",
    "<li>Return a new array of given shape and type, with random values.</li>\n",
    "<li>Note : empty, unlike zeros, does not set the array values to zero, and may therefore be marginally faster.</li>\n",
    "<li>It accepts three parameters. They are as follows:</li>\n",
    "<ol>\n",
    "    <li><b>shape:</b> Shape of the empty array, e.g., (2, 3) or 2.\tRequired</li>\n",
    "    <li><b>dtype:</b> Desired output data-type for the array, e.g, numpy.int8. Default is numpy.float64.\toptional</li>\n",
    "    <li><b>order:</b> Whether to store multi-dimensional data in row-major (C-style) or column-major (Fortran-style) order in memory. optional</li>\n",
    "</ol>"
   ]
  },
  {
   "cell_type": "code",
   "execution_count": 97,
   "id": "7b50ee2f",
   "metadata": {},
   "outputs": [
    {
     "name": "stdout",
     "output_type": "stream",
     "text": [
      "[2.12199579e-314 6.36598737e-314 1.06099790e-313 1.48539705e-313\n",
      " 1.90979621e-313]\n",
      "5\n",
      "1\n",
      "(5,)\n",
      "5\n"
     ]
    }
   ],
   "source": [
    "empty_array1d = np.empty(5)\n",
    "print(empty_array1d)\n",
    "print(empty_array1d.size)\n",
    "print(empty_array1d.ndim)\n",
    "print(empty_array1d.shape)\n",
    "print(len(empty_array1d))"
   ]
  },
  {
   "cell_type": "code",
   "execution_count": 98,
   "id": "f7a780d4",
   "metadata": {},
   "outputs": [
    {
     "name": "stdout",
     "output_type": "stream",
     "text": [
      "[[6.23042070e-307 4.67296746e-307 1.69121096e-306]\n",
      " [1.95821982e-306 1.89146896e-307 7.56571288e-307]]\n",
      "6\n",
      "2\n",
      "(2, 3)\n",
      "2\n"
     ]
    }
   ],
   "source": [
    "empty_array2d = np.empty((2, 3))\n",
    "print(empty_array2d)\n",
    "print(empty_array2d.size)\n",
    "print(empty_array2d.ndim)\n",
    "print(empty_array2d.shape)\n",
    "print(len(empty_array2d))"
   ]
  },
  {
   "cell_type": "code",
   "execution_count": 100,
   "id": "b614f5cb",
   "metadata": {},
   "outputs": [
    {
     "name": "stdout",
     "output_type": "stream",
     "text": [
      "[[  508737360         372   511467904]\n",
      " [        372           0 -2147483648]]\n",
      "6\n",
      "2\n",
      "(2, 3)\n",
      "2\n"
     ]
    }
   ],
   "source": [
    "empty_array2d = np.empty((2, 3),dtype = 'int', order = \"C\")\n",
    "print(empty_array2d)\n",
    "print(empty_array2d.size)\n",
    "print(empty_array2d.ndim)\n",
    "print(empty_array2d.shape)\n",
    "print(len(empty_array2d))"
   ]
  },
  {
   "cell_type": "code",
   "execution_count": 101,
   "id": "92758eb8",
   "metadata": {},
   "outputs": [
    {
     "name": "stdout",
     "output_type": "stream",
     "text": [
      "[[  508737360           0           1]\n",
      " [        372           0 -2147483648]]\n",
      "6\n",
      "2\n",
      "(2, 3)\n",
      "2\n"
     ]
    }
   ],
   "source": [
    "empty_array2d = np.empty((2, 3),dtype = 'int', order = \"F\")\n",
    "print(empty_array2d)\n",
    "print(empty_array2d.size)\n",
    "print(empty_array2d.ndim)\n",
    "print(empty_array2d.shape)\n",
    "print(len(empty_array2d))"
   ]
  },
  {
   "cell_type": "markdown",
   "id": "5a060fd2",
   "metadata": {},
   "source": [
    "<b>4. np.arange()</b>\n",
    "<li>This arange() function is similar like range in Python.</li>\n",
    "<li>np.arange() returns an array with evenly spaced elements as per the interval. The interval mentioned is half-opened i.e. [Start, Stop)</li>\n",
    "<li>It accepts four parameters which are as follows:</li>\n",
    "<ol>\n",
    "    <li>start : [optional] start of interval range. By default start = 0</li>\n",
    "    <li>stop  : end of interval range</li>\n",
    "    <li>step  : [optional] step size of interval. By default step size = 1,</li>  \n",
    "    <li>dtype : type of output array</li>\n",
    "</ol>"
   ]
  },
  {
   "cell_type": "code",
   "execution_count": 103,
   "id": "b4499f74",
   "metadata": {},
   "outputs": [
    {
     "name": "stdout",
     "output_type": "stream",
     "text": [
      "[ 1  2  3  4  5  6  7  8  9 10]\n"
     ]
    }
   ],
   "source": [
    "arrange_array = np.arange(1,11)\n",
    "print(arrange_array)"
   ]
  },
  {
   "cell_type": "code",
   "execution_count": 104,
   "id": "0c154fba",
   "metadata": {},
   "outputs": [
    {
     "name": "stdout",
     "output_type": "stream",
     "text": [
      "[ 1  4  7 10]\n"
     ]
    }
   ],
   "source": [
    "arrange_array = np.arange(1,11, 3)\n",
    "print(arrange_array)"
   ]
  },
  {
   "cell_type": "code",
   "execution_count": 105,
   "id": "e279e21d",
   "metadata": {},
   "outputs": [
    {
     "name": "stdout",
     "output_type": "stream",
     "text": [
      "[ 1.  4.  7. 10.]\n"
     ]
    }
   ],
   "source": [
    "arrange_array = np.arange(1,11, 3, 'float')\n",
    "print(arrange_array)"
   ]
  },
  {
   "cell_type": "code",
   "execution_count": null,
   "id": "ce1fe9e3",
   "metadata": {},
   "outputs": [],
   "source": []
  },
  {
   "cell_type": "markdown",
   "id": "3a1620fe",
   "metadata": {},
   "source": [
    "<b>5.np.eye():</b>\n",
    "<li>An array where diagonal element is filled with 1's.</li>\n",
    "<li>It accepts four parameters which are as follows:</li>\n",
    "<ol>\n",
    "    <li>R: no of rows</li>\n",
    "    <li>C: no of columns</li>\n",
    "    <li>k : [int, optional, 0 by default]\n",
    "          Diagonal we require; k>0 means diagonal above main diagonal or vice versa.</li>\n",
    "    <li>dtype : [optional, float(by Default)] Data type of returned array.</li>\n"
   ]
  },
  {
   "cell_type": "code",
   "execution_count": 108,
   "id": "f3f67b4b",
   "metadata": {},
   "outputs": [
    {
     "name": "stdout",
     "output_type": "stream",
     "text": [
      "[[0. 1. 0. 0. 0. 0.]\n",
      " [0. 0. 1. 0. 0. 0.]\n",
      " [0. 0. 0. 1. 0. 0.]\n",
      " [0. 0. 0. 0. 1. 0.]\n",
      " [0. 0. 0. 0. 0. 1.]]\n"
     ]
    }
   ],
   "source": [
    "diagonal_matrix = np.eye(5,6,k = 1)\n",
    "print(diagonal_matrix)"
   ]
  },
  {
   "cell_type": "code",
   "execution_count": 113,
   "id": "dcbb4f6e",
   "metadata": {},
   "outputs": [
    {
     "name": "stdout",
     "output_type": "stream",
     "text": [
      "[[0. 0. 0. 0. 0. 0.]\n",
      " [0. 0. 0. 0. 0. 0.]\n",
      " [0. 0. 0. 0. 0. 0.]\n",
      " [0. 0. 0. 0. 0. 0.]\n",
      " [1. 0. 0. 0. 0. 0.]]\n"
     ]
    }
   ],
   "source": [
    "diagonal_matrix_2 = np.eye(5,6,k = -4)\n",
    "print(diagonal_matrix_2)"
   ]
  },
  {
   "cell_type": "code",
   "execution_count": 114,
   "id": "2bc693c2",
   "metadata": {},
   "outputs": [
    {
     "name": "stdout",
     "output_type": "stream",
     "text": [
      "[[0 0 0 0 0 0]\n",
      " [0 0 0 0 0 0]\n",
      " [0 0 0 0 0 0]\n",
      " [0 0 0 0 0 0]\n",
      " [1 0 0 0 0 0]]\n"
     ]
    }
   ],
   "source": [
    "diagonal_matrix_3 = np.eye(5,6,k = -4, dtype = 'int')\n",
    "print(diagonal_matrix_3)"
   ]
  },
  {
   "cell_type": "markdown",
   "id": "1ff01241",
   "metadata": {},
   "source": [
    "<b>6. np.linspace():</b> \n",
    "<li>It will create an array with values that are spaced linearly in a specified interval.</li>\n",
    "<li>The numpy.linspace() function returns number spaces evenly w.r.t interval. Similar to numpy.arange() function but instead of step it uses sample number.</li>\n",
    "<li>It accepts 5 parameters. They are as follows:</li>\n",
    "<ol>\n",
    "    <li>start  : [optional] start of interval range. By default start = 0</li>\n",
    "    <li>stop   : end of interval range</li>\n",
    "    <li>retstep : If True, return (samples, step). By default retstep = False</li>\n",
    "    <li>num    : [int, optional] No. of samples to generate</li>\n",
    "    <li>dtype  : type of output array</li>\n",
    "</ol>"
   ]
  },
  {
   "cell_type": "code",
   "execution_count": null,
   "id": "ddcb8cf3",
   "metadata": {},
   "outputs": [],
   "source": []
  },
  {
   "cell_type": "code",
   "execution_count": null,
   "id": "574d5855",
   "metadata": {},
   "outputs": [],
   "source": []
  },
  {
   "cell_type": "code",
   "execution_count": null,
   "id": "5a634960",
   "metadata": {},
   "outputs": [],
   "source": []
  },
  {
   "cell_type": "code",
   "execution_count": null,
   "id": "b401be91",
   "metadata": {},
   "outputs": [],
   "source": []
  },
  {
   "cell_type": "markdown",
   "id": "d040f7e5",
   "metadata": {},
   "source": [
    "## Create Numpy Arrays With Random Numbers\n",
    "\n",
    "<li>Earlier, we read about some special functions with which we can create special numpy arras.</li>\n",
    "<li>If we want our numpy arrays to have random values, then this can be achived by utilizing four special functions which is capable for generating random values.</li>\n",
    "<li>They are:</li>\n",
    "<ol>\n",
    "    <li>rand()</li>\n",
    "    <li>randn()</li>\n",
    "    <li>ranf()</li>\n",
    "    <li>randint()</li>\n",
    "</ol>"
   ]
  },
  {
   "cell_type": "markdown",
   "id": "34cdacaf",
   "metadata": {},
   "source": [
    "<b>1. rand():</b>\n",
    "<li>The numpy.random.rand() function creates an array of specified shape and fills it with random values.</li>\n",
    "<li>This function is used to generate a random value between 0 and 1.</li>"
   ]
  },
  {
   "cell_type": "code",
   "execution_count": null,
   "id": "3d00097e",
   "metadata": {},
   "outputs": [],
   "source": []
  },
  {
   "cell_type": "code",
   "execution_count": null,
   "id": "e465d724",
   "metadata": {},
   "outputs": [],
   "source": [
    "np.random.rand(4)"
   ]
  },
  {
   "cell_type": "code",
   "execution_count": null,
   "id": "700a48e6",
   "metadata": {},
   "outputs": [],
   "source": []
  },
  {
   "cell_type": "markdown",
   "id": "2fe63cfa",
   "metadata": {},
   "source": [
    "<b>2. randn():</b>\n",
    "<li>The numpy.random.randn() function creates an array of specified shape and fills it with random values as per standard normal distribution.</li>\n",
    "<li>This function is used to generate a random value close to zero(0).</li>\n",
    "<li>This function may return positive as well as negative numbers as well.</li>\n"
   ]
  },
  {
   "cell_type": "code",
   "execution_count": null,
   "id": "7edcd64f",
   "metadata": {},
   "outputs": [],
   "source": []
  },
  {
   "cell_type": "code",
   "execution_count": null,
   "id": "56e025cd",
   "metadata": {},
   "outputs": [],
   "source": []
  },
  {
   "cell_type": "code",
   "execution_count": null,
   "id": "97140f19",
   "metadata": {},
   "outputs": [],
   "source": []
  },
  {
   "cell_type": "markdown",
   "id": "bb6f36f8",
   "metadata": {},
   "source": [
    "<b>3.randf():</b>\n",
    "<li>It returns an array of specified shape and fills it with random floats in the half open interval [0.0, 1.0)</li>"
   ]
  },
  {
   "cell_type": "code",
   "execution_count": null,
   "id": "aec4f489",
   "metadata": {},
   "outputs": [],
   "source": []
  },
  {
   "cell_type": "code",
   "execution_count": null,
   "id": "9050e8f9",
   "metadata": {},
   "outputs": [],
   "source": []
  },
  {
   "cell_type": "markdown",
   "id": "b9cc5244",
   "metadata": {},
   "source": [
    "<b>4. randint()</b>\n",
    "<li>This function is used to generate random numbers between a given range.</li>\n",
    "<li>randint() is an inbuilt function of the random module in Python3.</li>\n",
    "<li>It accepts two parameters. They are:</li>\n",
    "<ol>\n",
    "    <li>start: a starting point which is an integer value.</li>\n",
    "    <li>end: an ending point which is also an integer value.</li>"
   ]
  },
  {
   "cell_type": "code",
   "execution_count": null,
   "id": "34baadad",
   "metadata": {},
   "outputs": [],
   "source": []
  },
  {
   "cell_type": "code",
   "execution_count": null,
   "id": "571a325b",
   "metadata": {},
   "outputs": [],
   "source": []
  },
  {
   "cell_type": "code",
   "execution_count": null,
   "id": "05778168",
   "metadata": {},
   "outputs": [],
   "source": []
  },
  {
   "cell_type": "code",
   "execution_count": null,
   "id": "9207a044",
   "metadata": {},
   "outputs": [],
   "source": []
  }
 ],
 "metadata": {
  "kernelspec": {
   "display_name": "Python 3 (ipykernel)",
   "language": "python",
   "name": "python3"
  },
  "language_info": {
   "codemirror_mode": {
    "name": "ipython",
    "version": 3
   },
   "file_extension": ".py",
   "mimetype": "text/x-python",
   "name": "python",
   "nbconvert_exporter": "python",
   "pygments_lexer": "ipython3",
   "version": "3.8.0"
  }
 },
 "nbformat": 4,
 "nbformat_minor": 5
}
